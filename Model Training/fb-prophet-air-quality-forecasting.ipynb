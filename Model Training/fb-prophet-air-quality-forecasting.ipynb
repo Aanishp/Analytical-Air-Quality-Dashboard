{
 "cells": [
  {
   "cell_type": "code",
   "execution_count": 1,
   "metadata": {},
   "outputs": [
    {
     "name": "stdout",
     "output_type": "stream",
     "text": [
      "\n",
      "Processing city: Bangalore\n",
      "  Training model for region: btm,-bangalore-air-quality.csv\n",
      "    Training model for pollutant: AQI\n"
     ]
    },
    {
     "name": "stderr",
     "output_type": "stream",
     "text": [
      "20:52:13 - cmdstanpy - INFO - Chain [1] start processing\n",
      "20:52:16 - cmdstanpy - INFO - Chain [1] done processing\n"
     ]
    },
    {
     "name": "stdout",
     "output_type": "stream",
     "text": [
      "    Model training successful for AQI\n",
      "    Performing cross-validation for AQI\n"
     ]
    },
    {
     "data": {
      "application/vnd.jupyter.widget-view+json": {
       "model_id": "8ba5dc034ff044fe946719335ca25e5e",
       "version_major": 2,
       "version_minor": 0
      },
      "text/plain": [
       "  0%|          | 0/16 [00:00<?, ?it/s]"
      ]
     },
     "metadata": {},
     "output_type": "display_data"
    },
    {
     "name": "stderr",
     "output_type": "stream",
     "text": [
      "20:52:16 - cmdstanpy - INFO - Chain [1] start processing\n",
      "20:52:17 - cmdstanpy - INFO - Chain [1] done processing\n",
      "20:52:17 - cmdstanpy - INFO - Chain [1] start processing\n",
      "20:52:17 - cmdstanpy - INFO - Chain [1] done processing\n",
      "20:52:17 - cmdstanpy - INFO - Chain [1] start processing\n",
      "20:52:18 - cmdstanpy - INFO - Chain [1] done processing\n",
      "20:52:18 - cmdstanpy - INFO - Chain [1] start processing\n",
      "20:52:18 - cmdstanpy - INFO - Chain [1] done processing\n",
      "20:52:18 - cmdstanpy - INFO - Chain [1] start processing\n",
      "20:52:19 - cmdstanpy - INFO - Chain [1] done processing\n",
      "20:52:19 - cmdstanpy - INFO - Chain [1] start processing\n",
      "20:52:20 - cmdstanpy - INFO - Chain [1] done processing\n",
      "20:52:20 - cmdstanpy - INFO - Chain [1] start processing\n",
      "20:52:21 - cmdstanpy - INFO - Chain [1] done processing\n",
      "20:52:21 - cmdstanpy - INFO - Chain [1] start processing\n",
      "20:52:22 - cmdstanpy - INFO - Chain [1] done processing\n",
      "20:52:22 - cmdstanpy - INFO - Chain [1] start processing\n",
      "20:52:23 - cmdstanpy - INFO - Chain [1] done processing\n",
      "20:52:23 - cmdstanpy - INFO - Chain [1] start processing\n",
      "20:52:24 - cmdstanpy - INFO - Chain [1] done processing\n",
      "20:52:24 - cmdstanpy - INFO - Chain [1] start processing\n",
      "20:52:26 - cmdstanpy - INFO - Chain [1] done processing\n",
      "20:52:26 - cmdstanpy - INFO - Chain [1] start processing\n",
      "20:52:28 - cmdstanpy - INFO - Chain [1] done processing\n",
      "20:52:28 - cmdstanpy - INFO - Chain [1] start processing\n",
      "20:52:30 - cmdstanpy - INFO - Chain [1] done processing\n",
      "20:52:30 - cmdstanpy - INFO - Chain [1] start processing\n",
      "20:52:33 - cmdstanpy - INFO - Chain [1] done processing\n",
      "20:52:33 - cmdstanpy - INFO - Chain [1] start processing\n",
      "20:52:35 - cmdstanpy - INFO - Chain [1] done processing\n",
      "20:52:35 - cmdstanpy - INFO - Chain [1] start processing\n",
      "20:52:37 - cmdstanpy - INFO - Chain [1] done processing\n",
      "20:52:37 - cmdstanpy - INFO - Chain [1] start processing\n"
     ]
    },
    {
     "name": "stdout",
     "output_type": "stream",
     "text": [
      "    Cross-validation accuracy for AQI: 97.10%\n",
      "    Training model for pollutant: pm25\n"
     ]
    },
    {
     "name": "stderr",
     "output_type": "stream",
     "text": [
      "20:52:39 - cmdstanpy - INFO - Chain [1] done processing\n"
     ]
    },
    {
     "name": "stdout",
     "output_type": "stream",
     "text": [
      "    Model training successful for pm25\n",
      "    Performing cross-validation for pm25\n"
     ]
    },
    {
     "data": {
      "application/vnd.jupyter.widget-view+json": {
       "model_id": "6dace73e6b144106b702678d7c90634b",
       "version_major": 2,
       "version_minor": 0
      },
      "text/plain": [
       "  0%|          | 0/16 [00:00<?, ?it/s]"
      ]
     },
     "metadata": {},
     "output_type": "display_data"
    },
    {
     "name": "stderr",
     "output_type": "stream",
     "text": [
      "20:52:39 - cmdstanpy - INFO - Chain [1] start processing\n",
      "20:52:39 - cmdstanpy - INFO - Chain [1] done processing\n",
      "20:52:39 - cmdstanpy - INFO - Chain [1] start processing\n",
      "20:52:39 - cmdstanpy - INFO - Chain [1] done processing\n",
      "20:52:39 - cmdstanpy - INFO - Chain [1] start processing\n",
      "20:52:39 - cmdstanpy - INFO - Chain [1] done processing\n",
      "20:52:40 - cmdstanpy - INFO - Chain [1] start processing\n",
      "20:52:40 - cmdstanpy - INFO - Chain [1] done processing\n",
      "20:52:40 - cmdstanpy - INFO - Chain [1] start processing\n",
      "20:52:40 - cmdstanpy - INFO - Chain [1] done processing\n",
      "20:52:40 - cmdstanpy - INFO - Chain [1] start processing\n",
      "20:52:41 - cmdstanpy - INFO - Chain [1] done processing\n",
      "20:52:41 - cmdstanpy - INFO - Chain [1] start processing\n",
      "20:52:41 - cmdstanpy - INFO - Chain [1] done processing\n",
      "20:52:41 - cmdstanpy - INFO - Chain [1] start processing\n",
      "20:52:42 - cmdstanpy - INFO - Chain [1] done processing\n",
      "20:52:42 - cmdstanpy - INFO - Chain [1] start processing\n",
      "20:52:42 - cmdstanpy - INFO - Chain [1] done processing\n",
      "20:52:42 - cmdstanpy - INFO - Chain [1] start processing\n",
      "20:52:43 - cmdstanpy - INFO - Chain [1] done processing\n",
      "20:52:43 - cmdstanpy - INFO - Chain [1] start processing\n",
      "20:52:43 - cmdstanpy - INFO - Chain [1] done processing\n",
      "20:52:43 - cmdstanpy - INFO - Chain [1] start processing\n",
      "20:52:44 - cmdstanpy - INFO - Chain [1] done processing\n",
      "20:52:44 - cmdstanpy - INFO - Chain [1] start processing\n",
      "20:52:45 - cmdstanpy - INFO - Chain [1] done processing\n",
      "20:52:45 - cmdstanpy - INFO - Chain [1] start processing\n",
      "20:52:46 - cmdstanpy - INFO - Chain [1] done processing\n",
      "20:52:46 - cmdstanpy - INFO - Chain [1] start processing\n",
      "20:52:47 - cmdstanpy - INFO - Chain [1] done processing\n",
      "20:52:47 - cmdstanpy - INFO - Chain [1] start processing\n",
      "20:52:49 - cmdstanpy - INFO - Chain [1] done processing\n",
      "20:52:49 - cmdstanpy - INFO - Chain [1] start processing\n"
     ]
    },
    {
     "name": "stdout",
     "output_type": "stream",
     "text": [
      "    Cross-validation accuracy for pm25: 90.36%\n",
      "    Training model for pollutant: pm10\n"
     ]
    },
    {
     "name": "stderr",
     "output_type": "stream",
     "text": [
      "20:52:52 - cmdstanpy - INFO - Chain [1] done processing\n"
     ]
    },
    {
     "name": "stdout",
     "output_type": "stream",
     "text": [
      "    Model training successful for pm10\n",
      "    Performing cross-validation for pm10\n"
     ]
    },
    {
     "data": {
      "application/vnd.jupyter.widget-view+json": {
       "model_id": "c935be215e1f4d11b105b4a63aad80b3",
       "version_major": 2,
       "version_minor": 0
      },
      "text/plain": [
       "  0%|          | 0/16 [00:00<?, ?it/s]"
      ]
     },
     "metadata": {},
     "output_type": "display_data"
    },
    {
     "name": "stderr",
     "output_type": "stream",
     "text": [
      "20:52:53 - cmdstanpy - INFO - Chain [1] start processing\n",
      "20:52:53 - cmdstanpy - INFO - Chain [1] done processing\n",
      "20:52:54 - cmdstanpy - INFO - Chain [1] start processing\n",
      "20:52:55 - cmdstanpy - INFO - Chain [1] done processing\n",
      "20:52:56 - cmdstanpy - INFO - Chain [1] start processing\n",
      "20:52:56 - cmdstanpy - INFO - Chain [1] done processing\n",
      "20:52:56 - cmdstanpy - INFO - Chain [1] start processing\n",
      "20:52:57 - cmdstanpy - INFO - Chain [1] done processing\n",
      "20:52:58 - cmdstanpy - INFO - Chain [1] start processing\n",
      "20:52:59 - cmdstanpy - INFO - Chain [1] done processing\n",
      "20:52:59 - cmdstanpy - INFO - Chain [1] start processing\n",
      "20:53:01 - cmdstanpy - INFO - Chain [1] done processing\n",
      "20:53:01 - cmdstanpy - INFO - Chain [1] start processing\n",
      "20:53:04 - cmdstanpy - INFO - Chain [1] done processing\n",
      "20:53:04 - cmdstanpy - INFO - Chain [1] start processing\n"
     ]
    },
    {
     "name": "stdout",
     "output_type": "stream",
     "text": [
      "    Cross-validation accuracy for pm10: 80.66%\n",
      "    Training model for pollutant: no2\n"
     ]
    },
    {
     "name": "stderr",
     "output_type": "stream",
     "text": [
      "20:53:05 - cmdstanpy - INFO - Chain [1] done processing\n"
     ]
    },
    {
     "name": "stdout",
     "output_type": "stream",
     "text": [
      "    Model training successful for no2\n",
      "    Performing cross-validation for no2\n"
     ]
    },
    {
     "data": {
      "application/vnd.jupyter.widget-view+json": {
       "model_id": "ffe1e655e9e54c64b0efafe3b4629fa5",
       "version_major": 2,
       "version_minor": 0
      },
      "text/plain": [
       "  0%|          | 0/16 [00:00<?, ?it/s]"
      ]
     },
     "metadata": {},
     "output_type": "display_data"
    },
    {
     "name": "stderr",
     "output_type": "stream",
     "text": [
      "20:53:05 - cmdstanpy - INFO - Chain [1] start processing\n",
      "20:53:05 - cmdstanpy - INFO - Chain [1] done processing\n",
      "20:53:05 - cmdstanpy - INFO - Chain [1] start processing\n",
      "20:53:06 - cmdstanpy - INFO - Chain [1] done processing\n",
      "20:53:06 - cmdstanpy - INFO - Chain [1] start processing\n",
      "20:53:06 - cmdstanpy - INFO - Chain [1] done processing\n",
      "20:53:06 - cmdstanpy - INFO - Chain [1] start processing\n",
      "20:53:06 - cmdstanpy - INFO - Chain [1] done processing\n",
      "20:53:06 - cmdstanpy - INFO - Chain [1] start processing\n",
      "20:53:07 - cmdstanpy - INFO - Chain [1] done processing\n",
      "20:53:07 - cmdstanpy - INFO - Chain [1] start processing\n",
      "20:53:07 - cmdstanpy - INFO - Chain [1] done processing\n",
      "20:53:07 - cmdstanpy - INFO - Chain [1] start processing\n",
      "20:53:08 - cmdstanpy - INFO - Chain [1] done processing\n",
      "20:53:08 - cmdstanpy - INFO - Chain [1] start processing\n",
      "20:53:09 - cmdstanpy - INFO - Chain [1] done processing\n",
      "20:53:09 - cmdstanpy - INFO - Chain [1] start processing\n",
      "20:53:09 - cmdstanpy - INFO - Chain [1] done processing\n",
      "20:53:09 - cmdstanpy - INFO - Chain [1] start processing\n",
      "20:53:09 - cmdstanpy - INFO - Chain [1] done processing\n",
      "20:53:10 - cmdstanpy - INFO - Chain [1] start processing\n",
      "20:53:10 - cmdstanpy - INFO - Chain [1] done processing\n",
      "20:53:10 - cmdstanpy - INFO - Chain [1] start processing\n",
      "20:53:10 - cmdstanpy - INFO - Chain [1] done processing\n",
      "20:53:11 - cmdstanpy - INFO - Chain [1] start processing\n",
      "20:53:11 - cmdstanpy - INFO - Chain [1] done processing\n",
      "20:53:11 - cmdstanpy - INFO - Chain [1] start processing\n",
      "20:53:12 - cmdstanpy - INFO - Chain [1] done processing\n",
      "20:53:12 - cmdstanpy - INFO - Chain [1] start processing\n",
      "20:53:13 - cmdstanpy - INFO - Chain [1] done processing\n",
      "20:53:13 - cmdstanpy - INFO - Chain [1] start processing\n",
      "20:53:14 - cmdstanpy - INFO - Chain [1] done processing\n",
      "20:53:15 - cmdstanpy - INFO - Chain [1] start processing\n"
     ]
    },
    {
     "name": "stdout",
     "output_type": "stream",
     "text": [
      "    Cross-validation accuracy for no2: 80.57%\n",
      "    Training model for pollutant: so2\n"
     ]
    },
    {
     "name": "stderr",
     "output_type": "stream",
     "text": [
      "20:53:15 - cmdstanpy - INFO - Chain [1] done processing\n"
     ]
    },
    {
     "name": "stdout",
     "output_type": "stream",
     "text": [
      "    Model training successful for so2\n",
      "    Performing cross-validation for so2\n"
     ]
    },
    {
     "data": {
      "application/vnd.jupyter.widget-view+json": {
       "model_id": "6b4ce9d64f1b4fa7884aad3dcf1fe944",
       "version_major": 2,
       "version_minor": 0
      },
      "text/plain": [
       "  0%|          | 0/16 [00:00<?, ?it/s]"
      ]
     },
     "metadata": {},
     "output_type": "display_data"
    },
    {
     "name": "stderr",
     "output_type": "stream",
     "text": [
      "20:53:15 - cmdstanpy - INFO - Chain [1] start processing\n",
      "20:53:15 - cmdstanpy - INFO - Chain [1] done processing\n",
      "20:53:16 - cmdstanpy - INFO - Chain [1] start processing\n",
      "20:53:16 - cmdstanpy - INFO - Chain [1] done processing\n",
      "20:53:16 - cmdstanpy - INFO - Chain [1] start processing\n",
      "20:53:16 - cmdstanpy - INFO - Chain [1] done processing\n",
      "20:53:16 - cmdstanpy - INFO - Chain [1] start processing\n",
      "20:53:16 - cmdstanpy - INFO - Chain [1] done processing\n",
      "20:53:16 - cmdstanpy - INFO - Chain [1] start processing\n",
      "20:53:17 - cmdstanpy - INFO - Chain [1] done processing\n",
      "20:53:17 - cmdstanpy - INFO - Chain [1] start processing\n",
      "20:53:17 - cmdstanpy - INFO - Chain [1] done processing\n",
      "20:53:17 - cmdstanpy - INFO - Chain [1] start processing\n",
      "20:53:17 - cmdstanpy - INFO - Chain [1] done processing\n",
      "20:53:18 - cmdstanpy - INFO - Chain [1] start processing\n",
      "20:53:18 - cmdstanpy - INFO - Chain [1] done processing\n",
      "20:53:18 - cmdstanpy - INFO - Chain [1] start processing\n",
      "20:53:18 - cmdstanpy - INFO - Chain [1] done processing\n",
      "20:53:18 - cmdstanpy - INFO - Chain [1] start processing\n",
      "20:53:19 - cmdstanpy - INFO - Chain [1] done processing\n",
      "20:53:19 - cmdstanpy - INFO - Chain [1] start processing\n",
      "20:53:20 - cmdstanpy - INFO - Chain [1] done processing\n",
      "20:53:20 - cmdstanpy - INFO - Chain [1] start processing\n",
      "20:53:20 - cmdstanpy - INFO - Chain [1] done processing\n",
      "20:53:20 - cmdstanpy - INFO - Chain [1] start processing\n",
      "20:53:20 - cmdstanpy - INFO - Chain [1] done processing\n",
      "20:53:21 - cmdstanpy - INFO - Chain [1] start processing\n",
      "20:53:21 - cmdstanpy - INFO - Chain [1] done processing\n",
      "20:53:21 - cmdstanpy - INFO - Chain [1] start processing\n",
      "20:53:21 - cmdstanpy - INFO - Chain [1] done processing\n",
      "20:53:22 - cmdstanpy - INFO - Chain [1] start processing\n",
      "20:53:22 - cmdstanpy - INFO - Chain [1] done processing\n",
      "20:53:22 - cmdstanpy - INFO - Chain [1] start processing\n"
     ]
    },
    {
     "name": "stdout",
     "output_type": "stream",
     "text": [
      "    Cross-validation accuracy for so2: 65.73%\n",
      "    Training model for pollutant: co\n"
     ]
    },
    {
     "name": "stderr",
     "output_type": "stream",
     "text": [
      "20:53:23 - cmdstanpy - INFO - Chain [1] done processing\n"
     ]
    },
    {
     "name": "stdout",
     "output_type": "stream",
     "text": [
      "    Model training successful for co\n",
      "    Performing cross-validation for co\n"
     ]
    },
    {
     "data": {
      "application/vnd.jupyter.widget-view+json": {
       "model_id": "f132a955986140d1850c7b110e35049e",
       "version_major": 2,
       "version_minor": 0
      },
      "text/plain": [
       "  0%|          | 0/16 [00:00<?, ?it/s]"
      ]
     },
     "metadata": {},
     "output_type": "display_data"
    },
    {
     "name": "stderr",
     "output_type": "stream",
     "text": [
      "20:53:23 - cmdstanpy - INFO - Chain [1] start processing\n",
      "20:53:23 - cmdstanpy - INFO - Chain [1] done processing\n",
      "20:53:23 - cmdstanpy - INFO - Chain [1] start processing\n",
      "20:53:23 - cmdstanpy - INFO - Chain [1] done processing\n",
      "20:53:23 - cmdstanpy - INFO - Chain [1] start processing\n",
      "20:53:23 - cmdstanpy - INFO - Chain [1] done processing\n",
      "20:53:23 - cmdstanpy - INFO - Chain [1] start processing\n",
      "20:53:23 - cmdstanpy - INFO - Chain [1] done processing\n",
      "20:53:24 - cmdstanpy - INFO - Chain [1] start processing\n",
      "20:53:24 - cmdstanpy - INFO - Chain [1] done processing\n",
      "20:53:24 - cmdstanpy - INFO - Chain [1] start processing\n",
      "20:53:24 - cmdstanpy - INFO - Chain [1] done processing\n",
      "20:53:24 - cmdstanpy - INFO - Chain [1] start processing\n",
      "20:53:24 - cmdstanpy - INFO - Chain [1] done processing\n",
      "20:53:24 - cmdstanpy - INFO - Chain [1] start processing\n",
      "20:53:25 - cmdstanpy - INFO - Chain [1] done processing\n",
      "20:53:25 - cmdstanpy - INFO - Chain [1] start processing\n",
      "20:53:25 - cmdstanpy - INFO - Chain [1] done processing\n",
      "20:53:25 - cmdstanpy - INFO - Chain [1] start processing\n",
      "20:53:25 - cmdstanpy - INFO - Chain [1] done processing\n",
      "20:53:25 - cmdstanpy - INFO - Chain [1] start processing\n",
      "20:53:26 - cmdstanpy - INFO - Chain [1] done processing\n",
      "20:53:26 - cmdstanpy - INFO - Chain [1] start processing\n",
      "20:53:26 - cmdstanpy - INFO - Chain [1] done processing\n",
      "20:53:26 - cmdstanpy - INFO - Chain [1] start processing\n",
      "20:53:27 - cmdstanpy - INFO - Chain [1] done processing\n",
      "20:53:27 - cmdstanpy - INFO - Chain [1] start processing\n",
      "20:53:27 - cmdstanpy - INFO - Chain [1] done processing\n",
      "20:53:28 - cmdstanpy - INFO - Chain [1] start processing\n",
      "20:53:28 - cmdstanpy - INFO - Chain [1] done processing\n",
      "20:53:28 - cmdstanpy - INFO - Chain [1] start processing\n",
      "20:53:28 - cmdstanpy - INFO - Chain [1] done processing\n",
      "20:53:29 - cmdstanpy - INFO - Chain [1] start processing\n"
     ]
    },
    {
     "name": "stdout",
     "output_type": "stream",
     "text": [
      "    Cross-validation accuracy for co: 78.46%\n",
      "    Training model for pollutant: o3\n"
     ]
    },
    {
     "name": "stderr",
     "output_type": "stream",
     "text": [
      "20:53:30 - cmdstanpy - INFO - Chain [1] done processing\n"
     ]
    },
    {
     "name": "stdout",
     "output_type": "stream",
     "text": [
      "    Model training successful for o3\n",
      "    Performing cross-validation for o3\n"
     ]
    },
    {
     "data": {
      "application/vnd.jupyter.widget-view+json": {
       "model_id": "1e083364934e4c6699f801fb39180102",
       "version_major": 2,
       "version_minor": 0
      },
      "text/plain": [
       "  0%|          | 0/16 [00:00<?, ?it/s]"
      ]
     },
     "metadata": {},
     "output_type": "display_data"
    },
    {
     "name": "stderr",
     "output_type": "stream",
     "text": [
      "20:53:30 - cmdstanpy - INFO - Chain [1] start processing\n",
      "20:53:30 - cmdstanpy - INFO - Chain [1] done processing\n",
      "20:53:30 - cmdstanpy - INFO - Chain [1] start processing\n",
      "20:53:30 - cmdstanpy - INFO - Chain [1] done processing\n",
      "20:53:30 - cmdstanpy - INFO - Chain [1] start processing\n",
      "20:53:31 - cmdstanpy - INFO - Chain [1] done processing\n",
      "20:53:31 - cmdstanpy - INFO - Chain [1] start processing\n",
      "20:53:31 - cmdstanpy - INFO - Chain [1] done processing\n",
      "20:53:31 - cmdstanpy - INFO - Chain [1] start processing\n",
      "20:53:31 - cmdstanpy - INFO - Chain [1] done processing\n",
      "20:53:31 - cmdstanpy - INFO - Chain [1] start processing\n",
      "20:53:32 - cmdstanpy - INFO - Chain [1] done processing\n",
      "20:53:32 - cmdstanpy - INFO - Chain [1] start processing\n",
      "20:53:32 - cmdstanpy - INFO - Chain [1] done processing\n",
      "20:53:32 - cmdstanpy - INFO - Chain [1] start processing\n",
      "20:53:32 - cmdstanpy - INFO - Chain [1] done processing\n",
      "20:53:32 - cmdstanpy - INFO - Chain [1] start processing\n",
      "20:53:33 - cmdstanpy - INFO - Chain [1] done processing\n",
      "20:53:33 - cmdstanpy - INFO - Chain [1] start processing\n",
      "20:53:33 - cmdstanpy - INFO - Chain [1] done processing\n",
      "20:53:33 - cmdstanpy - INFO - Chain [1] start processing\n",
      "20:53:34 - cmdstanpy - INFO - Chain [1] done processing\n",
      "20:53:34 - cmdstanpy - INFO - Chain [1] start processing\n",
      "20:53:34 - cmdstanpy - INFO - Chain [1] done processing\n",
      "20:53:34 - cmdstanpy - INFO - Chain [1] start processing\n",
      "20:53:35 - cmdstanpy - INFO - Chain [1] done processing\n",
      "20:53:35 - cmdstanpy - INFO - Chain [1] start processing\n",
      "20:53:35 - cmdstanpy - INFO - Chain [1] done processing\n",
      "20:53:35 - cmdstanpy - INFO - Chain [1] start processing\n",
      "20:53:35 - cmdstanpy - INFO - Chain [1] done processing\n",
      "20:53:36 - cmdstanpy - INFO - Chain [1] start processing\n",
      "20:53:36 - cmdstanpy - INFO - Chain [1] done processing\n",
      "20:53:37 - cmdstanpy - INFO - Chain [1] start processing\n"
     ]
    },
    {
     "name": "stdout",
     "output_type": "stream",
     "text": [
      "    Cross-validation accuracy for o3: 69.58%\n",
      "    Saved trained models to ./Prophet_Models/Bangalore/btm,-bangalore-air-quality_prophet_model.pkl\n",
      "  Training model for region: hebbal,-bengaluru-air-quality.csv\n",
      "    Training model for pollutant: AQI\n"
     ]
    },
    {
     "name": "stderr",
     "output_type": "stream",
     "text": [
      "20:53:37 - cmdstanpy - INFO - Chain [1] done processing\n"
     ]
    },
    {
     "name": "stdout",
     "output_type": "stream",
     "text": [
      "    Model training successful for AQI\n",
      "    Performing cross-validation for AQI\n"
     ]
    },
    {
     "data": {
      "application/vnd.jupyter.widget-view+json": {
       "model_id": "2e2efd7c99c648ea8502397e6d445e4f",
       "version_major": 2,
       "version_minor": 0
      },
      "text/plain": [
       "  0%|          | 0/6 [00:00<?, ?it/s]"
      ]
     },
     "metadata": {},
     "output_type": "display_data"
    },
    {
     "name": "stderr",
     "output_type": "stream",
     "text": [
      "20:53:37 - cmdstanpy - INFO - Chain [1] start processing\n",
      "20:53:38 - cmdstanpy - INFO - Chain [1] done processing\n",
      "20:53:38 - cmdstanpy - INFO - Chain [1] start processing\n",
      "20:53:38 - cmdstanpy - INFO - Chain [1] done processing\n",
      "20:53:38 - cmdstanpy - INFO - Chain [1] start processing\n",
      "20:53:38 - cmdstanpy - INFO - Chain [1] done processing\n",
      "20:53:39 - cmdstanpy - INFO - Chain [1] start processing\n",
      "20:53:39 - cmdstanpy - INFO - Chain [1] done processing\n",
      "20:53:39 - cmdstanpy - INFO - Chain [1] start processing\n",
      "20:53:39 - cmdstanpy - INFO - Chain [1] done processing\n",
      "20:53:40 - cmdstanpy - INFO - Chain [1] start processing\n",
      "20:53:40 - cmdstanpy - INFO - Chain [1] done processing\n",
      "20:53:40 - cmdstanpy - INFO - Chain [1] start processing\n"
     ]
    },
    {
     "name": "stdout",
     "output_type": "stream",
     "text": [
      "    Cross-validation accuracy for AQI: 97.89%\n",
      "    Training model for pollutant: pm25\n"
     ]
    },
    {
     "name": "stderr",
     "output_type": "stream",
     "text": [
      "20:53:40 - cmdstanpy - INFO - Chain [1] done processing\n"
     ]
    },
    {
     "name": "stdout",
     "output_type": "stream",
     "text": [
      "    Model training successful for pm25\n",
      "    Performing cross-validation for pm25\n"
     ]
    },
    {
     "data": {
      "application/vnd.jupyter.widget-view+json": {
       "model_id": "3a21a7739c6147dc8e0eb1c7e2950d39",
       "version_major": 2,
       "version_minor": 0
      },
      "text/plain": [
       "  0%|          | 0/6 [00:00<?, ?it/s]"
      ]
     },
     "metadata": {},
     "output_type": "display_data"
    },
    {
     "name": "stderr",
     "output_type": "stream",
     "text": [
      "20:53:40 - cmdstanpy - INFO - Chain [1] start processing\n",
      "20:53:41 - cmdstanpy - INFO - Chain [1] done processing\n",
      "20:53:41 - cmdstanpy - INFO - Chain [1] start processing\n",
      "20:53:41 - cmdstanpy - INFO - Chain [1] done processing\n",
      "20:53:41 - cmdstanpy - INFO - Chain [1] start processing\n",
      "20:53:41 - cmdstanpy - INFO - Chain [1] done processing\n",
      "20:53:41 - cmdstanpy - INFO - Chain [1] start processing\n",
      "20:53:41 - cmdstanpy - INFO - Chain [1] done processing\n",
      "20:53:42 - cmdstanpy - INFO - Chain [1] start processing\n",
      "20:53:42 - cmdstanpy - INFO - Chain [1] done processing\n",
      "20:53:42 - cmdstanpy - INFO - Chain [1] start processing\n",
      "20:53:42 - cmdstanpy - INFO - Chain [1] done processing\n",
      "20:53:42 - cmdstanpy - INFO - Chain [1] start processing\n"
     ]
    },
    {
     "name": "stdout",
     "output_type": "stream",
     "text": [
      "    Cross-validation accuracy for pm25: 91.78%\n",
      "    Training model for pollutant: pm10\n"
     ]
    },
    {
     "name": "stderr",
     "output_type": "stream",
     "text": [
      "20:53:43 - cmdstanpy - INFO - Chain [1] done processing\n"
     ]
    },
    {
     "name": "stdout",
     "output_type": "stream",
     "text": [
      "    Model training successful for pm10\n",
      "    Performing cross-validation for pm10\n"
     ]
    },
    {
     "data": {
      "application/vnd.jupyter.widget-view+json": {
       "model_id": "0d1c93b4e5234ad5b6510326cb745582",
       "version_major": 2,
       "version_minor": 0
      },
      "text/plain": [
       "  0%|          | 0/6 [00:00<?, ?it/s]"
      ]
     },
     "metadata": {},
     "output_type": "display_data"
    },
    {
     "name": "stderr",
     "output_type": "stream",
     "text": [
      "20:53:43 - cmdstanpy - INFO - Chain [1] start processing\n",
      "20:53:43 - cmdstanpy - INFO - Chain [1] done processing\n",
      "20:53:43 - cmdstanpy - INFO - Chain [1] start processing\n",
      "20:53:43 - cmdstanpy - INFO - Chain [1] done processing\n",
      "20:53:43 - cmdstanpy - INFO - Chain [1] start processing\n",
      "20:53:44 - cmdstanpy - INFO - Chain [1] done processing\n",
      "20:53:44 - cmdstanpy - INFO - Chain [1] start processing\n",
      "20:53:44 - cmdstanpy - INFO - Chain [1] done processing\n",
      "20:53:44 - cmdstanpy - INFO - Chain [1] start processing\n",
      "20:53:44 - cmdstanpy - INFO - Chain [1] done processing\n",
      "20:53:44 - cmdstanpy - INFO - Chain [1] start processing\n",
      "20:53:45 - cmdstanpy - INFO - Chain [1] done processing\n",
      "20:53:45 - cmdstanpy - INFO - Chain [1] start processing\n"
     ]
    },
    {
     "name": "stdout",
     "output_type": "stream",
     "text": [
      "    Cross-validation accuracy for pm10: 92.16%\n",
      "    Training model for pollutant: no2\n"
     ]
    },
    {
     "name": "stderr",
     "output_type": "stream",
     "text": [
      "20:53:45 - cmdstanpy - INFO - Chain [1] done processing\n"
     ]
    },
    {
     "name": "stdout",
     "output_type": "stream",
     "text": [
      "    Model training successful for no2\n",
      "    Performing cross-validation for no2\n"
     ]
    },
    {
     "data": {
      "application/vnd.jupyter.widget-view+json": {
       "model_id": "3bc803a1b17a4911a433296ffb94cf13",
       "version_major": 2,
       "version_minor": 0
      },
      "text/plain": [
       "  0%|          | 0/6 [00:00<?, ?it/s]"
      ]
     },
     "metadata": {},
     "output_type": "display_data"
    },
    {
     "name": "stderr",
     "output_type": "stream",
     "text": [
      "20:53:45 - cmdstanpy - INFO - Chain [1] start processing\n",
      "20:53:46 - cmdstanpy - INFO - Chain [1] done processing\n",
      "20:53:46 - cmdstanpy - INFO - Chain [1] start processing\n",
      "20:53:46 - cmdstanpy - INFO - Chain [1] done processing\n",
      "20:53:46 - cmdstanpy - INFO - Chain [1] start processing\n",
      "20:53:46 - cmdstanpy - INFO - Chain [1] done processing\n",
      "20:53:47 - cmdstanpy - INFO - Chain [1] start processing\n",
      "20:53:47 - cmdstanpy - INFO - Chain [1] done processing\n",
      "20:53:47 - cmdstanpy - INFO - Chain [1] start processing\n",
      "20:53:47 - cmdstanpy - INFO - Chain [1] done processing\n",
      "20:53:47 - cmdstanpy - INFO - Chain [1] start processing\n",
      "20:53:48 - cmdstanpy - INFO - Chain [1] done processing\n",
      "20:53:48 - cmdstanpy - INFO - Chain [1] start processing\n"
     ]
    },
    {
     "name": "stdout",
     "output_type": "stream",
     "text": [
      "    Cross-validation accuracy for no2: 9.13%\n",
      "    Training model for pollutant: so2\n"
     ]
    },
    {
     "name": "stderr",
     "output_type": "stream",
     "text": [
      "20:53:48 - cmdstanpy - INFO - Chain [1] done processing\n"
     ]
    },
    {
     "name": "stdout",
     "output_type": "stream",
     "text": [
      "    Model training successful for so2\n",
      "    Performing cross-validation for so2\n"
     ]
    },
    {
     "data": {
      "application/vnd.jupyter.widget-view+json": {
       "model_id": "f62f5e8eebd74cc8ae4fa0c5dc2a82d3",
       "version_major": 2,
       "version_minor": 0
      },
      "text/plain": [
       "  0%|          | 0/6 [00:00<?, ?it/s]"
      ]
     },
     "metadata": {},
     "output_type": "display_data"
    },
    {
     "name": "stderr",
     "output_type": "stream",
     "text": [
      "20:53:48 - cmdstanpy - INFO - Chain [1] start processing\n",
      "20:53:48 - cmdstanpy - INFO - Chain [1] done processing\n",
      "20:53:49 - cmdstanpy - INFO - Chain [1] start processing\n",
      "20:53:49 - cmdstanpy - INFO - Chain [1] done processing\n",
      "20:53:49 - cmdstanpy - INFO - Chain [1] start processing\n",
      "20:53:49 - cmdstanpy - INFO - Chain [1] done processing\n",
      "20:53:49 - cmdstanpy - INFO - Chain [1] start processing\n",
      "20:53:49 - cmdstanpy - INFO - Chain [1] done processing\n",
      "20:53:49 - cmdstanpy - INFO - Chain [1] start processing\n",
      "20:53:50 - cmdstanpy - INFO - Chain [1] done processing\n",
      "20:53:50 - cmdstanpy - INFO - Chain [1] start processing\n",
      "20:53:50 - cmdstanpy - INFO - Chain [1] done processing\n",
      "20:53:50 - cmdstanpy - INFO - Chain [1] start processing\n"
     ]
    },
    {
     "name": "stdout",
     "output_type": "stream",
     "text": [
      "    Cross-validation accuracy for so2: 59.19%\n",
      "    Training model for pollutant: co\n"
     ]
    },
    {
     "name": "stderr",
     "output_type": "stream",
     "text": [
      "20:53:51 - cmdstanpy - INFO - Chain [1] done processing\n"
     ]
    },
    {
     "name": "stdout",
     "output_type": "stream",
     "text": [
      "    Model training successful for co\n",
      "    Performing cross-validation for co\n"
     ]
    },
    {
     "data": {
      "application/vnd.jupyter.widget-view+json": {
       "model_id": "1ba96081f23241d488357ea7de6a9a35",
       "version_major": 2,
       "version_minor": 0
      },
      "text/plain": [
       "  0%|          | 0/6 [00:00<?, ?it/s]"
      ]
     },
     "metadata": {},
     "output_type": "display_data"
    },
    {
     "name": "stderr",
     "output_type": "stream",
     "text": [
      "20:53:51 - cmdstanpy - INFO - Chain [1] start processing\n",
      "20:53:51 - cmdstanpy - INFO - Chain [1] done processing\n",
      "20:53:51 - cmdstanpy - INFO - Chain [1] start processing\n",
      "20:53:51 - cmdstanpy - INFO - Chain [1] done processing\n",
      "20:53:51 - cmdstanpy - INFO - Chain [1] start processing\n",
      "20:53:52 - cmdstanpy - INFO - Chain [1] done processing\n",
      "20:53:52 - cmdstanpy - INFO - Chain [1] start processing\n",
      "20:53:52 - cmdstanpy - INFO - Chain [1] done processing\n",
      "20:53:52 - cmdstanpy - INFO - Chain [1] start processing\n",
      "20:53:52 - cmdstanpy - INFO - Chain [1] done processing\n",
      "20:53:52 - cmdstanpy - INFO - Chain [1] start processing\n",
      "20:53:52 - cmdstanpy - INFO - Chain [1] done processing\n",
      "20:53:53 - cmdstanpy - INFO - Chain [1] start processing\n"
     ]
    },
    {
     "name": "stdout",
     "output_type": "stream",
     "text": [
      "    Cross-validation accuracy for co: 73.98%\n",
      "    Training model for pollutant: o3\n"
     ]
    },
    {
     "name": "stderr",
     "output_type": "stream",
     "text": [
      "20:53:53 - cmdstanpy - INFO - Chain [1] done processing\n"
     ]
    },
    {
     "name": "stdout",
     "output_type": "stream",
     "text": [
      "    Model training successful for o3\n",
      "    Performing cross-validation for o3\n"
     ]
    },
    {
     "data": {
      "application/vnd.jupyter.widget-view+json": {
       "model_id": "b5d2c00a3b234d86b4e65ec5c74d553f",
       "version_major": 2,
       "version_minor": 0
      },
      "text/plain": [
       "  0%|          | 0/6 [00:00<?, ?it/s]"
      ]
     },
     "metadata": {},
     "output_type": "display_data"
    },
    {
     "name": "stderr",
     "output_type": "stream",
     "text": [
      "20:53:53 - cmdstanpy - INFO - Chain [1] start processing\n",
      "20:53:53 - cmdstanpy - INFO - Chain [1] done processing\n",
      "20:53:53 - cmdstanpy - INFO - Chain [1] start processing\n",
      "20:53:53 - cmdstanpy - INFO - Chain [1] done processing\n",
      "20:53:54 - cmdstanpy - INFO - Chain [1] start processing\n",
      "20:53:54 - cmdstanpy - INFO - Chain [1] done processing\n",
      "20:53:54 - cmdstanpy - INFO - Chain [1] start processing\n",
      "20:53:54 - cmdstanpy - INFO - Chain [1] done processing\n",
      "20:53:54 - cmdstanpy - INFO - Chain [1] start processing\n",
      "20:53:54 - cmdstanpy - INFO - Chain [1] done processing\n",
      "20:53:54 - cmdstanpy - INFO - Chain [1] start processing\n",
      "20:53:55 - cmdstanpy - INFO - Chain [1] done processing\n",
      "20:53:55 - cmdstanpy - INFO - Chain [1] start processing\n"
     ]
    },
    {
     "name": "stdout",
     "output_type": "stream",
     "text": [
      "    Cross-validation accuracy for o3: 73.04%\n",
      "    Saved trained models to ./Prophet_Models/Bangalore/hebbal,-bengaluru-air-quality_prophet_model.pkl\n",
      "  Training model for region: peenya,-bangalore-air-quality.csv\n",
      "    Training model for pollutant: AQI\n"
     ]
    },
    {
     "name": "stderr",
     "output_type": "stream",
     "text": [
      "20:53:58 - cmdstanpy - INFO - Chain [1] done processing\n"
     ]
    },
    {
     "name": "stdout",
     "output_type": "stream",
     "text": [
      "    Model training successful for AQI\n",
      "    Performing cross-validation for AQI\n"
     ]
    },
    {
     "data": {
      "application/vnd.jupyter.widget-view+json": {
       "model_id": "458b03460e194edcabe7e233b00a8720",
       "version_major": 2,
       "version_minor": 0
      },
      "text/plain": [
       "  0%|          | 0/16 [00:00<?, ?it/s]"
      ]
     },
     "metadata": {},
     "output_type": "display_data"
    },
    {
     "name": "stderr",
     "output_type": "stream",
     "text": [
      "20:53:58 - cmdstanpy - INFO - Chain [1] start processing\n",
      "20:53:58 - cmdstanpy - INFO - Chain [1] done processing\n",
      "20:53:58 - cmdstanpy - INFO - Chain [1] start processing\n",
      "20:53:59 - cmdstanpy - INFO - Chain [1] done processing\n",
      "20:53:59 - cmdstanpy - INFO - Chain [1] start processing\n",
      "20:53:59 - cmdstanpy - INFO - Chain [1] done processing\n",
      "20:53:59 - cmdstanpy - INFO - Chain [1] start processing\n",
      "20:54:00 - cmdstanpy - INFO - Chain [1] done processing\n",
      "20:54:00 - cmdstanpy - INFO - Chain [1] start processing\n",
      "20:54:01 - cmdstanpy - INFO - Chain [1] done processing\n",
      "20:54:01 - cmdstanpy - INFO - Chain [1] start processing\n",
      "20:54:02 - cmdstanpy - INFO - Chain [1] done processing\n",
      "20:54:02 - cmdstanpy - INFO - Chain [1] start processing\n",
      "20:54:03 - cmdstanpy - INFO - Chain [1] done processing\n",
      "20:54:03 - cmdstanpy - INFO - Chain [1] start processing\n",
      "20:54:04 - cmdstanpy - INFO - Chain [1] done processing\n",
      "20:54:04 - cmdstanpy - INFO - Chain [1] start processing\n",
      "20:54:06 - cmdstanpy - INFO - Chain [1] done processing\n",
      "20:54:06 - cmdstanpy - INFO - Chain [1] start processing\n",
      "20:54:07 - cmdstanpy - INFO - Chain [1] done processing\n",
      "20:54:07 - cmdstanpy - INFO - Chain [1] start processing\n",
      "20:54:09 - cmdstanpy - INFO - Chain [1] done processing\n",
      "20:54:09 - cmdstanpy - INFO - Chain [1] start processing\n",
      "20:54:11 - cmdstanpy - INFO - Chain [1] done processing\n",
      "20:54:11 - cmdstanpy - INFO - Chain [1] start processing\n",
      "20:54:13 - cmdstanpy - INFO - Chain [1] done processing\n",
      "20:54:13 - cmdstanpy - INFO - Chain [1] start processing\n",
      "20:54:15 - cmdstanpy - INFO - Chain [1] done processing\n",
      "20:54:15 - cmdstanpy - INFO - Chain [1] start processing\n",
      "20:54:17 - cmdstanpy - INFO - Chain [1] done processing\n",
      "20:54:18 - cmdstanpy - INFO - Chain [1] start processing\n",
      "20:54:20 - cmdstanpy - INFO - Chain [1] done processing\n",
      "20:54:20 - cmdstanpy - INFO - Chain [1] start processing\n"
     ]
    },
    {
     "name": "stdout",
     "output_type": "stream",
     "text": [
      "    Cross-validation accuracy for AQI: 98.26%\n",
      "    Training model for pollutant: pm25\n"
     ]
    },
    {
     "name": "stderr",
     "output_type": "stream",
     "text": [
      "20:54:21 - cmdstanpy - INFO - Chain [1] done processing\n"
     ]
    },
    {
     "name": "stdout",
     "output_type": "stream",
     "text": [
      "    Model training successful for pm25\n",
      "    Performing cross-validation for pm25\n"
     ]
    },
    {
     "data": {
      "application/vnd.jupyter.widget-view+json": {
       "model_id": "fd03e774865e4452afaec3bf3bad3fb7",
       "version_major": 2,
       "version_minor": 0
      },
      "text/plain": [
       "  0%|          | 0/16 [00:00<?, ?it/s]"
      ]
     },
     "metadata": {},
     "output_type": "display_data"
    },
    {
     "name": "stderr",
     "output_type": "stream",
     "text": [
      "20:54:21 - cmdstanpy - INFO - Chain [1] start processing\n",
      "20:54:21 - cmdstanpy - INFO - Chain [1] done processing\n",
      "20:54:21 - cmdstanpy - INFO - Chain [1] start processing\n",
      "20:54:21 - cmdstanpy - INFO - Chain [1] done processing\n",
      "20:54:22 - cmdstanpy - INFO - Chain [1] start processing\n",
      "20:54:22 - cmdstanpy - INFO - Chain [1] done processing\n",
      "20:54:22 - cmdstanpy - INFO - Chain [1] start processing\n",
      "20:54:22 - cmdstanpy - INFO - Chain [1] done processing\n",
      "20:54:22 - cmdstanpy - INFO - Chain [1] start processing\n",
      "20:54:22 - cmdstanpy - INFO - Chain [1] done processing\n",
      "20:54:23 - cmdstanpy - INFO - Chain [1] start processing\n",
      "20:54:23 - cmdstanpy - INFO - Chain [1] done processing\n",
      "20:54:23 - cmdstanpy - INFO - Chain [1] start processing\n",
      "20:54:23 - cmdstanpy - INFO - Chain [1] done processing\n",
      "20:54:23 - cmdstanpy - INFO - Chain [1] start processing\n",
      "20:54:24 - cmdstanpy - INFO - Chain [1] done processing\n",
      "20:54:24 - cmdstanpy - INFO - Chain [1] start processing\n",
      "20:54:24 - cmdstanpy - INFO - Chain [1] done processing\n",
      "20:54:25 - cmdstanpy - INFO - Chain [1] start processing\n",
      "20:54:25 - cmdstanpy - INFO - Chain [1] done processing\n",
      "20:54:25 - cmdstanpy - INFO - Chain [1] start processing\n",
      "20:54:26 - cmdstanpy - INFO - Chain [1] done processing\n",
      "20:54:26 - cmdstanpy - INFO - Chain [1] start processing\n",
      "20:54:26 - cmdstanpy - INFO - Chain [1] done processing\n",
      "20:54:27 - cmdstanpy - INFO - Chain [1] start processing\n",
      "20:54:27 - cmdstanpy - INFO - Chain [1] done processing\n",
      "20:54:28 - cmdstanpy - INFO - Chain [1] start processing\n",
      "20:54:29 - cmdstanpy - INFO - Chain [1] done processing\n",
      "20:54:29 - cmdstanpy - INFO - Chain [1] start processing\n",
      "20:54:30 - cmdstanpy - INFO - Chain [1] done processing\n",
      "20:54:30 - cmdstanpy - INFO - Chain [1] start processing\n",
      "20:54:31 - cmdstanpy - INFO - Chain [1] done processing\n",
      "20:54:31 - cmdstanpy - INFO - Chain [1] start processing\n"
     ]
    },
    {
     "name": "stdout",
     "output_type": "stream",
     "text": [
      "    Cross-validation accuracy for pm25: 87.51%\n",
      "    Training model for pollutant: pm10\n"
     ]
    },
    {
     "name": "stderr",
     "output_type": "stream",
     "text": [
      "20:54:32 - cmdstanpy - INFO - Chain [1] done processing\n"
     ]
    },
    {
     "name": "stdout",
     "output_type": "stream",
     "text": [
      "    Model training successful for pm10\n",
      "    Performing cross-validation for pm10\n"
     ]
    },
    {
     "data": {
      "application/vnd.jupyter.widget-view+json": {
       "model_id": "4ae2e833a01a4616865d84043786be21",
       "version_major": 2,
       "version_minor": 0
      },
      "text/plain": [
       "  0%|          | 0/16 [00:00<?, ?it/s]"
      ]
     },
     "metadata": {},
     "output_type": "display_data"
    },
    {
     "name": "stderr",
     "output_type": "stream",
     "text": [
      "20:54:32 - cmdstanpy - INFO - Chain [1] start processing\n",
      "20:54:32 - cmdstanpy - INFO - Chain [1] done processing\n",
      "20:54:32 - cmdstanpy - INFO - Chain [1] start processing\n",
      "20:54:33 - cmdstanpy - INFO - Chain [1] done processing\n",
      "20:54:33 - cmdstanpy - INFO - Chain [1] start processing\n",
      "20:54:33 - cmdstanpy - INFO - Chain [1] done processing\n",
      "20:54:33 - cmdstanpy - INFO - Chain [1] start processing\n",
      "20:54:33 - cmdstanpy - INFO - Chain [1] done processing\n",
      "20:54:33 - cmdstanpy - INFO - Chain [1] start processing\n",
      "20:54:34 - cmdstanpy - INFO - Chain [1] done processing\n",
      "20:54:34 - cmdstanpy - INFO - Chain [1] start processing\n",
      "20:54:35 - cmdstanpy - INFO - Chain [1] done processing\n",
      "20:54:35 - cmdstanpy - INFO - Chain [1] start processing\n",
      "20:54:36 - cmdstanpy - INFO - Chain [1] done processing\n",
      "20:54:36 - cmdstanpy - INFO - Chain [1] start processing\n",
      "20:54:37 - cmdstanpy - INFO - Chain [1] done processing\n",
      "20:54:37 - cmdstanpy - INFO - Chain [1] start processing\n",
      "20:54:38 - cmdstanpy - INFO - Chain [1] done processing\n",
      "20:54:38 - cmdstanpy - INFO - Chain [1] start processing\n",
      "20:54:39 - cmdstanpy - INFO - Chain [1] done processing\n",
      "20:54:39 - cmdstanpy - INFO - Chain [1] start processing\n",
      "20:54:41 - cmdstanpy - INFO - Chain [1] done processing\n",
      "20:54:41 - cmdstanpy - INFO - Chain [1] start processing\n",
      "20:54:42 - cmdstanpy - INFO - Chain [1] done processing\n",
      "20:54:42 - cmdstanpy - INFO - Chain [1] start processing\n",
      "20:54:44 - cmdstanpy - INFO - Chain [1] done processing\n",
      "20:54:44 - cmdstanpy - INFO - Chain [1] start processing\n",
      "20:54:45 - cmdstanpy - INFO - Chain [1] done processing\n",
      "20:54:45 - cmdstanpy - INFO - Chain [1] start processing\n",
      "20:54:46 - cmdstanpy - INFO - Chain [1] done processing\n",
      "20:54:46 - cmdstanpy - INFO - Chain [1] start processing\n",
      "20:54:47 - cmdstanpy - INFO - Chain [1] done processing\n",
      "20:54:48 - cmdstanpy - INFO - Chain [1] start processing\n"
     ]
    },
    {
     "name": "stdout",
     "output_type": "stream",
     "text": [
      "    Cross-validation accuracy for pm10: 81.16%\n",
      "    Training model for pollutant: no2\n"
     ]
    },
    {
     "name": "stderr",
     "output_type": "stream",
     "text": [
      "20:54:48 - cmdstanpy - INFO - Chain [1] done processing\n"
     ]
    },
    {
     "name": "stdout",
     "output_type": "stream",
     "text": [
      "    Model training successful for no2\n",
      "    Performing cross-validation for no2\n"
     ]
    },
    {
     "data": {
      "application/vnd.jupyter.widget-view+json": {
       "model_id": "f7105051db94432790effe15cc9f7da0",
       "version_major": 2,
       "version_minor": 0
      },
      "text/plain": [
       "  0%|          | 0/16 [00:00<?, ?it/s]"
      ]
     },
     "metadata": {},
     "output_type": "display_data"
    },
    {
     "name": "stderr",
     "output_type": "stream",
     "text": [
      "20:54:48 - cmdstanpy - INFO - Chain [1] start processing\n",
      "20:54:49 - cmdstanpy - INFO - Chain [1] done processing\n",
      "20:54:49 - cmdstanpy - INFO - Chain [1] start processing\n",
      "20:54:49 - cmdstanpy - INFO - Chain [1] done processing\n",
      "20:54:49 - cmdstanpy - INFO - Chain [1] start processing\n",
      "20:54:49 - cmdstanpy - INFO - Chain [1] done processing\n",
      "20:54:49 - cmdstanpy - INFO - Chain [1] start processing\n",
      "20:54:49 - cmdstanpy - INFO - Chain [1] done processing\n",
      "20:54:49 - cmdstanpy - INFO - Chain [1] start processing\n",
      "20:54:50 - cmdstanpy - INFO - Chain [1] done processing\n",
      "20:54:50 - cmdstanpy - INFO - Chain [1] start processing\n",
      "20:54:50 - cmdstanpy - INFO - Chain [1] done processing\n",
      "20:54:50 - cmdstanpy - INFO - Chain [1] start processing\n",
      "20:54:50 - cmdstanpy - INFO - Chain [1] done processing\n",
      "20:54:50 - cmdstanpy - INFO - Chain [1] start processing\n",
      "20:54:51 - cmdstanpy - INFO - Chain [1] done processing\n",
      "20:54:51 - cmdstanpy - INFO - Chain [1] start processing\n",
      "20:54:51 - cmdstanpy - INFO - Chain [1] done processing\n",
      "20:54:52 - cmdstanpy - INFO - Chain [1] start processing\n",
      "20:54:52 - cmdstanpy - INFO - Chain [1] done processing\n",
      "20:54:52 - cmdstanpy - INFO - Chain [1] start processing\n",
      "20:54:52 - cmdstanpy - INFO - Chain [1] done processing\n",
      "20:54:53 - cmdstanpy - INFO - Chain [1] start processing\n",
      "20:54:53 - cmdstanpy - INFO - Chain [1] done processing\n",
      "20:54:53 - cmdstanpy - INFO - Chain [1] start processing\n",
      "20:54:54 - cmdstanpy - INFO - Chain [1] done processing\n",
      "20:54:54 - cmdstanpy - INFO - Chain [1] start processing\n",
      "20:54:54 - cmdstanpy - INFO - Chain [1] done processing\n",
      "20:54:55 - cmdstanpy - INFO - Chain [1] start processing\n",
      "20:54:55 - cmdstanpy - INFO - Chain [1] done processing\n",
      "20:54:55 - cmdstanpy - INFO - Chain [1] start processing\n",
      "20:54:56 - cmdstanpy - INFO - Chain [1] done processing\n",
      "20:54:56 - cmdstanpy - INFO - Chain [1] start processing\n"
     ]
    },
    {
     "name": "stdout",
     "output_type": "stream",
     "text": [
      "    Cross-validation accuracy for no2: 61.94%\n",
      "    Training model for pollutant: so2\n"
     ]
    },
    {
     "name": "stderr",
     "output_type": "stream",
     "text": [
      "20:54:57 - cmdstanpy - INFO - Chain [1] done processing\n"
     ]
    },
    {
     "name": "stdout",
     "output_type": "stream",
     "text": [
      "    Model training successful for so2\n",
      "    Performing cross-validation for so2\n"
     ]
    },
    {
     "data": {
      "application/vnd.jupyter.widget-view+json": {
       "model_id": "653645245068483e9210cb6ea8226248",
       "version_major": 2,
       "version_minor": 0
      },
      "text/plain": [
       "  0%|          | 0/16 [00:00<?, ?it/s]"
      ]
     },
     "metadata": {},
     "output_type": "display_data"
    },
    {
     "name": "stderr",
     "output_type": "stream",
     "text": [
      "20:54:57 - cmdstanpy - INFO - Chain [1] start processing\n",
      "20:54:57 - cmdstanpy - INFO - Chain [1] done processing\n",
      "20:54:57 - cmdstanpy - INFO - Chain [1] start processing\n",
      "20:54:58 - cmdstanpy - INFO - Chain [1] done processing\n",
      "20:54:58 - cmdstanpy - INFO - Chain [1] start processing\n",
      "20:54:58 - cmdstanpy - INFO - Chain [1] done processing\n",
      "20:54:58 - cmdstanpy - INFO - Chain [1] start processing\n",
      "20:54:58 - cmdstanpy - INFO - Chain [1] done processing\n",
      "20:54:58 - cmdstanpy - INFO - Chain [1] start processing\n",
      "20:54:58 - cmdstanpy - INFO - Chain [1] done processing\n",
      "20:54:58 - cmdstanpy - INFO - Chain [1] start processing\n",
      "20:54:59 - cmdstanpy - INFO - Chain [1] done processing\n",
      "20:54:59 - cmdstanpy - INFO - Chain [1] start processing\n",
      "20:54:59 - cmdstanpy - INFO - Chain [1] done processing\n",
      "20:54:59 - cmdstanpy - INFO - Chain [1] start processing\n",
      "20:54:59 - cmdstanpy - INFO - Chain [1] done processing\n",
      "20:54:59 - cmdstanpy - INFO - Chain [1] start processing\n",
      "20:54:59 - cmdstanpy - INFO - Chain [1] done processing\n",
      "20:55:00 - cmdstanpy - INFO - Chain [1] start processing\n",
      "20:55:00 - cmdstanpy - INFO - Chain [1] done processing\n",
      "20:55:00 - cmdstanpy - INFO - Chain [1] start processing\n",
      "20:55:00 - cmdstanpy - INFO - Chain [1] done processing\n",
      "20:55:00 - cmdstanpy - INFO - Chain [1] start processing\n",
      "20:55:01 - cmdstanpy - INFO - Chain [1] done processing\n",
      "20:55:01 - cmdstanpy - INFO - Chain [1] start processing\n",
      "20:55:01 - cmdstanpy - INFO - Chain [1] done processing\n",
      "20:55:01 - cmdstanpy - INFO - Chain [1] start processing\n",
      "20:55:02 - cmdstanpy - INFO - Chain [1] done processing\n",
      "20:55:02 - cmdstanpy - INFO - Chain [1] start processing\n",
      "20:55:02 - cmdstanpy - INFO - Chain [1] done processing\n",
      "20:55:02 - cmdstanpy - INFO - Chain [1] start processing\n",
      "20:55:03 - cmdstanpy - INFO - Chain [1] done processing\n",
      "20:55:03 - cmdstanpy - INFO - Chain [1] start processing\n"
     ]
    },
    {
     "name": "stdout",
     "output_type": "stream",
     "text": [
      "    Cross-validation accuracy for so2: 66.70%\n",
      "    Training model for pollutant: co\n"
     ]
    },
    {
     "name": "stderr",
     "output_type": "stream",
     "text": [
      "20:55:04 - cmdstanpy - INFO - Chain [1] done processing\n"
     ]
    },
    {
     "name": "stdout",
     "output_type": "stream",
     "text": [
      "    Model training successful for co\n",
      "    Performing cross-validation for co\n"
     ]
    },
    {
     "data": {
      "application/vnd.jupyter.widget-view+json": {
       "model_id": "71c5cbd73f15498590b7bfa3ac5731af",
       "version_major": 2,
       "version_minor": 0
      },
      "text/plain": [
       "  0%|          | 0/16 [00:00<?, ?it/s]"
      ]
     },
     "metadata": {},
     "output_type": "display_data"
    },
    {
     "name": "stderr",
     "output_type": "stream",
     "text": [
      "20:55:04 - cmdstanpy - INFO - Chain [1] start processing\n",
      "20:55:04 - cmdstanpy - INFO - Chain [1] done processing\n",
      "20:55:04 - cmdstanpy - INFO - Chain [1] start processing\n",
      "20:55:04 - cmdstanpy - INFO - Chain [1] done processing\n",
      "20:55:04 - cmdstanpy - INFO - Chain [1] start processing\n",
      "20:55:05 - cmdstanpy - INFO - Chain [1] done processing\n",
      "20:55:05 - cmdstanpy - INFO - Chain [1] start processing\n",
      "20:55:05 - cmdstanpy - INFO - Chain [1] done processing\n",
      "20:55:05 - cmdstanpy - INFO - Chain [1] start processing\n",
      "20:55:05 - cmdstanpy - INFO - Chain [1] done processing\n",
      "20:55:05 - cmdstanpy - INFO - Chain [1] start processing\n",
      "20:55:06 - cmdstanpy - INFO - Chain [1] done processing\n",
      "20:55:06 - cmdstanpy - INFO - Chain [1] start processing\n",
      "20:55:06 - cmdstanpy - INFO - Chain [1] done processing\n",
      "20:55:06 - cmdstanpy - INFO - Chain [1] start processing\n",
      "20:55:06 - cmdstanpy - INFO - Chain [1] done processing\n",
      "20:55:06 - cmdstanpy - INFO - Chain [1] start processing\n",
      "20:55:07 - cmdstanpy - INFO - Chain [1] done processing\n",
      "20:55:07 - cmdstanpy - INFO - Chain [1] start processing\n",
      "20:55:07 - cmdstanpy - INFO - Chain [1] done processing\n",
      "20:55:07 - cmdstanpy - INFO - Chain [1] start processing\n",
      "20:55:08 - cmdstanpy - INFO - Chain [1] done processing\n",
      "20:55:08 - cmdstanpy - INFO - Chain [1] start processing\n",
      "20:55:08 - cmdstanpy - INFO - Chain [1] done processing\n",
      "20:55:09 - cmdstanpy - INFO - Chain [1] start processing\n",
      "20:55:09 - cmdstanpy - INFO - Chain [1] done processing\n",
      "20:55:09 - cmdstanpy - INFO - Chain [1] start processing\n",
      "20:55:10 - cmdstanpy - INFO - Chain [1] done processing\n",
      "20:55:10 - cmdstanpy - INFO - Chain [1] start processing\n",
      "20:55:10 - cmdstanpy - INFO - Chain [1] done processing\n",
      "20:55:10 - cmdstanpy - INFO - Chain [1] start processing\n",
      "20:55:11 - cmdstanpy - INFO - Chain [1] done processing\n",
      "20:55:11 - cmdstanpy - INFO - Chain [1] start processing\n"
     ]
    },
    {
     "name": "stdout",
     "output_type": "stream",
     "text": [
      "    Cross-validation accuracy for co: 75.13%\n",
      "    Training model for pollutant: o3\n"
     ]
    },
    {
     "name": "stderr",
     "output_type": "stream",
     "text": [
      "20:55:12 - cmdstanpy - INFO - Chain [1] done processing\n"
     ]
    },
    {
     "name": "stdout",
     "output_type": "stream",
     "text": [
      "    Model training successful for o3\n",
      "    Performing cross-validation for o3\n"
     ]
    },
    {
     "data": {
      "application/vnd.jupyter.widget-view+json": {
       "model_id": "849e9c0bfa3044acaf3ce98f614939b3",
       "version_major": 2,
       "version_minor": 0
      },
      "text/plain": [
       "  0%|          | 0/16 [00:00<?, ?it/s]"
      ]
     },
     "metadata": {},
     "output_type": "display_data"
    },
    {
     "name": "stderr",
     "output_type": "stream",
     "text": [
      "20:55:13 - cmdstanpy - INFO - Chain [1] start processing\n",
      "20:55:13 - cmdstanpy - INFO - Chain [1] done processing\n",
      "20:55:13 - cmdstanpy - INFO - Chain [1] start processing\n",
      "20:55:14 - cmdstanpy - INFO - Chain [1] done processing\n",
      "20:55:15 - cmdstanpy - INFO - Chain [1] start processing\n",
      "20:55:15 - cmdstanpy - INFO - Chain [1] done processing\n",
      "20:55:15 - cmdstanpy - INFO - Chain [1] start processing\n",
      "20:55:16 - cmdstanpy - INFO - Chain [1] done processing\n",
      "20:55:16 - cmdstanpy - INFO - Chain [1] start processing\n",
      "20:55:17 - cmdstanpy - INFO - Chain [1] done processing\n",
      "20:55:17 - cmdstanpy - INFO - Chain [1] start processing\n",
      "20:55:17 - cmdstanpy - INFO - Chain [1] done processing\n",
      "20:55:17 - cmdstanpy - INFO - Chain [1] start processing\n",
      "20:55:18 - cmdstanpy - INFO - Chain [1] done processing\n",
      "20:55:18 - cmdstanpy - INFO - Chain [1] start processing\n"
     ]
    },
    {
     "name": "stdout",
     "output_type": "stream",
     "text": [
      "    Cross-validation accuracy for o3: 99.33%\n",
      "    Saved trained models to ./Prophet_Models/Bangalore/peenya,-bangalore-air-quality_prophet_model.pkl\n",
      "\n",
      "Processing city: Thiruvananthapuram\n",
      "  Training model for region: plammoodu,-thiruvananthapuram-air-quality.csv\n",
      "    Training model for pollutant: AQI\n"
     ]
    },
    {
     "name": "stderr",
     "output_type": "stream",
     "text": [
      "20:55:19 - cmdstanpy - INFO - Chain [1] done processing\n"
     ]
    },
    {
     "name": "stdout",
     "output_type": "stream",
     "text": [
      "    Model training successful for AQI\n",
      "    Performing cross-validation for AQI\n"
     ]
    },
    {
     "data": {
      "application/vnd.jupyter.widget-view+json": {
       "model_id": "414e2bff599743a4bbd93999931839a6",
       "version_major": 2,
       "version_minor": 0
      },
      "text/plain": [
       "  0%|          | 0/8 [00:00<?, ?it/s]"
      ]
     },
     "metadata": {},
     "output_type": "display_data"
    },
    {
     "name": "stderr",
     "output_type": "stream",
     "text": [
      "20:55:19 - cmdstanpy - INFO - Chain [1] start processing\n",
      "20:55:19 - cmdstanpy - INFO - Chain [1] done processing\n",
      "20:55:19 - cmdstanpy - INFO - Chain [1] start processing\n",
      "20:55:19 - cmdstanpy - INFO - Chain [1] done processing\n",
      "20:55:19 - cmdstanpy - INFO - Chain [1] start processing\n",
      "20:55:20 - cmdstanpy - INFO - Chain [1] done processing\n",
      "20:55:20 - cmdstanpy - INFO - Chain [1] start processing\n",
      "20:55:20 - cmdstanpy - INFO - Chain [1] done processing\n",
      "20:55:20 - cmdstanpy - INFO - Chain [1] start processing\n",
      "20:55:21 - cmdstanpy - INFO - Chain [1] done processing\n",
      "20:55:21 - cmdstanpy - INFO - Chain [1] start processing\n",
      "20:55:21 - cmdstanpy - INFO - Chain [1] done processing\n",
      "20:55:22 - cmdstanpy - INFO - Chain [1] start processing\n",
      "20:55:22 - cmdstanpy - INFO - Chain [1] done processing\n",
      "20:55:22 - cmdstanpy - INFO - Chain [1] start processing\n",
      "20:55:22 - cmdstanpy - INFO - Chain [1] done processing\n",
      "20:55:23 - cmdstanpy - INFO - Chain [1] start processing\n"
     ]
    },
    {
     "name": "stdout",
     "output_type": "stream",
     "text": [
      "    Cross-validation accuracy for AQI: 92.93%\n",
      "    Training model for pollutant: pm25\n"
     ]
    },
    {
     "name": "stderr",
     "output_type": "stream",
     "text": [
      "20:55:23 - cmdstanpy - INFO - Chain [1] done processing\n"
     ]
    },
    {
     "name": "stdout",
     "output_type": "stream",
     "text": [
      "    Model training successful for pm25\n",
      "    Performing cross-validation for pm25\n"
     ]
    },
    {
     "data": {
      "application/vnd.jupyter.widget-view+json": {
       "model_id": "6fd33f34efc84a0a81ce4ae505ea9029",
       "version_major": 2,
       "version_minor": 0
      },
      "text/plain": [
       "  0%|          | 0/8 [00:00<?, ?it/s]"
      ]
     },
     "metadata": {},
     "output_type": "display_data"
    },
    {
     "name": "stderr",
     "output_type": "stream",
     "text": [
      "20:55:23 - cmdstanpy - INFO - Chain [1] start processing\n",
      "20:55:23 - cmdstanpy - INFO - Chain [1] done processing\n",
      "20:55:23 - cmdstanpy - INFO - Chain [1] start processing\n",
      "20:55:23 - cmdstanpy - INFO - Chain [1] done processing\n",
      "20:55:24 - cmdstanpy - INFO - Chain [1] start processing\n",
      "20:55:24 - cmdstanpy - INFO - Chain [1] done processing\n",
      "20:55:24 - cmdstanpy - INFO - Chain [1] start processing\n",
      "20:55:24 - cmdstanpy - INFO - Chain [1] done processing\n",
      "20:55:24 - cmdstanpy - INFO - Chain [1] start processing\n",
      "20:55:25 - cmdstanpy - INFO - Chain [1] done processing\n",
      "20:55:25 - cmdstanpy - INFO - Chain [1] start processing\n",
      "20:55:25 - cmdstanpy - INFO - Chain [1] done processing\n",
      "20:55:25 - cmdstanpy - INFO - Chain [1] start processing\n",
      "20:55:25 - cmdstanpy - INFO - Chain [1] done processing\n",
      "20:55:26 - cmdstanpy - INFO - Chain [1] start processing\n",
      "20:55:26 - cmdstanpy - INFO - Chain [1] done processing\n",
      "20:55:26 - cmdstanpy - INFO - Chain [1] start processing\n"
     ]
    },
    {
     "name": "stdout",
     "output_type": "stream",
     "text": [
      "    Cross-validation accuracy for pm25: 86.52%\n",
      "    Training model for pollutant: pm10\n"
     ]
    },
    {
     "name": "stderr",
     "output_type": "stream",
     "text": [
      "20:55:27 - cmdstanpy - INFO - Chain [1] done processing\n"
     ]
    },
    {
     "name": "stdout",
     "output_type": "stream",
     "text": [
      "    Model training successful for pm10\n",
      "    Performing cross-validation for pm10\n"
     ]
    },
    {
     "data": {
      "application/vnd.jupyter.widget-view+json": {
       "model_id": "9eaf31752ce54dfda42c5bbdadb905b1",
       "version_major": 2,
       "version_minor": 0
      },
      "text/plain": [
       "  0%|          | 0/8 [00:00<?, ?it/s]"
      ]
     },
     "metadata": {},
     "output_type": "display_data"
    },
    {
     "name": "stderr",
     "output_type": "stream",
     "text": [
      "20:55:27 - cmdstanpy - INFO - Chain [1] start processing\n",
      "20:55:27 - cmdstanpy - INFO - Chain [1] done processing\n",
      "20:55:27 - cmdstanpy - INFO - Chain [1] start processing\n",
      "20:55:27 - cmdstanpy - INFO - Chain [1] done processing\n",
      "20:55:28 - cmdstanpy - INFO - Chain [1] start processing\n",
      "20:55:28 - cmdstanpy - INFO - Chain [1] done processing\n",
      "20:55:28 - cmdstanpy - INFO - Chain [1] start processing\n",
      "20:55:28 - cmdstanpy - INFO - Chain [1] done processing\n",
      "20:55:28 - cmdstanpy - INFO - Chain [1] start processing\n",
      "20:55:28 - cmdstanpy - INFO - Chain [1] done processing\n",
      "20:55:29 - cmdstanpy - INFO - Chain [1] start processing\n",
      "20:55:29 - cmdstanpy - INFO - Chain [1] done processing\n",
      "20:55:29 - cmdstanpy - INFO - Chain [1] start processing\n",
      "20:55:29 - cmdstanpy - INFO - Chain [1] done processing\n",
      "20:55:29 - cmdstanpy - INFO - Chain [1] start processing\n",
      "20:55:30 - cmdstanpy - INFO - Chain [1] done processing\n",
      "20:55:30 - cmdstanpy - INFO - Chain [1] start processing\n"
     ]
    },
    {
     "name": "stdout",
     "output_type": "stream",
     "text": [
      "    Cross-validation accuracy for pm10: 86.53%\n",
      "    Training model for pollutant: no2\n"
     ]
    },
    {
     "name": "stderr",
     "output_type": "stream",
     "text": [
      "20:55:30 - cmdstanpy - INFO - Chain [1] done processing\n"
     ]
    },
    {
     "name": "stdout",
     "output_type": "stream",
     "text": [
      "    Model training successful for no2\n",
      "    Performing cross-validation for no2\n"
     ]
    },
    {
     "data": {
      "application/vnd.jupyter.widget-view+json": {
       "model_id": "ed12df8ac4b84460be157e4083f51775",
       "version_major": 2,
       "version_minor": 0
      },
      "text/plain": [
       "  0%|          | 0/8 [00:00<?, ?it/s]"
      ]
     },
     "metadata": {},
     "output_type": "display_data"
    },
    {
     "name": "stderr",
     "output_type": "stream",
     "text": [
      "20:55:31 - cmdstanpy - INFO - Chain [1] start processing\n",
      "20:55:31 - cmdstanpy - INFO - Chain [1] done processing\n",
      "20:55:31 - cmdstanpy - INFO - Chain [1] start processing\n",
      "20:55:31 - cmdstanpy - INFO - Chain [1] done processing\n",
      "20:55:31 - cmdstanpy - INFO - Chain [1] start processing\n",
      "20:55:31 - cmdstanpy - INFO - Chain [1] done processing\n",
      "20:55:32 - cmdstanpy - INFO - Chain [1] start processing\n",
      "20:55:32 - cmdstanpy - INFO - Chain [1] done processing\n",
      "20:55:32 - cmdstanpy - INFO - Chain [1] start processing\n",
      "20:55:32 - cmdstanpy - INFO - Chain [1] done processing\n",
      "20:55:32 - cmdstanpy - INFO - Chain [1] start processing\n",
      "20:55:33 - cmdstanpy - INFO - Chain [1] done processing\n",
      "20:55:33 - cmdstanpy - INFO - Chain [1] start processing\n",
      "20:55:33 - cmdstanpy - INFO - Chain [1] done processing\n",
      "20:55:33 - cmdstanpy - INFO - Chain [1] start processing\n",
      "20:55:34 - cmdstanpy - INFO - Chain [1] done processing\n",
      "20:55:34 - cmdstanpy - INFO - Chain [1] start processing\n"
     ]
    },
    {
     "name": "stdout",
     "output_type": "stream",
     "text": [
      "    Cross-validation accuracy for no2: 50.23%\n",
      "    Training model for pollutant: so2\n"
     ]
    },
    {
     "name": "stderr",
     "output_type": "stream",
     "text": [
      "20:55:35 - cmdstanpy - INFO - Chain [1] done processing\n"
     ]
    },
    {
     "name": "stdout",
     "output_type": "stream",
     "text": [
      "    Model training successful for so2\n",
      "    Performing cross-validation for so2\n"
     ]
    },
    {
     "data": {
      "application/vnd.jupyter.widget-view+json": {
       "model_id": "c942b4f221704ff3bdeb52298d2b2d10",
       "version_major": 2,
       "version_minor": 0
      },
      "text/plain": [
       "  0%|          | 0/8 [00:00<?, ?it/s]"
      ]
     },
     "metadata": {},
     "output_type": "display_data"
    },
    {
     "name": "stderr",
     "output_type": "stream",
     "text": [
      "20:55:35 - cmdstanpy - INFO - Chain [1] start processing\n",
      "20:55:35 - cmdstanpy - INFO - Chain [1] done processing\n",
      "20:55:36 - cmdstanpy - INFO - Chain [1] start processing\n",
      "20:55:36 - cmdstanpy - INFO - Chain [1] done processing\n",
      "20:55:36 - cmdstanpy - INFO - Chain [1] start processing\n",
      "20:55:36 - cmdstanpy - INFO - Chain [1] done processing\n",
      "20:55:37 - cmdstanpy - INFO - Chain [1] start processing\n",
      "20:55:37 - cmdstanpy - INFO - Chain [1] done processing\n",
      "20:55:37 - cmdstanpy - INFO - Chain [1] start processing\n",
      "20:55:37 - cmdstanpy - INFO - Chain [1] done processing\n",
      "20:55:38 - cmdstanpy - INFO - Chain [1] start processing\n",
      "20:55:38 - cmdstanpy - INFO - Chain [1] done processing\n",
      "20:55:38 - cmdstanpy - INFO - Chain [1] start processing\n",
      "20:55:39 - cmdstanpy - INFO - Chain [1] done processing\n",
      "20:55:39 - cmdstanpy - INFO - Chain [1] start processing\n",
      "20:55:40 - cmdstanpy - INFO - Chain [1] done processing\n",
      "20:55:40 - cmdstanpy - INFO - Chain [1] start processing\n"
     ]
    },
    {
     "name": "stdout",
     "output_type": "stream",
     "text": [
      "    Cross-validation accuracy for so2: 67.78%\n",
      "    Training model for pollutant: co\n"
     ]
    },
    {
     "name": "stderr",
     "output_type": "stream",
     "text": [
      "20:55:40 - cmdstanpy - INFO - Chain [1] done processing\n"
     ]
    },
    {
     "name": "stdout",
     "output_type": "stream",
     "text": [
      "    Model training successful for co\n",
      "    Performing cross-validation for co\n"
     ]
    },
    {
     "data": {
      "application/vnd.jupyter.widget-view+json": {
       "model_id": "cf5a1adf0a4c409c910c570bd8e1f5af",
       "version_major": 2,
       "version_minor": 0
      },
      "text/plain": [
       "  0%|          | 0/8 [00:00<?, ?it/s]"
      ]
     },
     "metadata": {},
     "output_type": "display_data"
    },
    {
     "name": "stderr",
     "output_type": "stream",
     "text": [
      "20:55:41 - cmdstanpy - INFO - Chain [1] start processing\n",
      "20:55:41 - cmdstanpy - INFO - Chain [1] done processing\n",
      "20:55:41 - cmdstanpy - INFO - Chain [1] start processing\n",
      "20:55:41 - cmdstanpy - INFO - Chain [1] done processing\n",
      "20:55:41 - cmdstanpy - INFO - Chain [1] start processing\n",
      "20:55:41 - cmdstanpy - INFO - Chain [1] done processing\n",
      "20:55:41 - cmdstanpy - INFO - Chain [1] start processing\n",
      "20:55:42 - cmdstanpy - INFO - Chain [1] done processing\n",
      "20:55:42 - cmdstanpy - INFO - Chain [1] start processing\n",
      "20:55:42 - cmdstanpy - INFO - Chain [1] done processing\n",
      "20:55:42 - cmdstanpy - INFO - Chain [1] start processing\n",
      "20:55:42 - cmdstanpy - INFO - Chain [1] done processing\n",
      "20:55:43 - cmdstanpy - INFO - Chain [1] start processing\n",
      "20:55:43 - cmdstanpy - INFO - Chain [1] done processing\n",
      "20:55:43 - cmdstanpy - INFO - Chain [1] start processing\n",
      "20:55:43 - cmdstanpy - INFO - Chain [1] done processing\n",
      "20:55:44 - cmdstanpy - INFO - Chain [1] start processing\n"
     ]
    },
    {
     "name": "stdout",
     "output_type": "stream",
     "text": [
      "    Cross-validation accuracy for co: 77.46%\n",
      "    Training model for pollutant: o3\n"
     ]
    },
    {
     "name": "stderr",
     "output_type": "stream",
     "text": [
      "20:55:44 - cmdstanpy - INFO - Chain [1] done processing\n"
     ]
    },
    {
     "name": "stdout",
     "output_type": "stream",
     "text": [
      "    Model training successful for o3\n",
      "    Performing cross-validation for o3\n"
     ]
    },
    {
     "data": {
      "application/vnd.jupyter.widget-view+json": {
       "model_id": "1653345100514118befb528690b2411d",
       "version_major": 2,
       "version_minor": 0
      },
      "text/plain": [
       "  0%|          | 0/8 [00:00<?, ?it/s]"
      ]
     },
     "metadata": {},
     "output_type": "display_data"
    },
    {
     "name": "stderr",
     "output_type": "stream",
     "text": [
      "20:55:44 - cmdstanpy - INFO - Chain [1] start processing\n",
      "20:55:45 - cmdstanpy - INFO - Chain [1] done processing\n",
      "20:55:45 - cmdstanpy - INFO - Chain [1] start processing\n",
      "20:55:45 - cmdstanpy - INFO - Chain [1] done processing\n",
      "20:55:45 - cmdstanpy - INFO - Chain [1] start processing\n",
      "20:55:45 - cmdstanpy - INFO - Chain [1] done processing\n",
      "20:55:45 - cmdstanpy - INFO - Chain [1] start processing\n",
      "20:55:46 - cmdstanpy - INFO - Chain [1] done processing\n",
      "20:55:46 - cmdstanpy - INFO - Chain [1] start processing\n",
      "20:55:46 - cmdstanpy - INFO - Chain [1] done processing\n",
      "20:55:46 - cmdstanpy - INFO - Chain [1] start processing\n",
      "20:55:47 - cmdstanpy - INFO - Chain [1] done processing\n",
      "20:55:47 - cmdstanpy - INFO - Chain [1] start processing\n",
      "20:55:47 - cmdstanpy - INFO - Chain [1] done processing\n",
      "20:55:48 - cmdstanpy - INFO - Chain [1] start processing\n",
      "20:55:48 - cmdstanpy - INFO - Chain [1] done processing\n",
      "20:55:49 - cmdstanpy - INFO - Chain [1] start processing\n"
     ]
    },
    {
     "name": "stdout",
     "output_type": "stream",
     "text": [
      "    Cross-validation accuracy for o3: 82.76%\n",
      "    Saved trained models to ./Prophet_Models/Thiruvananthapuram/plammoodu,-thiruvananthapuram-air-quality_prophet_model.pkl\n",
      "  Training model for region: kariavattom,-thiruvananthapuram-air-quality.csv\n",
      "    Training model for pollutant: AQI\n"
     ]
    },
    {
     "name": "stderr",
     "output_type": "stream",
     "text": [
      "20:55:50 - cmdstanpy - INFO - Chain [1] done processing\n"
     ]
    },
    {
     "name": "stdout",
     "output_type": "stream",
     "text": [
      "    Model training successful for AQI\n",
      "    Performing cross-validation for AQI\n"
     ]
    },
    {
     "data": {
      "application/vnd.jupyter.widget-view+json": {
       "model_id": "cd16c2de9e9e48228e258e70173990bb",
       "version_major": 2,
       "version_minor": 0
      },
      "text/plain": [
       "  0%|          | 0/3 [00:00<?, ?it/s]"
      ]
     },
     "metadata": {},
     "output_type": "display_data"
    },
    {
     "name": "stderr",
     "output_type": "stream",
     "text": [
      "20:55:50 - cmdstanpy - INFO - Chain [1] start processing\n",
      "20:55:50 - cmdstanpy - INFO - Chain [1] done processing\n",
      "20:55:50 - cmdstanpy - INFO - Chain [1] start processing\n",
      "20:55:51 - cmdstanpy - INFO - Chain [1] done processing\n",
      "20:55:51 - cmdstanpy - INFO - Chain [1] start processing\n",
      "20:55:51 - cmdstanpy - INFO - Chain [1] done processing\n",
      "20:55:52 - cmdstanpy - INFO - Chain [1] start processing\n"
     ]
    },
    {
     "name": "stdout",
     "output_type": "stream",
     "text": [
      "    Cross-validation accuracy for AQI: 97.02%\n",
      "    Training model for pollutant: pm25\n"
     ]
    },
    {
     "name": "stderr",
     "output_type": "stream",
     "text": [
      "20:55:52 - cmdstanpy - INFO - Chain [1] done processing\n"
     ]
    },
    {
     "name": "stdout",
     "output_type": "stream",
     "text": [
      "    Model training successful for pm25\n",
      "    Performing cross-validation for pm25\n"
     ]
    },
    {
     "data": {
      "application/vnd.jupyter.widget-view+json": {
       "model_id": "294a6b5e894c4ad0bd23ec6ef0f5aa72",
       "version_major": 2,
       "version_minor": 0
      },
      "text/plain": [
       "  0%|          | 0/3 [00:00<?, ?it/s]"
      ]
     },
     "metadata": {},
     "output_type": "display_data"
    },
    {
     "name": "stderr",
     "output_type": "stream",
     "text": [
      "20:55:52 - cmdstanpy - INFO - Chain [1] start processing\n",
      "20:55:52 - cmdstanpy - INFO - Chain [1] done processing\n",
      "20:55:52 - cmdstanpy - INFO - Chain [1] start processing\n",
      "20:55:52 - cmdstanpy - INFO - Chain [1] done processing\n",
      "20:55:53 - cmdstanpy - INFO - Chain [1] start processing\n",
      "20:55:53 - cmdstanpy - INFO - Chain [1] done processing\n",
      "20:55:53 - cmdstanpy - INFO - Chain [1] start processing\n"
     ]
    },
    {
     "name": "stdout",
     "output_type": "stream",
     "text": [
      "    Cross-validation accuracy for pm25: 89.86%\n",
      "    Training model for pollutant: pm10\n"
     ]
    },
    {
     "name": "stderr",
     "output_type": "stream",
     "text": [
      "20:55:53 - cmdstanpy - INFO - Chain [1] done processing\n"
     ]
    },
    {
     "name": "stdout",
     "output_type": "stream",
     "text": [
      "    Model training successful for pm10\n",
      "    Performing cross-validation for pm10\n"
     ]
    },
    {
     "data": {
      "application/vnd.jupyter.widget-view+json": {
       "model_id": "0f7ad0bd002f41b4bab5cc78aa18f505",
       "version_major": 2,
       "version_minor": 0
      },
      "text/plain": [
       "  0%|          | 0/3 [00:00<?, ?it/s]"
      ]
     },
     "metadata": {},
     "output_type": "display_data"
    },
    {
     "name": "stderr",
     "output_type": "stream",
     "text": [
      "20:55:53 - cmdstanpy - INFO - Chain [1] start processing\n",
      "20:55:53 - cmdstanpy - INFO - Chain [1] done processing\n",
      "20:55:54 - cmdstanpy - INFO - Chain [1] start processing\n",
      "20:55:54 - cmdstanpy - INFO - Chain [1] done processing\n",
      "20:55:54 - cmdstanpy - INFO - Chain [1] start processing\n",
      "20:55:54 - cmdstanpy - INFO - Chain [1] done processing\n",
      "20:55:54 - cmdstanpy - INFO - Chain [1] start processing\n"
     ]
    },
    {
     "name": "stdout",
     "output_type": "stream",
     "text": [
      "    Cross-validation accuracy for pm10: 93.02%\n",
      "    Training model for pollutant: no2\n"
     ]
    },
    {
     "name": "stderr",
     "output_type": "stream",
     "text": [
      "20:55:55 - cmdstanpy - INFO - Chain [1] done processing\n"
     ]
    },
    {
     "name": "stdout",
     "output_type": "stream",
     "text": [
      "    Model training successful for no2\n",
      "    Performing cross-validation for no2\n"
     ]
    },
    {
     "data": {
      "application/vnd.jupyter.widget-view+json": {
       "model_id": "be924dce7e144259918cf00bfa54d60b",
       "version_major": 2,
       "version_minor": 0
      },
      "text/plain": [
       "  0%|          | 0/3 [00:00<?, ?it/s]"
      ]
     },
     "metadata": {},
     "output_type": "display_data"
    },
    {
     "name": "stderr",
     "output_type": "stream",
     "text": [
      "20:55:55 - cmdstanpy - INFO - Chain [1] start processing\n",
      "20:55:55 - cmdstanpy - INFO - Chain [1] done processing\n",
      "20:55:55 - cmdstanpy - INFO - Chain [1] start processing\n",
      "20:55:55 - cmdstanpy - INFO - Chain [1] done processing\n",
      "20:55:55 - cmdstanpy - INFO - Chain [1] start processing\n",
      "20:55:55 - cmdstanpy - INFO - Chain [1] done processing\n"
     ]
    },
    {
     "name": "stdout",
     "output_type": "stream",
     "text": [
      "    Cross-validation accuracy for no2: 57.53%\n",
      "    Training model for pollutant: so2\n",
      "    Model training successful for so2\n",
      "    Performing cross-validation for so2\n"
     ]
    },
    {
     "data": {
      "application/vnd.jupyter.widget-view+json": {
       "model_id": "b5cd8742dd3842f7b663be318e4e72b8",
       "version_major": 2,
       "version_minor": 0
      },
      "text/plain": [
       "  0%|          | 0/3 [00:00<?, ?it/s]"
      ]
     },
     "metadata": {},
     "output_type": "display_data"
    },
    {
     "name": "stderr",
     "output_type": "stream",
     "text": [
      "20:55:56 - cmdstanpy - INFO - Chain [1] start processing\n"
     ]
    },
    {
     "name": "stdout",
     "output_type": "stream",
     "text": [
      "    Cross-validation accuracy for so2: 100.00%\n",
      "    Training model for pollutant: co\n"
     ]
    },
    {
     "name": "stderr",
     "output_type": "stream",
     "text": [
      "20:55:56 - cmdstanpy - INFO - Chain [1] done processing\n"
     ]
    },
    {
     "name": "stdout",
     "output_type": "stream",
     "text": [
      "    Model training successful for co\n",
      "    Performing cross-validation for co\n"
     ]
    },
    {
     "data": {
      "application/vnd.jupyter.widget-view+json": {
       "model_id": "8f1b45f3fcf14af5884b1e5d88a4b43e",
       "version_major": 2,
       "version_minor": 0
      },
      "text/plain": [
       "  0%|          | 0/3 [00:00<?, ?it/s]"
      ]
     },
     "metadata": {},
     "output_type": "display_data"
    },
    {
     "name": "stderr",
     "output_type": "stream",
     "text": [
      "20:55:56 - cmdstanpy - INFO - Chain [1] start processing\n",
      "20:55:56 - cmdstanpy - INFO - Chain [1] done processing\n",
      "20:55:57 - cmdstanpy - INFO - Chain [1] start processing\n",
      "20:55:57 - cmdstanpy - INFO - Chain [1] done processing\n",
      "20:55:57 - cmdstanpy - INFO - Chain [1] start processing\n",
      "20:55:57 - cmdstanpy - INFO - Chain [1] done processing\n",
      "20:55:57 - cmdstanpy - INFO - Chain [1] start processing\n"
     ]
    },
    {
     "name": "stdout",
     "output_type": "stream",
     "text": [
      "    Cross-validation accuracy for co: 37.36%\n",
      "    Training model for pollutant: o3\n"
     ]
    },
    {
     "name": "stderr",
     "output_type": "stream",
     "text": [
      "20:55:58 - cmdstanpy - INFO - Chain [1] done processing\n"
     ]
    },
    {
     "name": "stdout",
     "output_type": "stream",
     "text": [
      "    Model training successful for o3\n",
      "    Performing cross-validation for o3\n"
     ]
    },
    {
     "data": {
      "application/vnd.jupyter.widget-view+json": {
       "model_id": "475e806362264f6f8d75b53de932baac",
       "version_major": 2,
       "version_minor": 0
      },
      "text/plain": [
       "  0%|          | 0/3 [00:00<?, ?it/s]"
      ]
     },
     "metadata": {},
     "output_type": "display_data"
    },
    {
     "name": "stderr",
     "output_type": "stream",
     "text": [
      "20:55:58 - cmdstanpy - INFO - Chain [1] start processing\n",
      "20:55:58 - cmdstanpy - INFO - Chain [1] done processing\n",
      "20:55:58 - cmdstanpy - INFO - Chain [1] start processing\n",
      "20:55:58 - cmdstanpy - INFO - Chain [1] done processing\n",
      "20:55:58 - cmdstanpy - INFO - Chain [1] start processing\n",
      "20:55:59 - cmdstanpy - INFO - Chain [1] done processing\n",
      "20:55:59 - cmdstanpy - INFO - Chain [1] start processing\n"
     ]
    },
    {
     "name": "stdout",
     "output_type": "stream",
     "text": [
      "    Cross-validation accuracy for o3: 92.89%\n",
      "    Saved trained models to ./Prophet_Models/Thiruvananthapuram/kariavattom,-thiruvananthapuram-air-quality_prophet_model.pkl\n",
      "\n",
      "Processing city: Delhi\n",
      "  Training model for region: r.k.-puram, delhi-air-quality.csv\n",
      "    Training model for pollutant: AQI\n"
     ]
    },
    {
     "name": "stderr",
     "output_type": "stream",
     "text": [
      "20:56:01 - cmdstanpy - INFO - Chain [1] done processing\n"
     ]
    },
    {
     "name": "stdout",
     "output_type": "stream",
     "text": [
      "    Model training successful for AQI\n",
      "    Performing cross-validation for AQI\n"
     ]
    },
    {
     "data": {
      "application/vnd.jupyter.widget-view+json": {
       "model_id": "b0ba29a373564a3db87e8feab6c95c97",
       "version_major": 2,
       "version_minor": 0
      },
      "text/plain": [
       "  0%|          | 0/16 [00:00<?, ?it/s]"
      ]
     },
     "metadata": {},
     "output_type": "display_data"
    },
    {
     "name": "stderr",
     "output_type": "stream",
     "text": [
      "20:56:02 - cmdstanpy - INFO - Chain [1] start processing\n",
      "20:56:02 - cmdstanpy - INFO - Chain [1] done processing\n",
      "20:56:02 - cmdstanpy - INFO - Chain [1] start processing\n",
      "20:56:02 - cmdstanpy - INFO - Chain [1] done processing\n",
      "20:56:02 - cmdstanpy - INFO - Chain [1] start processing\n",
      "20:56:02 - cmdstanpy - INFO - Chain [1] done processing\n",
      "20:56:02 - cmdstanpy - INFO - Chain [1] start processing\n",
      "20:56:03 - cmdstanpy - INFO - Chain [1] done processing\n",
      "20:56:03 - cmdstanpy - INFO - Chain [1] start processing\n",
      "20:56:03 - cmdstanpy - INFO - Chain [1] done processing\n",
      "20:56:03 - cmdstanpy - INFO - Chain [1] start processing\n",
      "20:56:03 - cmdstanpy - INFO - Chain [1] done processing\n",
      "20:56:04 - cmdstanpy - INFO - Chain [1] start processing\n",
      "20:56:04 - cmdstanpy - INFO - Chain [1] done processing\n",
      "20:56:04 - cmdstanpy - INFO - Chain [1] start processing\n",
      "20:56:05 - cmdstanpy - INFO - Chain [1] done processing\n",
      "20:56:05 - cmdstanpy - INFO - Chain [1] start processing\n",
      "20:56:06 - cmdstanpy - INFO - Chain [1] done processing\n",
      "20:56:06 - cmdstanpy - INFO - Chain [1] start processing\n",
      "20:56:07 - cmdstanpy - INFO - Chain [1] done processing\n",
      "20:56:07 - cmdstanpy - INFO - Chain [1] start processing\n",
      "20:56:07 - cmdstanpy - INFO - Chain [1] done processing\n",
      "20:56:08 - cmdstanpy - INFO - Chain [1] start processing\n",
      "20:56:09 - cmdstanpy - INFO - Chain [1] done processing\n",
      "20:56:09 - cmdstanpy - INFO - Chain [1] start processing\n",
      "20:56:10 - cmdstanpy - INFO - Chain [1] done processing\n",
      "20:56:11 - cmdstanpy - INFO - Chain [1] start processing\n",
      "20:56:12 - cmdstanpy - INFO - Chain [1] done processing\n",
      "20:56:12 - cmdstanpy - INFO - Chain [1] start processing\n",
      "20:56:13 - cmdstanpy - INFO - Chain [1] done processing\n",
      "20:56:13 - cmdstanpy - INFO - Chain [1] start processing\n",
      "20:56:15 - cmdstanpy - INFO - Chain [1] done processing\n",
      "20:56:16 - cmdstanpy - INFO - Chain [1] start processing\n"
     ]
    },
    {
     "name": "stdout",
     "output_type": "stream",
     "text": [
      "    Cross-validation accuracy for AQI: 96.93%\n",
      "    Training model for pollutant: pm25\n"
     ]
    },
    {
     "name": "stderr",
     "output_type": "stream",
     "text": [
      "20:56:17 - cmdstanpy - INFO - Chain [1] done processing\n"
     ]
    },
    {
     "name": "stdout",
     "output_type": "stream",
     "text": [
      "    Model training successful for pm25\n",
      "    Performing cross-validation for pm25\n"
     ]
    },
    {
     "data": {
      "application/vnd.jupyter.widget-view+json": {
       "model_id": "a28c3c67fa4447b4b0c16c523eb54f91",
       "version_major": 2,
       "version_minor": 0
      },
      "text/plain": [
       "  0%|          | 0/16 [00:00<?, ?it/s]"
      ]
     },
     "metadata": {},
     "output_type": "display_data"
    },
    {
     "name": "stderr",
     "output_type": "stream",
     "text": [
      "20:56:17 - cmdstanpy - INFO - Chain [1] start processing\n",
      "20:56:17 - cmdstanpy - INFO - Chain [1] done processing\n",
      "20:56:18 - cmdstanpy - INFO - Chain [1] start processing\n",
      "20:56:18 - cmdstanpy - INFO - Chain [1] done processing\n",
      "20:56:18 - cmdstanpy - INFO - Chain [1] start processing\n",
      "20:56:18 - cmdstanpy - INFO - Chain [1] done processing\n",
      "20:56:18 - cmdstanpy - INFO - Chain [1] start processing\n",
      "20:56:18 - cmdstanpy - INFO - Chain [1] done processing\n",
      "20:56:18 - cmdstanpy - INFO - Chain [1] start processing\n",
      "20:56:19 - cmdstanpy - INFO - Chain [1] done processing\n",
      "20:56:19 - cmdstanpy - INFO - Chain [1] start processing\n",
      "20:56:20 - cmdstanpy - INFO - Chain [1] done processing\n",
      "20:56:20 - cmdstanpy - INFO - Chain [1] start processing\n",
      "20:56:20 - cmdstanpy - INFO - Chain [1] done processing\n",
      "20:56:20 - cmdstanpy - INFO - Chain [1] start processing\n",
      "20:56:20 - cmdstanpy - INFO - Chain [1] done processing\n",
      "20:56:21 - cmdstanpy - INFO - Chain [1] start processing\n",
      "20:56:22 - cmdstanpy - INFO - Chain [1] done processing\n",
      "20:56:22 - cmdstanpy - INFO - Chain [1] start processing\n",
      "20:56:22 - cmdstanpy - INFO - Chain [1] done processing\n",
      "20:56:22 - cmdstanpy - INFO - Chain [1] start processing\n",
      "20:56:23 - cmdstanpy - INFO - Chain [1] done processing\n",
      "20:56:24 - cmdstanpy - INFO - Chain [1] start processing\n",
      "20:56:25 - cmdstanpy - INFO - Chain [1] done processing\n",
      "20:56:25 - cmdstanpy - INFO - Chain [1] start processing\n",
      "20:56:26 - cmdstanpy - INFO - Chain [1] done processing\n",
      "20:56:27 - cmdstanpy - INFO - Chain [1] start processing\n",
      "20:56:28 - cmdstanpy - INFO - Chain [1] done processing\n",
      "20:56:28 - cmdstanpy - INFO - Chain [1] start processing\n",
      "20:56:29 - cmdstanpy - INFO - Chain [1] done processing\n",
      "20:56:29 - cmdstanpy - INFO - Chain [1] start processing\n",
      "20:56:30 - cmdstanpy - INFO - Chain [1] done processing\n",
      "20:56:31 - cmdstanpy - INFO - Chain [1] start processing\n"
     ]
    },
    {
     "name": "stdout",
     "output_type": "stream",
     "text": [
      "    Cross-validation accuracy for pm25: 93.82%\n",
      "    Training model for pollutant: pm10\n"
     ]
    },
    {
     "name": "stderr",
     "output_type": "stream",
     "text": [
      "20:56:32 - cmdstanpy - INFO - Chain [1] done processing\n"
     ]
    },
    {
     "name": "stdout",
     "output_type": "stream",
     "text": [
      "    Model training successful for pm10\n",
      "    Performing cross-validation for pm10\n"
     ]
    },
    {
     "data": {
      "application/vnd.jupyter.widget-view+json": {
       "model_id": "6bfb425d2403437c959c3b8e904554b4",
       "version_major": 2,
       "version_minor": 0
      },
      "text/plain": [
       "  0%|          | 0/16 [00:00<?, ?it/s]"
      ]
     },
     "metadata": {},
     "output_type": "display_data"
    },
    {
     "name": "stderr",
     "output_type": "stream",
     "text": [
      "20:56:32 - cmdstanpy - INFO - Chain [1] start processing\n",
      "20:56:32 - cmdstanpy - INFO - Chain [1] done processing\n",
      "20:56:32 - cmdstanpy - INFO - Chain [1] start processing\n",
      "20:56:32 - cmdstanpy - INFO - Chain [1] done processing\n",
      "20:56:32 - cmdstanpy - INFO - Chain [1] start processing\n",
      "20:56:32 - cmdstanpy - INFO - Chain [1] done processing\n",
      "20:56:32 - cmdstanpy - INFO - Chain [1] start processing\n",
      "20:56:33 - cmdstanpy - INFO - Chain [1] done processing\n",
      "20:56:33 - cmdstanpy - INFO - Chain [1] start processing\n",
      "20:56:33 - cmdstanpy - INFO - Chain [1] done processing\n",
      "20:56:33 - cmdstanpy - INFO - Chain [1] start processing\n",
      "20:56:33 - cmdstanpy - INFO - Chain [1] done processing\n",
      "20:56:33 - cmdstanpy - INFO - Chain [1] start processing\n",
      "20:56:34 - cmdstanpy - INFO - Chain [1] done processing\n",
      "20:56:34 - cmdstanpy - INFO - Chain [1] start processing\n",
      "20:56:34 - cmdstanpy - INFO - Chain [1] done processing\n",
      "20:56:34 - cmdstanpy - INFO - Chain [1] start processing\n",
      "20:56:34 - cmdstanpy - INFO - Chain [1] done processing\n",
      "20:56:35 - cmdstanpy - INFO - Chain [1] start processing\n",
      "20:56:35 - cmdstanpy - INFO - Chain [1] done processing\n",
      "20:56:35 - cmdstanpy - INFO - Chain [1] start processing\n",
      "20:56:36 - cmdstanpy - INFO - Chain [1] done processing\n",
      "20:56:36 - cmdstanpy - INFO - Chain [1] start processing\n",
      "20:56:37 - cmdstanpy - INFO - Chain [1] done processing\n",
      "20:56:37 - cmdstanpy - INFO - Chain [1] start processing\n",
      "20:56:37 - cmdstanpy - INFO - Chain [1] done processing\n",
      "20:56:38 - cmdstanpy - INFO - Chain [1] start processing\n",
      "20:56:39 - cmdstanpy - INFO - Chain [1] done processing\n",
      "20:56:39 - cmdstanpy - INFO - Chain [1] start processing\n",
      "20:56:40 - cmdstanpy - INFO - Chain [1] done processing\n",
      "20:56:40 - cmdstanpy - INFO - Chain [1] start processing\n",
      "20:56:41 - cmdstanpy - INFO - Chain [1] done processing\n",
      "20:56:41 - cmdstanpy - INFO - Chain [1] start processing\n"
     ]
    },
    {
     "name": "stdout",
     "output_type": "stream",
     "text": [
      "    Cross-validation accuracy for pm10: 92.69%\n",
      "    Training model for pollutant: no2\n"
     ]
    },
    {
     "name": "stderr",
     "output_type": "stream",
     "text": [
      "20:56:42 - cmdstanpy - INFO - Chain [1] done processing\n"
     ]
    },
    {
     "name": "stdout",
     "output_type": "stream",
     "text": [
      "    Model training successful for no2\n",
      "    Performing cross-validation for no2\n"
     ]
    },
    {
     "data": {
      "application/vnd.jupyter.widget-view+json": {
       "model_id": "70b8eef92ebe48f5ad3c949dc89e17bb",
       "version_major": 2,
       "version_minor": 0
      },
      "text/plain": [
       "  0%|          | 0/16 [00:00<?, ?it/s]"
      ]
     },
     "metadata": {},
     "output_type": "display_data"
    },
    {
     "name": "stderr",
     "output_type": "stream",
     "text": [
      "20:56:42 - cmdstanpy - INFO - Chain [1] start processing\n",
      "20:56:42 - cmdstanpy - INFO - Chain [1] done processing\n",
      "20:56:42 - cmdstanpy - INFO - Chain [1] start processing\n",
      "20:56:42 - cmdstanpy - INFO - Chain [1] done processing\n",
      "20:56:42 - cmdstanpy - INFO - Chain [1] start processing\n",
      "20:56:43 - cmdstanpy - INFO - Chain [1] done processing\n",
      "20:56:43 - cmdstanpy - INFO - Chain [1] start processing\n",
      "20:56:43 - cmdstanpy - INFO - Chain [1] done processing\n",
      "20:56:43 - cmdstanpy - INFO - Chain [1] start processing\n",
      "20:56:43 - cmdstanpy - INFO - Chain [1] done processing\n",
      "20:56:43 - cmdstanpy - INFO - Chain [1] start processing\n",
      "20:56:44 - cmdstanpy - INFO - Chain [1] done processing\n",
      "20:56:44 - cmdstanpy - INFO - Chain [1] start processing\n",
      "20:56:44 - cmdstanpy - INFO - Chain [1] done processing\n",
      "20:56:44 - cmdstanpy - INFO - Chain [1] start processing\n",
      "20:56:45 - cmdstanpy - INFO - Chain [1] done processing\n",
      "20:56:45 - cmdstanpy - INFO - Chain [1] start processing\n",
      "20:56:45 - cmdstanpy - INFO - Chain [1] done processing\n",
      "20:56:45 - cmdstanpy - INFO - Chain [1] start processing\n",
      "20:56:46 - cmdstanpy - INFO - Chain [1] done processing\n",
      "20:56:46 - cmdstanpy - INFO - Chain [1] start processing\n",
      "20:56:46 - cmdstanpy - INFO - Chain [1] done processing\n",
      "20:56:47 - cmdstanpy - INFO - Chain [1] start processing\n",
      "20:56:47 - cmdstanpy - INFO - Chain [1] done processing\n",
      "20:56:47 - cmdstanpy - INFO - Chain [1] start processing\n",
      "20:56:48 - cmdstanpy - INFO - Chain [1] done processing\n",
      "20:56:48 - cmdstanpy - INFO - Chain [1] start processing\n",
      "20:56:48 - cmdstanpy - INFO - Chain [1] done processing\n",
      "20:56:49 - cmdstanpy - INFO - Chain [1] start processing\n",
      "20:56:49 - cmdstanpy - INFO - Chain [1] done processing\n",
      "20:56:49 - cmdstanpy - INFO - Chain [1] start processing\n",
      "20:56:50 - cmdstanpy - INFO - Chain [1] done processing\n",
      "20:56:50 - cmdstanpy - INFO - Chain [1] start processing\n"
     ]
    },
    {
     "name": "stdout",
     "output_type": "stream",
     "text": [
      "    Cross-validation accuracy for no2: 79.39%\n",
      "    Training model for pollutant: so2\n"
     ]
    },
    {
     "name": "stderr",
     "output_type": "stream",
     "text": [
      "20:56:51 - cmdstanpy - INFO - Chain [1] done processing\n"
     ]
    },
    {
     "name": "stdout",
     "output_type": "stream",
     "text": [
      "    Model training successful for so2\n",
      "    Performing cross-validation for so2\n"
     ]
    },
    {
     "data": {
      "application/vnd.jupyter.widget-view+json": {
       "model_id": "3156baa113124fcd90b687f59491a869",
       "version_major": 2,
       "version_minor": 0
      },
      "text/plain": [
       "  0%|          | 0/16 [00:00<?, ?it/s]"
      ]
     },
     "metadata": {},
     "output_type": "display_data"
    },
    {
     "name": "stderr",
     "output_type": "stream",
     "text": [
      "20:56:51 - cmdstanpy - INFO - Chain [1] start processing\n",
      "20:56:52 - cmdstanpy - INFO - Chain [1] done processing\n",
      "20:56:52 - cmdstanpy - INFO - Chain [1] start processing\n",
      "20:56:52 - cmdstanpy - INFO - Chain [1] done processing\n",
      "20:56:52 - cmdstanpy - INFO - Chain [1] start processing\n",
      "20:56:52 - cmdstanpy - INFO - Chain [1] done processing\n",
      "20:56:52 - cmdstanpy - INFO - Chain [1] start processing\n",
      "20:56:53 - cmdstanpy - INFO - Chain [1] done processing\n",
      "20:56:53 - cmdstanpy - INFO - Chain [1] start processing\n",
      "20:56:53 - cmdstanpy - INFO - Chain [1] done processing\n",
      "20:56:53 - cmdstanpy - INFO - Chain [1] start processing\n",
      "20:56:53 - cmdstanpy - INFO - Chain [1] done processing\n",
      "20:56:53 - cmdstanpy - INFO - Chain [1] start processing\n",
      "20:56:54 - cmdstanpy - INFO - Chain [1] done processing\n",
      "20:56:54 - cmdstanpy - INFO - Chain [1] start processing\n",
      "20:56:54 - cmdstanpy - INFO - Chain [1] done processing\n",
      "20:56:54 - cmdstanpy - INFO - Chain [1] start processing\n",
      "20:56:55 - cmdstanpy - INFO - Chain [1] done processing\n",
      "20:56:55 - cmdstanpy - INFO - Chain [1] start processing\n",
      "20:56:55 - cmdstanpy - INFO - Chain [1] done processing\n",
      "20:56:56 - cmdstanpy - INFO - Chain [1] start processing\n",
      "20:56:56 - cmdstanpy - INFO - Chain [1] done processing\n",
      "20:56:56 - cmdstanpy - INFO - Chain [1] start processing\n",
      "20:56:57 - cmdstanpy - INFO - Chain [1] done processing\n",
      "20:56:57 - cmdstanpy - INFO - Chain [1] start processing\n",
      "20:56:57 - cmdstanpy - INFO - Chain [1] done processing\n",
      "20:56:58 - cmdstanpy - INFO - Chain [1] start processing\n",
      "20:56:58 - cmdstanpy - INFO - Chain [1] done processing\n",
      "20:56:59 - cmdstanpy - INFO - Chain [1] start processing\n",
      "20:56:59 - cmdstanpy - INFO - Chain [1] done processing\n",
      "20:56:59 - cmdstanpy - INFO - Chain [1] start processing\n",
      "20:57:00 - cmdstanpy - INFO - Chain [1] done processing\n",
      "20:57:01 - cmdstanpy - INFO - Chain [1] start processing\n"
     ]
    },
    {
     "name": "stdout",
     "output_type": "stream",
     "text": [
      "    Cross-validation accuracy for so2: 62.23%\n",
      "    Training model for pollutant: co\n"
     ]
    },
    {
     "name": "stderr",
     "output_type": "stream",
     "text": [
      "20:57:01 - cmdstanpy - INFO - Chain [1] done processing\n"
     ]
    },
    {
     "name": "stdout",
     "output_type": "stream",
     "text": [
      "    Model training successful for co\n",
      "    Performing cross-validation for co\n"
     ]
    },
    {
     "data": {
      "application/vnd.jupyter.widget-view+json": {
       "model_id": "9bfc4735245f4acd85fcdffa42107491",
       "version_major": 2,
       "version_minor": 0
      },
      "text/plain": [
       "  0%|          | 0/16 [00:00<?, ?it/s]"
      ]
     },
     "metadata": {},
     "output_type": "display_data"
    },
    {
     "name": "stderr",
     "output_type": "stream",
     "text": [
      "20:57:01 - cmdstanpy - INFO - Chain [1] start processing\n",
      "20:57:01 - cmdstanpy - INFO - Chain [1] done processing\n",
      "20:57:01 - cmdstanpy - INFO - Chain [1] start processing\n",
      "20:57:01 - cmdstanpy - INFO - Chain [1] done processing\n",
      "20:57:02 - cmdstanpy - INFO - Chain [1] start processing\n",
      "20:57:02 - cmdstanpy - INFO - Chain [1] done processing\n",
      "20:57:02 - cmdstanpy - INFO - Chain [1] start processing\n",
      "20:57:02 - cmdstanpy - INFO - Chain [1] done processing\n",
      "20:57:02 - cmdstanpy - INFO - Chain [1] start processing\n",
      "20:57:02 - cmdstanpy - INFO - Chain [1] done processing\n",
      "20:57:02 - cmdstanpy - INFO - Chain [1] start processing\n",
      "20:57:03 - cmdstanpy - INFO - Chain [1] done processing\n",
      "20:57:03 - cmdstanpy - INFO - Chain [1] start processing\n",
      "20:57:03 - cmdstanpy - INFO - Chain [1] done processing\n",
      "20:57:03 - cmdstanpy - INFO - Chain [1] start processing\n",
      "20:57:03 - cmdstanpy - INFO - Chain [1] done processing\n",
      "20:57:04 - cmdstanpy - INFO - Chain [1] start processing\n",
      "20:57:04 - cmdstanpy - INFO - Chain [1] done processing\n",
      "20:57:04 - cmdstanpy - INFO - Chain [1] start processing\n",
      "20:57:05 - cmdstanpy - INFO - Chain [1] done processing\n",
      "20:57:05 - cmdstanpy - INFO - Chain [1] start processing\n",
      "20:57:05 - cmdstanpy - INFO - Chain [1] done processing\n",
      "20:57:06 - cmdstanpy - INFO - Chain [1] start processing\n",
      "20:57:06 - cmdstanpy - INFO - Chain [1] done processing\n",
      "20:57:06 - cmdstanpy - INFO - Chain [1] start processing\n",
      "20:57:06 - cmdstanpy - INFO - Chain [1] done processing\n",
      "20:57:07 - cmdstanpy - INFO - Chain [1] start processing\n",
      "20:57:07 - cmdstanpy - INFO - Chain [1] done processing\n",
      "20:57:07 - cmdstanpy - INFO - Chain [1] start processing\n",
      "20:57:08 - cmdstanpy - INFO - Chain [1] done processing\n",
      "20:57:08 - cmdstanpy - INFO - Chain [1] start processing\n",
      "20:57:08 - cmdstanpy - INFO - Chain [1] done processing\n",
      "20:57:09 - cmdstanpy - INFO - Chain [1] start processing\n"
     ]
    },
    {
     "name": "stdout",
     "output_type": "stream",
     "text": [
      "    Cross-validation accuracy for co: 73.56%\n",
      "    Training model for pollutant: o3\n"
     ]
    },
    {
     "name": "stderr",
     "output_type": "stream",
     "text": [
      "20:57:09 - cmdstanpy - INFO - Chain [1] done processing\n"
     ]
    },
    {
     "name": "stdout",
     "output_type": "stream",
     "text": [
      "    Model training successful for o3\n",
      "    Performing cross-validation for o3\n"
     ]
    },
    {
     "data": {
      "application/vnd.jupyter.widget-view+json": {
       "model_id": "735b17c9f2854bc6958a40694cff1dea",
       "version_major": 2,
       "version_minor": 0
      },
      "text/plain": [
       "  0%|          | 0/16 [00:00<?, ?it/s]"
      ]
     },
     "metadata": {},
     "output_type": "display_data"
    },
    {
     "name": "stderr",
     "output_type": "stream",
     "text": [
      "20:57:09 - cmdstanpy - INFO - Chain [1] start processing\n",
      "20:57:09 - cmdstanpy - INFO - Chain [1] done processing\n",
      "20:57:10 - cmdstanpy - INFO - Chain [1] start processing\n",
      "20:57:10 - cmdstanpy - INFO - Chain [1] done processing\n",
      "20:57:10 - cmdstanpy - INFO - Chain [1] start processing\n",
      "20:57:10 - cmdstanpy - INFO - Chain [1] done processing\n",
      "20:57:10 - cmdstanpy - INFO - Chain [1] start processing\n",
      "20:57:10 - cmdstanpy - INFO - Chain [1] done processing\n",
      "20:57:10 - cmdstanpy - INFO - Chain [1] start processing\n",
      "20:57:11 - cmdstanpy - INFO - Chain [1] done processing\n",
      "20:57:11 - cmdstanpy - INFO - Chain [1] start processing\n",
      "20:57:11 - cmdstanpy - INFO - Chain [1] done processing\n",
      "20:57:11 - cmdstanpy - INFO - Chain [1] start processing\n",
      "20:57:11 - cmdstanpy - INFO - Chain [1] done processing\n",
      "20:57:11 - cmdstanpy - INFO - Chain [1] start processing\n",
      "20:57:12 - cmdstanpy - INFO - Chain [1] done processing\n",
      "20:57:12 - cmdstanpy - INFO - Chain [1] start processing\n",
      "20:57:12 - cmdstanpy - INFO - Chain [1] done processing\n",
      "20:57:12 - cmdstanpy - INFO - Chain [1] start processing\n",
      "20:57:13 - cmdstanpy - INFO - Chain [1] done processing\n",
      "20:57:13 - cmdstanpy - INFO - Chain [1] start processing\n",
      "20:57:13 - cmdstanpy - INFO - Chain [1] done processing\n",
      "20:57:13 - cmdstanpy - INFO - Chain [1] start processing\n",
      "20:57:14 - cmdstanpy - INFO - Chain [1] done processing\n",
      "20:57:14 - cmdstanpy - INFO - Chain [1] start processing\n",
      "20:57:14 - cmdstanpy - INFO - Chain [1] done processing\n",
      "20:57:15 - cmdstanpy - INFO - Chain [1] start processing\n",
      "20:57:15 - cmdstanpy - INFO - Chain [1] done processing\n",
      "20:57:15 - cmdstanpy - INFO - Chain [1] start processing\n",
      "20:57:16 - cmdstanpy - INFO - Chain [1] done processing\n",
      "20:57:16 - cmdstanpy - INFO - Chain [1] start processing\n",
      "20:57:16 - cmdstanpy - INFO - Chain [1] done processing\n",
      "20:57:17 - cmdstanpy - INFO - Chain [1] start processing\n"
     ]
    },
    {
     "name": "stdout",
     "output_type": "stream",
     "text": [
      "    Cross-validation accuracy for o3: 83.02%\n",
      "    Saved trained models to ./Prophet_Models/Delhi/r.k.-puram, delhi-air-quality_prophet_model.pkl\n",
      "  Training model for region: alipur,-delhi-air-quality.csv\n",
      "    Training model for pollutant: AQI\n"
     ]
    },
    {
     "name": "stderr",
     "output_type": "stream",
     "text": [
      "20:57:17 - cmdstanpy - INFO - Chain [1] done processing\n"
     ]
    },
    {
     "name": "stdout",
     "output_type": "stream",
     "text": [
      "    Model training successful for AQI\n",
      "    Performing cross-validation for AQI\n"
     ]
    },
    {
     "data": {
      "application/vnd.jupyter.widget-view+json": {
       "model_id": "3d79629943f1441a88d528f052bd602d",
       "version_major": 2,
       "version_minor": 0
      },
      "text/plain": [
       "  0%|          | 0/6 [00:00<?, ?it/s]"
      ]
     },
     "metadata": {},
     "output_type": "display_data"
    },
    {
     "name": "stderr",
     "output_type": "stream",
     "text": [
      "20:57:17 - cmdstanpy - INFO - Chain [1] start processing\n",
      "20:57:17 - cmdstanpy - INFO - Chain [1] done processing\n",
      "20:57:17 - cmdstanpy - INFO - Chain [1] start processing\n",
      "20:57:18 - cmdstanpy - INFO - Chain [1] done processing\n",
      "20:57:18 - cmdstanpy - INFO - Chain [1] start processing\n",
      "20:57:18 - cmdstanpy - INFO - Chain [1] done processing\n",
      "20:57:18 - cmdstanpy - INFO - Chain [1] start processing\n",
      "20:57:18 - cmdstanpy - INFO - Chain [1] done processing\n",
      "20:57:18 - cmdstanpy - INFO - Chain [1] start processing\n",
      "20:57:19 - cmdstanpy - INFO - Chain [1] done processing\n",
      "20:57:19 - cmdstanpy - INFO - Chain [1] start processing\n",
      "20:57:19 - cmdstanpy - INFO - Chain [1] done processing\n",
      "20:57:19 - cmdstanpy - INFO - Chain [1] start processing\n"
     ]
    },
    {
     "name": "stdout",
     "output_type": "stream",
     "text": [
      "    Cross-validation accuracy for AQI: 97.53%\n",
      "    Training model for pollutant: pm25\n"
     ]
    },
    {
     "name": "stderr",
     "output_type": "stream",
     "text": [
      "20:57:20 - cmdstanpy - INFO - Chain [1] done processing\n"
     ]
    },
    {
     "name": "stdout",
     "output_type": "stream",
     "text": [
      "    Model training successful for pm25\n",
      "    Performing cross-validation for pm25\n"
     ]
    },
    {
     "data": {
      "application/vnd.jupyter.widget-view+json": {
       "model_id": "73dbd067395849d5a9bf1a33fbd7a47b",
       "version_major": 2,
       "version_minor": 0
      },
      "text/plain": [
       "  0%|          | 0/6 [00:00<?, ?it/s]"
      ]
     },
     "metadata": {},
     "output_type": "display_data"
    },
    {
     "name": "stderr",
     "output_type": "stream",
     "text": [
      "20:57:20 - cmdstanpy - INFO - Chain [1] start processing\n",
      "20:57:20 - cmdstanpy - INFO - Chain [1] done processing\n",
      "20:57:20 - cmdstanpy - INFO - Chain [1] start processing\n",
      "20:57:20 - cmdstanpy - INFO - Chain [1] done processing\n",
      "20:57:20 - cmdstanpy - INFO - Chain [1] start processing\n",
      "20:57:20 - cmdstanpy - INFO - Chain [1] done processing\n",
      "20:57:20 - cmdstanpy - INFO - Chain [1] start processing\n",
      "20:57:21 - cmdstanpy - INFO - Chain [1] done processing\n",
      "20:57:21 - cmdstanpy - INFO - Chain [1] start processing\n",
      "20:57:21 - cmdstanpy - INFO - Chain [1] done processing\n",
      "20:57:21 - cmdstanpy - INFO - Chain [1] start processing\n",
      "20:57:21 - cmdstanpy - INFO - Chain [1] done processing\n",
      "20:57:22 - cmdstanpy - INFO - Chain [1] start processing\n",
      "20:57:22 - cmdstanpy - INFO - Chain [1] done processing\n"
     ]
    },
    {
     "name": "stdout",
     "output_type": "stream",
     "text": [
      "    Cross-validation accuracy for pm25: 94.75%\n",
      "    Training model for pollutant: pm10\n",
      "    Model training successful for pm10\n",
      "    Performing cross-validation for pm10\n"
     ]
    },
    {
     "data": {
      "application/vnd.jupyter.widget-view+json": {
       "model_id": "8162ccfbdde241778534f8cd34b8717f",
       "version_major": 2,
       "version_minor": 0
      },
      "text/plain": [
       "  0%|          | 0/6 [00:00<?, ?it/s]"
      ]
     },
     "metadata": {},
     "output_type": "display_data"
    },
    {
     "name": "stderr",
     "output_type": "stream",
     "text": [
      "20:57:22 - cmdstanpy - INFO - Chain [1] start processing\n",
      "20:57:22 - cmdstanpy - INFO - Chain [1] done processing\n",
      "20:57:22 - cmdstanpy - INFO - Chain [1] start processing\n",
      "20:57:22 - cmdstanpy - INFO - Chain [1] done processing\n",
      "20:57:22 - cmdstanpy - INFO - Chain [1] start processing\n",
      "20:57:23 - cmdstanpy - INFO - Chain [1] done processing\n",
      "20:57:23 - cmdstanpy - INFO - Chain [1] start processing\n",
      "20:57:23 - cmdstanpy - INFO - Chain [1] done processing\n",
      "20:57:23 - cmdstanpy - INFO - Chain [1] start processing\n",
      "20:57:23 - cmdstanpy - INFO - Chain [1] done processing\n",
      "20:57:23 - cmdstanpy - INFO - Chain [1] start processing\n",
      "20:57:24 - cmdstanpy - INFO - Chain [1] done processing\n",
      "20:57:24 - cmdstanpy - INFO - Chain [1] start processing\n"
     ]
    },
    {
     "name": "stdout",
     "output_type": "stream",
     "text": [
      "    Cross-validation accuracy for pm10: 91.46%\n",
      "    Training model for pollutant: no2\n"
     ]
    },
    {
     "name": "stderr",
     "output_type": "stream",
     "text": [
      "20:57:24 - cmdstanpy - INFO - Chain [1] done processing\n"
     ]
    },
    {
     "name": "stdout",
     "output_type": "stream",
     "text": [
      "    Model training successful for no2\n",
      "    Performing cross-validation for no2\n"
     ]
    },
    {
     "data": {
      "application/vnd.jupyter.widget-view+json": {
       "model_id": "4fd748523cee4e6abd9fd960f1205a4e",
       "version_major": 2,
       "version_minor": 0
      },
      "text/plain": [
       "  0%|          | 0/6 [00:00<?, ?it/s]"
      ]
     },
     "metadata": {},
     "output_type": "display_data"
    },
    {
     "name": "stderr",
     "output_type": "stream",
     "text": [
      "20:57:24 - cmdstanpy - INFO - Chain [1] start processing\n",
      "20:57:24 - cmdstanpy - INFO - Chain [1] done processing\n",
      "20:57:25 - cmdstanpy - INFO - Chain [1] start processing\n",
      "20:57:25 - cmdstanpy - INFO - Chain [1] done processing\n",
      "20:57:25 - cmdstanpy - INFO - Chain [1] start processing\n",
      "20:57:25 - cmdstanpy - INFO - Chain [1] done processing\n",
      "20:57:25 - cmdstanpy - INFO - Chain [1] start processing\n",
      "20:57:25 - cmdstanpy - INFO - Chain [1] done processing\n",
      "20:57:26 - cmdstanpy - INFO - Chain [1] start processing\n",
      "20:57:26 - cmdstanpy - INFO - Chain [1] done processing\n",
      "20:57:26 - cmdstanpy - INFO - Chain [1] start processing\n",
      "20:57:26 - cmdstanpy - INFO - Chain [1] done processing\n",
      "20:57:27 - cmdstanpy - INFO - Chain [1] start processing\n"
     ]
    },
    {
     "name": "stdout",
     "output_type": "stream",
     "text": [
      "    Cross-validation accuracy for no2: 81.43%\n",
      "    Training model for pollutant: so2\n"
     ]
    },
    {
     "name": "stderr",
     "output_type": "stream",
     "text": [
      "20:57:27 - cmdstanpy - INFO - Chain [1] done processing\n"
     ]
    },
    {
     "name": "stdout",
     "output_type": "stream",
     "text": [
      "    Model training successful for so2\n",
      "    Performing cross-validation for so2\n"
     ]
    },
    {
     "data": {
      "application/vnd.jupyter.widget-view+json": {
       "model_id": "05e59b8c63aa46c9b0c9bb6e4e4ce16e",
       "version_major": 2,
       "version_minor": 0
      },
      "text/plain": [
       "  0%|          | 0/6 [00:00<?, ?it/s]"
      ]
     },
     "metadata": {},
     "output_type": "display_data"
    },
    {
     "name": "stderr",
     "output_type": "stream",
     "text": [
      "20:57:27 - cmdstanpy - INFO - Chain [1] start processing\n",
      "20:57:27 - cmdstanpy - INFO - Chain [1] done processing\n",
      "20:57:27 - cmdstanpy - INFO - Chain [1] start processing\n",
      "20:57:27 - cmdstanpy - INFO - Chain [1] done processing\n",
      "20:57:27 - cmdstanpy - INFO - Chain [1] start processing\n",
      "20:57:28 - cmdstanpy - INFO - Chain [1] done processing\n",
      "20:57:28 - cmdstanpy - INFO - Chain [1] start processing\n",
      "20:57:28 - cmdstanpy - INFO - Chain [1] done processing\n",
      "20:57:28 - cmdstanpy - INFO - Chain [1] start processing\n",
      "20:57:28 - cmdstanpy - INFO - Chain [1] done processing\n",
      "20:57:28 - cmdstanpy - INFO - Chain [1] start processing\n",
      "20:57:28 - cmdstanpy - INFO - Chain [1] done processing\n",
      "20:57:29 - cmdstanpy - INFO - Chain [1] start processing\n"
     ]
    },
    {
     "name": "stdout",
     "output_type": "stream",
     "text": [
      "    Cross-validation accuracy for so2: 67.81%\n",
      "    Training model for pollutant: co\n"
     ]
    },
    {
     "name": "stderr",
     "output_type": "stream",
     "text": [
      "20:57:29 - cmdstanpy - INFO - Chain [1] done processing\n"
     ]
    },
    {
     "name": "stdout",
     "output_type": "stream",
     "text": [
      "    Model training successful for co\n",
      "    Performing cross-validation for co\n"
     ]
    },
    {
     "data": {
      "application/vnd.jupyter.widget-view+json": {
       "model_id": "d30d12993fe449f79c91e31ee8ef971b",
       "version_major": 2,
       "version_minor": 0
      },
      "text/plain": [
       "  0%|          | 0/6 [00:00<?, ?it/s]"
      ]
     },
     "metadata": {},
     "output_type": "display_data"
    },
    {
     "name": "stderr",
     "output_type": "stream",
     "text": [
      "20:57:29 - cmdstanpy - INFO - Chain [1] start processing\n",
      "20:57:29 - cmdstanpy - INFO - Chain [1] done processing\n",
      "20:57:29 - cmdstanpy - INFO - Chain [1] start processing\n",
      "20:57:29 - cmdstanpy - INFO - Chain [1] done processing\n",
      "20:57:29 - cmdstanpy - INFO - Chain [1] start processing\n",
      "20:57:30 - cmdstanpy - INFO - Chain [1] done processing\n",
      "20:57:30 - cmdstanpy - INFO - Chain [1] start processing\n",
      "20:57:30 - cmdstanpy - INFO - Chain [1] done processing\n",
      "20:57:30 - cmdstanpy - INFO - Chain [1] start processing\n",
      "20:57:30 - cmdstanpy - INFO - Chain [1] done processing\n",
      "20:57:30 - cmdstanpy - INFO - Chain [1] start processing\n",
      "20:57:31 - cmdstanpy - INFO - Chain [1] done processing\n",
      "20:57:31 - cmdstanpy - INFO - Chain [1] start processing\n"
     ]
    },
    {
     "name": "stdout",
     "output_type": "stream",
     "text": [
      "    Cross-validation accuracy for co: 77.33%\n",
      "    Training model for pollutant: o3\n"
     ]
    },
    {
     "name": "stderr",
     "output_type": "stream",
     "text": [
      "20:57:31 - cmdstanpy - INFO - Chain [1] done processing\n"
     ]
    },
    {
     "name": "stdout",
     "output_type": "stream",
     "text": [
      "    Model training successful for o3\n",
      "    Performing cross-validation for o3\n"
     ]
    },
    {
     "data": {
      "application/vnd.jupyter.widget-view+json": {
       "model_id": "9bbcc5526a87454ebe46436fd1c50263",
       "version_major": 2,
       "version_minor": 0
      },
      "text/plain": [
       "  0%|          | 0/6 [00:00<?, ?it/s]"
      ]
     },
     "metadata": {},
     "output_type": "display_data"
    },
    {
     "name": "stderr",
     "output_type": "stream",
     "text": [
      "20:57:31 - cmdstanpy - INFO - Chain [1] start processing\n",
      "20:57:31 - cmdstanpy - INFO - Chain [1] done processing\n",
      "20:57:32 - cmdstanpy - INFO - Chain [1] start processing\n",
      "20:57:32 - cmdstanpy - INFO - Chain [1] done processing\n",
      "20:57:32 - cmdstanpy - INFO - Chain [1] start processing\n",
      "20:57:32 - cmdstanpy - INFO - Chain [1] done processing\n",
      "20:57:32 - cmdstanpy - INFO - Chain [1] start processing\n",
      "20:57:32 - cmdstanpy - INFO - Chain [1] done processing\n",
      "20:57:32 - cmdstanpy - INFO - Chain [1] start processing\n",
      "20:57:33 - cmdstanpy - INFO - Chain [1] done processing\n",
      "20:57:33 - cmdstanpy - INFO - Chain [1] start processing\n",
      "20:57:33 - cmdstanpy - INFO - Chain [1] done processing\n",
      "20:57:33 - cmdstanpy - INFO - Chain [1] start processing\n"
     ]
    },
    {
     "name": "stdout",
     "output_type": "stream",
     "text": [
      "    Cross-validation accuracy for o3: 73.90%\n",
      "    Saved trained models to ./Prophet_Models/Delhi/alipur,-delhi-air-quality_prophet_model.pkl\n",
      "  Training model for region: pusa,-delhi-air-quality.csv\n",
      "    Training model for pollutant: AQI\n"
     ]
    },
    {
     "name": "stderr",
     "output_type": "stream",
     "text": [
      "20:57:34 - cmdstanpy - INFO - Chain [1] done processing\n"
     ]
    },
    {
     "name": "stdout",
     "output_type": "stream",
     "text": [
      "    Model training successful for AQI\n",
      "    Performing cross-validation for AQI\n"
     ]
    },
    {
     "data": {
      "application/vnd.jupyter.widget-view+json": {
       "model_id": "4860eff2c1e446ab9ed879502102b024",
       "version_major": 2,
       "version_minor": 0
      },
      "text/plain": [
       "  0%|          | 0/8 [00:00<?, ?it/s]"
      ]
     },
     "metadata": {},
     "output_type": "display_data"
    },
    {
     "name": "stderr",
     "output_type": "stream",
     "text": [
      "20:57:35 - cmdstanpy - INFO - Chain [1] start processing\n",
      "20:57:35 - cmdstanpy - INFO - Chain [1] done processing\n",
      "20:57:35 - cmdstanpy - INFO - Chain [1] start processing\n",
      "20:57:35 - cmdstanpy - INFO - Chain [1] done processing\n",
      "20:57:35 - cmdstanpy - INFO - Chain [1] start processing\n",
      "20:57:35 - cmdstanpy - INFO - Chain [1] done processing\n",
      "20:57:36 - cmdstanpy - INFO - Chain [1] start processing\n",
      "20:57:36 - cmdstanpy - INFO - Chain [1] done processing\n",
      "20:57:36 - cmdstanpy - INFO - Chain [1] start processing\n",
      "20:57:37 - cmdstanpy - INFO - Chain [1] done processing\n",
      "20:57:37 - cmdstanpy - INFO - Chain [1] start processing\n",
      "20:57:37 - cmdstanpy - INFO - Chain [1] done processing\n",
      "20:57:37 - cmdstanpy - INFO - Chain [1] start processing\n",
      "20:57:38 - cmdstanpy - INFO - Chain [1] done processing\n",
      "20:57:38 - cmdstanpy - INFO - Chain [1] start processing\n",
      "20:57:39 - cmdstanpy - INFO - Chain [1] done processing\n",
      "20:57:39 - cmdstanpy - INFO - Chain [1] start processing\n"
     ]
    },
    {
     "name": "stdout",
     "output_type": "stream",
     "text": [
      "    Cross-validation accuracy for AQI: 97.97%\n",
      "    Training model for pollutant: pm25\n"
     ]
    },
    {
     "name": "stderr",
     "output_type": "stream",
     "text": [
      "20:57:40 - cmdstanpy - INFO - Chain [1] done processing\n"
     ]
    },
    {
     "name": "stdout",
     "output_type": "stream",
     "text": [
      "    Model training successful for pm25\n",
      "    Performing cross-validation for pm25\n"
     ]
    },
    {
     "data": {
      "application/vnd.jupyter.widget-view+json": {
       "model_id": "0da740b258a44f4897aa05e92762574c",
       "version_major": 2,
       "version_minor": 0
      },
      "text/plain": [
       "  0%|          | 0/8 [00:00<?, ?it/s]"
      ]
     },
     "metadata": {},
     "output_type": "display_data"
    },
    {
     "name": "stderr",
     "output_type": "stream",
     "text": [
      "20:57:40 - cmdstanpy - INFO - Chain [1] start processing\n",
      "20:57:40 - cmdstanpy - INFO - Chain [1] done processing\n",
      "20:57:40 - cmdstanpy - INFO - Chain [1] start processing\n",
      "20:57:40 - cmdstanpy - INFO - Chain [1] done processing\n",
      "20:57:41 - cmdstanpy - INFO - Chain [1] start processing\n",
      "20:57:41 - cmdstanpy - INFO - Chain [1] done processing\n",
      "20:57:41 - cmdstanpy - INFO - Chain [1] start processing\n",
      "20:57:41 - cmdstanpy - INFO - Chain [1] done processing\n",
      "20:57:41 - cmdstanpy - INFO - Chain [1] start processing\n",
      "20:57:42 - cmdstanpy - INFO - Chain [1] done processing\n",
      "20:57:42 - cmdstanpy - INFO - Chain [1] start processing\n",
      "20:57:42 - cmdstanpy - INFO - Chain [1] done processing\n",
      "20:57:42 - cmdstanpy - INFO - Chain [1] start processing\n",
      "20:57:43 - cmdstanpy - INFO - Chain [1] done processing\n",
      "20:57:43 - cmdstanpy - INFO - Chain [1] start processing\n",
      "20:57:43 - cmdstanpy - INFO - Chain [1] done processing\n",
      "20:57:44 - cmdstanpy - INFO - Chain [1] start processing\n"
     ]
    },
    {
     "name": "stdout",
     "output_type": "stream",
     "text": [
      "    Cross-validation accuracy for pm25: 94.96%\n",
      "    Training model for pollutant: pm10\n"
     ]
    },
    {
     "name": "stderr",
     "output_type": "stream",
     "text": [
      "20:57:44 - cmdstanpy - INFO - Chain [1] done processing\n"
     ]
    },
    {
     "name": "stdout",
     "output_type": "stream",
     "text": [
      "    Model training successful for pm10\n",
      "    Performing cross-validation for pm10\n"
     ]
    },
    {
     "data": {
      "application/vnd.jupyter.widget-view+json": {
       "model_id": "b75b0be4ccab4dc5ac462518c82d6009",
       "version_major": 2,
       "version_minor": 0
      },
      "text/plain": [
       "  0%|          | 0/8 [00:00<?, ?it/s]"
      ]
     },
     "metadata": {},
     "output_type": "display_data"
    },
    {
     "name": "stderr",
     "output_type": "stream",
     "text": [
      "20:57:44 - cmdstanpy - INFO - Chain [1] start processing\n",
      "20:57:45 - cmdstanpy - INFO - Chain [1] done processing\n",
      "20:57:45 - cmdstanpy - INFO - Chain [1] start processing\n",
      "20:57:45 - cmdstanpy - INFO - Chain [1] done processing\n",
      "20:57:45 - cmdstanpy - INFO - Chain [1] start processing\n",
      "20:57:45 - cmdstanpy - INFO - Chain [1] done processing\n",
      "20:57:45 - cmdstanpy - INFO - Chain [1] start processing\n",
      "20:57:45 - cmdstanpy - INFO - Chain [1] done processing\n",
      "20:57:46 - cmdstanpy - INFO - Chain [1] start processing\n",
      "20:57:46 - cmdstanpy - INFO - Chain [1] done processing\n",
      "20:57:46 - cmdstanpy - INFO - Chain [1] start processing\n",
      "20:57:46 - cmdstanpy - INFO - Chain [1] done processing\n",
      "20:57:47 - cmdstanpy - INFO - Chain [1] start processing\n",
      "20:57:47 - cmdstanpy - INFO - Chain [1] done processing\n",
      "20:57:47 - cmdstanpy - INFO - Chain [1] start processing\n",
      "20:57:47 - cmdstanpy - INFO - Chain [1] done processing\n",
      "20:57:48 - cmdstanpy - INFO - Chain [1] start processing\n"
     ]
    },
    {
     "name": "stdout",
     "output_type": "stream",
     "text": [
      "    Cross-validation accuracy for pm10: 90.14%\n",
      "    Training model for pollutant: no2\n"
     ]
    },
    {
     "name": "stderr",
     "output_type": "stream",
     "text": [
      "20:57:49 - cmdstanpy - INFO - Chain [1] done processing\n"
     ]
    },
    {
     "name": "stdout",
     "output_type": "stream",
     "text": [
      "    Model training successful for no2\n",
      "    Performing cross-validation for no2\n"
     ]
    },
    {
     "data": {
      "application/vnd.jupyter.widget-view+json": {
       "model_id": "5e716d1066d54f36b5d1bf4d889186c3",
       "version_major": 2,
       "version_minor": 0
      },
      "text/plain": [
       "  0%|          | 0/8 [00:00<?, ?it/s]"
      ]
     },
     "metadata": {},
     "output_type": "display_data"
    },
    {
     "name": "stderr",
     "output_type": "stream",
     "text": [
      "20:57:49 - cmdstanpy - INFO - Chain [1] start processing\n",
      "20:57:49 - cmdstanpy - INFO - Chain [1] done processing\n",
      "20:57:49 - cmdstanpy - INFO - Chain [1] start processing\n",
      "20:57:49 - cmdstanpy - INFO - Chain [1] done processing\n",
      "20:57:49 - cmdstanpy - INFO - Chain [1] start processing\n",
      "20:57:50 - cmdstanpy - INFO - Chain [1] done processing\n",
      "20:57:50 - cmdstanpy - INFO - Chain [1] start processing\n",
      "20:57:50 - cmdstanpy - INFO - Chain [1] done processing\n",
      "20:57:50 - cmdstanpy - INFO - Chain [1] start processing\n",
      "20:57:51 - cmdstanpy - INFO - Chain [1] done processing\n",
      "20:57:51 - cmdstanpy - INFO - Chain [1] start processing\n",
      "20:57:51 - cmdstanpy - INFO - Chain [1] done processing\n",
      "20:57:51 - cmdstanpy - INFO - Chain [1] start processing\n",
      "20:57:52 - cmdstanpy - INFO - Chain [1] done processing\n",
      "20:57:52 - cmdstanpy - INFO - Chain [1] start processing\n",
      "20:57:53 - cmdstanpy - INFO - Chain [1] done processing\n",
      "20:57:53 - cmdstanpy - INFO - Chain [1] start processing\n"
     ]
    },
    {
     "name": "stdout",
     "output_type": "stream",
     "text": [
      "    Cross-validation accuracy for no2: 78.00%\n",
      "    Training model for pollutant: so2\n"
     ]
    },
    {
     "name": "stderr",
     "output_type": "stream",
     "text": [
      "20:57:53 - cmdstanpy - INFO - Chain [1] done processing\n"
     ]
    },
    {
     "name": "stdout",
     "output_type": "stream",
     "text": [
      "    Model training successful for so2\n",
      "    Performing cross-validation for so2\n"
     ]
    },
    {
     "data": {
      "application/vnd.jupyter.widget-view+json": {
       "model_id": "3da1335b6e074094b5095d4463dcb5cb",
       "version_major": 2,
       "version_minor": 0
      },
      "text/plain": [
       "  0%|          | 0/8 [00:00<?, ?it/s]"
      ]
     },
     "metadata": {},
     "output_type": "display_data"
    },
    {
     "name": "stderr",
     "output_type": "stream",
     "text": [
      "20:57:53 - cmdstanpy - INFO - Chain [1] start processing\n",
      "20:57:53 - cmdstanpy - INFO - Chain [1] done processing\n",
      "20:57:54 - cmdstanpy - INFO - Chain [1] start processing\n",
      "20:57:54 - cmdstanpy - INFO - Chain [1] done processing\n",
      "20:57:54 - cmdstanpy - INFO - Chain [1] start processing\n",
      "20:57:54 - cmdstanpy - INFO - Chain [1] done processing\n",
      "20:57:54 - cmdstanpy - INFO - Chain [1] start processing\n",
      "20:57:55 - cmdstanpy - INFO - Chain [1] done processing\n",
      "20:57:55 - cmdstanpy - INFO - Chain [1] start processing\n",
      "20:57:55 - cmdstanpy - INFO - Chain [1] done processing\n",
      "20:57:55 - cmdstanpy - INFO - Chain [1] start processing\n",
      "20:57:56 - cmdstanpy - INFO - Chain [1] done processing\n",
      "20:57:56 - cmdstanpy - INFO - Chain [1] start processing\n",
      "20:57:57 - cmdstanpy - INFO - Chain [1] done processing\n",
      "20:57:57 - cmdstanpy - INFO - Chain [1] start processing\n",
      "20:57:57 - cmdstanpy - INFO - Chain [1] done processing\n",
      "20:57:57 - cmdstanpy - INFO - Chain [1] start processing\n"
     ]
    },
    {
     "name": "stdout",
     "output_type": "stream",
     "text": [
      "    Cross-validation accuracy for so2: 36.95%\n",
      "    Training model for pollutant: co\n"
     ]
    },
    {
     "name": "stderr",
     "output_type": "stream",
     "text": [
      "20:57:58 - cmdstanpy - INFO - Chain [1] done processing\n"
     ]
    },
    {
     "name": "stdout",
     "output_type": "stream",
     "text": [
      "    Model training successful for co\n",
      "    Performing cross-validation for co\n"
     ]
    },
    {
     "data": {
      "application/vnd.jupyter.widget-view+json": {
       "model_id": "3f0cf7b903554b7083fb9b14df3bf141",
       "version_major": 2,
       "version_minor": 0
      },
      "text/plain": [
       "  0%|          | 0/8 [00:00<?, ?it/s]"
      ]
     },
     "metadata": {},
     "output_type": "display_data"
    },
    {
     "name": "stderr",
     "output_type": "stream",
     "text": [
      "20:57:58 - cmdstanpy - INFO - Chain [1] start processing\n",
      "20:57:58 - cmdstanpy - INFO - Chain [1] done processing\n",
      "20:57:58 - cmdstanpy - INFO - Chain [1] start processing\n",
      "20:57:58 - cmdstanpy - INFO - Chain [1] done processing\n",
      "20:57:58 - cmdstanpy - INFO - Chain [1] start processing\n",
      "20:57:59 - cmdstanpy - INFO - Chain [1] done processing\n",
      "20:57:59 - cmdstanpy - INFO - Chain [1] start processing\n",
      "20:57:59 - cmdstanpy - INFO - Chain [1] done processing\n",
      "20:57:59 - cmdstanpy - INFO - Chain [1] start processing\n",
      "20:58:00 - cmdstanpy - INFO - Chain [1] done processing\n",
      "20:58:00 - cmdstanpy - INFO - Chain [1] start processing\n",
      "20:58:00 - cmdstanpy - INFO - Chain [1] done processing\n",
      "20:58:00 - cmdstanpy - INFO - Chain [1] start processing\n",
      "20:58:01 - cmdstanpy - INFO - Chain [1] done processing\n",
      "20:58:01 - cmdstanpy - INFO - Chain [1] start processing\n",
      "20:58:02 - cmdstanpy - INFO - Chain [1] done processing\n",
      "20:58:02 - cmdstanpy - INFO - Chain [1] start processing\n"
     ]
    },
    {
     "name": "stdout",
     "output_type": "stream",
     "text": [
      "    Cross-validation accuracy for co: 84.66%\n",
      "    Training model for pollutant: o3\n"
     ]
    },
    {
     "name": "stderr",
     "output_type": "stream",
     "text": [
      "20:58:03 - cmdstanpy - INFO - Chain [1] done processing\n"
     ]
    },
    {
     "name": "stdout",
     "output_type": "stream",
     "text": [
      "    Model training successful for o3\n",
      "    Performing cross-validation for o3\n"
     ]
    },
    {
     "data": {
      "application/vnd.jupyter.widget-view+json": {
       "model_id": "0cee18fbd3df4fdfae2378d33bf2bf1e",
       "version_major": 2,
       "version_minor": 0
      },
      "text/plain": [
       "  0%|          | 0/8 [00:00<?, ?it/s]"
      ]
     },
     "metadata": {},
     "output_type": "display_data"
    },
    {
     "name": "stderr",
     "output_type": "stream",
     "text": [
      "20:58:03 - cmdstanpy - INFO - Chain [1] start processing\n",
      "20:58:03 - cmdstanpy - INFO - Chain [1] done processing\n",
      "20:58:03 - cmdstanpy - INFO - Chain [1] start processing\n",
      "20:58:03 - cmdstanpy - INFO - Chain [1] done processing\n",
      "20:58:03 - cmdstanpy - INFO - Chain [1] start processing\n",
      "20:58:03 - cmdstanpy - INFO - Chain [1] done processing\n",
      "20:58:03 - cmdstanpy - INFO - Chain [1] start processing\n",
      "20:58:03 - cmdstanpy - INFO - Chain [1] done processing\n",
      "20:58:04 - cmdstanpy - INFO - Chain [1] start processing\n",
      "20:58:04 - cmdstanpy - INFO - Chain [1] done processing\n",
      "20:58:04 - cmdstanpy - INFO - Chain [1] start processing\n",
      "20:58:04 - cmdstanpy - INFO - Chain [1] done processing\n",
      "20:58:04 - cmdstanpy - INFO - Chain [1] start processing\n",
      "20:58:04 - cmdstanpy - INFO - Chain [1] done processing\n",
      "20:58:05 - cmdstanpy - INFO - Chain [1] start processing\n",
      "20:58:05 - cmdstanpy - INFO - Chain [1] done processing\n",
      "20:58:05 - cmdstanpy - INFO - Chain [1] start processing\n"
     ]
    },
    {
     "name": "stdout",
     "output_type": "stream",
     "text": [
      "    Cross-validation accuracy for o3: 70.36%\n",
      "    Saved trained models to ./Prophet_Models/Delhi/pusa,-delhi-air-quality_prophet_model.pkl\n",
      "\n",
      "Processing city: Hyderabad\n",
      "  Training model for region: zoo-park, bahadurpura west, hyderabad-air-quality.csv\n",
      "    Training model for pollutant: AQI\n"
     ]
    },
    {
     "name": "stderr",
     "output_type": "stream",
     "text": [
      "20:58:06 - cmdstanpy - INFO - Chain [1] done processing\n"
     ]
    },
    {
     "name": "stdout",
     "output_type": "stream",
     "text": [
      "    Model training successful for AQI\n",
      "    Performing cross-validation for AQI\n"
     ]
    },
    {
     "data": {
      "application/vnd.jupyter.widget-view+json": {
       "model_id": "b484ae5017f54ce490320743a6bf1c31",
       "version_major": 2,
       "version_minor": 0
      },
      "text/plain": [
       "  0%|          | 0/12 [00:00<?, ?it/s]"
      ]
     },
     "metadata": {},
     "output_type": "display_data"
    },
    {
     "name": "stderr",
     "output_type": "stream",
     "text": [
      "20:58:06 - cmdstanpy - INFO - Chain [1] start processing\n",
      "20:58:07 - cmdstanpy - INFO - Chain [1] done processing\n",
      "20:58:07 - cmdstanpy - INFO - Chain [1] start processing\n",
      "20:58:07 - cmdstanpy - INFO - Chain [1] done processing\n",
      "20:58:07 - cmdstanpy - INFO - Chain [1] start processing\n",
      "20:58:07 - cmdstanpy - INFO - Chain [1] done processing\n",
      "20:58:07 - cmdstanpy - INFO - Chain [1] start processing\n",
      "20:58:07 - cmdstanpy - INFO - Chain [1] done processing\n",
      "20:58:08 - cmdstanpy - INFO - Chain [1] start processing\n",
      "20:58:08 - cmdstanpy - INFO - Chain [1] done processing\n",
      "20:58:08 - cmdstanpy - INFO - Chain [1] start processing\n",
      "20:58:08 - cmdstanpy - INFO - Chain [1] done processing\n",
      "20:58:08 - cmdstanpy - INFO - Chain [1] start processing\n",
      "20:58:09 - cmdstanpy - INFO - Chain [1] done processing\n",
      "20:58:09 - cmdstanpy - INFO - Chain [1] start processing\n",
      "20:58:09 - cmdstanpy - INFO - Chain [1] done processing\n",
      "20:58:09 - cmdstanpy - INFO - Chain [1] start processing\n",
      "20:58:10 - cmdstanpy - INFO - Chain [1] done processing\n",
      "20:58:10 - cmdstanpy - INFO - Chain [1] start processing\n",
      "20:58:11 - cmdstanpy - INFO - Chain [1] done processing\n",
      "20:58:11 - cmdstanpy - INFO - Chain [1] start processing\n",
      "20:58:11 - cmdstanpy - INFO - Chain [1] done processing\n",
      "20:58:12 - cmdstanpy - INFO - Chain [1] start processing\n",
      "20:58:13 - cmdstanpy - INFO - Chain [1] done processing\n",
      "20:58:13 - cmdstanpy - INFO - Chain [1] start processing\n"
     ]
    },
    {
     "name": "stdout",
     "output_type": "stream",
     "text": [
      "    Cross-validation accuracy for AQI: 98.03%\n",
      "    Training model for pollutant: pm25\n"
     ]
    },
    {
     "name": "stderr",
     "output_type": "stream",
     "text": [
      "20:58:13 - cmdstanpy - INFO - Chain [1] done processing\n"
     ]
    },
    {
     "name": "stdout",
     "output_type": "stream",
     "text": [
      "    Model training successful for pm25\n",
      "    Performing cross-validation for pm25\n"
     ]
    },
    {
     "data": {
      "application/vnd.jupyter.widget-view+json": {
       "model_id": "719f08fb61b548db8ca64469fe699344",
       "version_major": 2,
       "version_minor": 0
      },
      "text/plain": [
       "  0%|          | 0/12 [00:00<?, ?it/s]"
      ]
     },
     "metadata": {},
     "output_type": "display_data"
    },
    {
     "name": "stderr",
     "output_type": "stream",
     "text": [
      "20:58:13 - cmdstanpy - INFO - Chain [1] start processing\n",
      "20:58:13 - cmdstanpy - INFO - Chain [1] done processing\n",
      "20:58:14 - cmdstanpy - INFO - Chain [1] start processing\n",
      "20:58:14 - cmdstanpy - INFO - Chain [1] done processing\n",
      "20:58:14 - cmdstanpy - INFO - Chain [1] start processing\n",
      "20:58:14 - cmdstanpy - INFO - Chain [1] done processing\n",
      "20:58:14 - cmdstanpy - INFO - Chain [1] start processing\n",
      "20:58:14 - cmdstanpy - INFO - Chain [1] done processing\n",
      "20:58:14 - cmdstanpy - INFO - Chain [1] start processing\n",
      "20:58:14 - cmdstanpy - INFO - Chain [1] done processing\n",
      "20:58:15 - cmdstanpy - INFO - Chain [1] start processing\n",
      "20:58:15 - cmdstanpy - INFO - Chain [1] done processing\n",
      "20:58:15 - cmdstanpy - INFO - Chain [1] start processing\n",
      "20:58:15 - cmdstanpy - INFO - Chain [1] done processing\n",
      "20:58:15 - cmdstanpy - INFO - Chain [1] start processing\n",
      "20:58:15 - cmdstanpy - INFO - Chain [1] done processing\n",
      "20:58:16 - cmdstanpy - INFO - Chain [1] start processing\n",
      "20:58:16 - cmdstanpy - INFO - Chain [1] done processing\n",
      "20:58:16 - cmdstanpy - INFO - Chain [1] start processing\n",
      "20:58:17 - cmdstanpy - INFO - Chain [1] done processing\n",
      "20:58:17 - cmdstanpy - INFO - Chain [1] start processing\n",
      "20:58:17 - cmdstanpy - INFO - Chain [1] done processing\n",
      "20:58:17 - cmdstanpy - INFO - Chain [1] start processing\n",
      "20:58:18 - cmdstanpy - INFO - Chain [1] done processing\n",
      "20:58:18 - cmdstanpy - INFO - Chain [1] start processing\n"
     ]
    },
    {
     "name": "stdout",
     "output_type": "stream",
     "text": [
      "    Cross-validation accuracy for pm25: 93.70%\n",
      "    Training model for pollutant: pm10\n"
     ]
    },
    {
     "name": "stderr",
     "output_type": "stream",
     "text": [
      "20:58:19 - cmdstanpy - INFO - Chain [1] done processing\n"
     ]
    },
    {
     "name": "stdout",
     "output_type": "stream",
     "text": [
      "    Model training successful for pm10\n",
      "    Performing cross-validation for pm10\n"
     ]
    },
    {
     "data": {
      "application/vnd.jupyter.widget-view+json": {
       "model_id": "bab76f11eec44dd88518e58766e4ea62",
       "version_major": 2,
       "version_minor": 0
      },
      "text/plain": [
       "  0%|          | 0/12 [00:00<?, ?it/s]"
      ]
     },
     "metadata": {},
     "output_type": "display_data"
    },
    {
     "name": "stderr",
     "output_type": "stream",
     "text": [
      "20:58:19 - cmdstanpy - INFO - Chain [1] start processing\n",
      "20:58:19 - cmdstanpy - INFO - Chain [1] done processing\n",
      "20:58:19 - cmdstanpy - INFO - Chain [1] start processing\n",
      "20:58:19 - cmdstanpy - INFO - Chain [1] done processing\n",
      "20:58:19 - cmdstanpy - INFO - Chain [1] start processing\n",
      "20:58:19 - cmdstanpy - INFO - Chain [1] done processing\n",
      "20:58:19 - cmdstanpy - INFO - Chain [1] start processing\n",
      "20:58:20 - cmdstanpy - INFO - Chain [1] done processing\n",
      "20:58:20 - cmdstanpy - INFO - Chain [1] start processing\n",
      "20:58:20 - cmdstanpy - INFO - Chain [1] done processing\n",
      "20:58:20 - cmdstanpy - INFO - Chain [1] start processing\n",
      "20:58:21 - cmdstanpy - INFO - Chain [1] done processing\n",
      "20:58:21 - cmdstanpy - INFO - Chain [1] start processing\n",
      "20:58:21 - cmdstanpy - INFO - Chain [1] done processing\n",
      "20:58:21 - cmdstanpy - INFO - Chain [1] start processing\n",
      "20:58:21 - cmdstanpy - INFO - Chain [1] done processing\n",
      "20:58:22 - cmdstanpy - INFO - Chain [1] start processing\n",
      "20:58:22 - cmdstanpy - INFO - Chain [1] done processing\n",
      "20:58:22 - cmdstanpy - INFO - Chain [1] start processing\n",
      "20:58:22 - cmdstanpy - INFO - Chain [1] done processing\n",
      "20:58:23 - cmdstanpy - INFO - Chain [1] start processing\n",
      "20:58:23 - cmdstanpy - INFO - Chain [1] done processing\n",
      "20:58:23 - cmdstanpy - INFO - Chain [1] start processing\n",
      "20:58:24 - cmdstanpy - INFO - Chain [1] done processing\n",
      "20:58:24 - cmdstanpy - INFO - Chain [1] start processing\n"
     ]
    },
    {
     "name": "stdout",
     "output_type": "stream",
     "text": [
      "    Cross-validation accuracy for pm10: 90.68%\n",
      "    Training model for pollutant: no2\n"
     ]
    },
    {
     "name": "stderr",
     "output_type": "stream",
     "text": [
      "20:58:25 - cmdstanpy - INFO - Chain [1] done processing\n"
     ]
    },
    {
     "name": "stdout",
     "output_type": "stream",
     "text": [
      "    Model training successful for no2\n",
      "    Performing cross-validation for no2\n"
     ]
    },
    {
     "data": {
      "application/vnd.jupyter.widget-view+json": {
       "model_id": "124b19bf2df34b02990af0e17002cfd7",
       "version_major": 2,
       "version_minor": 0
      },
      "text/plain": [
       "  0%|          | 0/12 [00:00<?, ?it/s]"
      ]
     },
     "metadata": {},
     "output_type": "display_data"
    },
    {
     "name": "stderr",
     "output_type": "stream",
     "text": [
      "20:58:25 - cmdstanpy - INFO - Chain [1] start processing\n",
      "20:58:25 - cmdstanpy - INFO - Chain [1] done processing\n",
      "20:58:25 - cmdstanpy - INFO - Chain [1] start processing\n",
      "20:58:25 - cmdstanpy - INFO - Chain [1] done processing\n",
      "20:58:25 - cmdstanpy - INFO - Chain [1] start processing\n",
      "20:58:26 - cmdstanpy - INFO - Chain [1] done processing\n",
      "20:58:26 - cmdstanpy - INFO - Chain [1] start processing\n",
      "20:58:26 - cmdstanpy - INFO - Chain [1] done processing\n",
      "20:58:26 - cmdstanpy - INFO - Chain [1] start processing\n",
      "20:58:27 - cmdstanpy - INFO - Chain [1] done processing\n",
      "20:58:27 - cmdstanpy - INFO - Chain [1] start processing\n",
      "20:58:27 - cmdstanpy - INFO - Chain [1] done processing\n",
      "20:58:27 - cmdstanpy - INFO - Chain [1] start processing\n",
      "20:58:28 - cmdstanpy - INFO - Chain [1] done processing\n",
      "20:58:28 - cmdstanpy - INFO - Chain [1] start processing\n",
      "20:58:29 - cmdstanpy - INFO - Chain [1] done processing\n",
      "20:58:29 - cmdstanpy - INFO - Chain [1] start processing\n",
      "20:58:30 - cmdstanpy - INFO - Chain [1] done processing\n",
      "20:58:30 - cmdstanpy - INFO - Chain [1] start processing\n",
      "20:58:32 - cmdstanpy - INFO - Chain [1] done processing\n",
      "20:58:32 - cmdstanpy - INFO - Chain [1] start processing\n",
      "20:58:33 - cmdstanpy - INFO - Chain [1] done processing\n",
      "20:58:33 - cmdstanpy - INFO - Chain [1] start processing\n",
      "20:58:35 - cmdstanpy - INFO - Chain [1] done processing\n",
      "20:58:35 - cmdstanpy - INFO - Chain [1] start processing\n"
     ]
    },
    {
     "name": "stdout",
     "output_type": "stream",
     "text": [
      "    Cross-validation accuracy for no2: 76.21%\n",
      "    Training model for pollutant: so2\n"
     ]
    },
    {
     "name": "stderr",
     "output_type": "stream",
     "text": [
      "20:58:35 - cmdstanpy - INFO - Chain [1] done processing\n"
     ]
    },
    {
     "name": "stdout",
     "output_type": "stream",
     "text": [
      "    Model training successful for so2\n",
      "    Performing cross-validation for so2\n"
     ]
    },
    {
     "data": {
      "application/vnd.jupyter.widget-view+json": {
       "model_id": "d4b74487648a497da852e556c4099296",
       "version_major": 2,
       "version_minor": 0
      },
      "text/plain": [
       "  0%|          | 0/12 [00:00<?, ?it/s]"
      ]
     },
     "metadata": {},
     "output_type": "display_data"
    },
    {
     "name": "stderr",
     "output_type": "stream",
     "text": [
      "20:58:35 - cmdstanpy - INFO - Chain [1] start processing\n",
      "20:58:36 - cmdstanpy - INFO - Chain [1] done processing\n",
      "20:58:36 - cmdstanpy - INFO - Chain [1] start processing\n",
      "20:58:36 - cmdstanpy - INFO - Chain [1] done processing\n",
      "20:58:36 - cmdstanpy - INFO - Chain [1] start processing\n",
      "20:58:36 - cmdstanpy - INFO - Chain [1] done processing\n",
      "20:58:36 - cmdstanpy - INFO - Chain [1] start processing\n",
      "20:58:36 - cmdstanpy - INFO - Chain [1] done processing\n",
      "20:58:36 - cmdstanpy - INFO - Chain [1] start processing\n",
      "20:58:36 - cmdstanpy - INFO - Chain [1] done processing\n",
      "20:58:37 - cmdstanpy - INFO - Chain [1] start processing\n",
      "20:58:37 - cmdstanpy - INFO - Chain [1] done processing\n",
      "20:58:37 - cmdstanpy - INFO - Chain [1] start processing\n",
      "20:58:37 - cmdstanpy - INFO - Chain [1] done processing\n",
      "20:58:37 - cmdstanpy - INFO - Chain [1] start processing\n",
      "20:58:37 - cmdstanpy - INFO - Chain [1] done processing\n",
      "20:58:38 - cmdstanpy - INFO - Chain [1] start processing\n",
      "20:58:38 - cmdstanpy - INFO - Chain [1] done processing\n",
      "20:58:38 - cmdstanpy - INFO - Chain [1] start processing\n",
      "20:58:39 - cmdstanpy - INFO - Chain [1] done processing\n",
      "20:58:39 - cmdstanpy - INFO - Chain [1] start processing\n",
      "20:58:39 - cmdstanpy - INFO - Chain [1] done processing\n",
      "20:58:39 - cmdstanpy - INFO - Chain [1] start processing\n",
      "20:58:40 - cmdstanpy - INFO - Chain [1] done processing\n",
      "20:58:40 - cmdstanpy - INFO - Chain [1] start processing\n"
     ]
    },
    {
     "name": "stdout",
     "output_type": "stream",
     "text": [
      "    Cross-validation accuracy for so2: 48.99%\n",
      "    Training model for pollutant: co\n"
     ]
    },
    {
     "name": "stderr",
     "output_type": "stream",
     "text": [
      "20:58:41 - cmdstanpy - INFO - Chain [1] done processing\n"
     ]
    },
    {
     "name": "stdout",
     "output_type": "stream",
     "text": [
      "    Model training successful for co\n",
      "    Performing cross-validation for co\n"
     ]
    },
    {
     "data": {
      "application/vnd.jupyter.widget-view+json": {
       "model_id": "be8ecf915c7448b489ef365ab731e444",
       "version_major": 2,
       "version_minor": 0
      },
      "text/plain": [
       "  0%|          | 0/12 [00:00<?, ?it/s]"
      ]
     },
     "metadata": {},
     "output_type": "display_data"
    },
    {
     "name": "stderr",
     "output_type": "stream",
     "text": [
      "20:58:41 - cmdstanpy - INFO - Chain [1] start processing\n",
      "20:58:41 - cmdstanpy - INFO - Chain [1] done processing\n",
      "20:58:42 - cmdstanpy - INFO - Chain [1] start processing\n",
      "20:58:42 - cmdstanpy - INFO - Chain [1] done processing\n",
      "20:58:42 - cmdstanpy - INFO - Chain [1] start processing\n",
      "20:58:42 - cmdstanpy - INFO - Chain [1] done processing\n",
      "20:58:42 - cmdstanpy - INFO - Chain [1] start processing\n",
      "20:58:42 - cmdstanpy - INFO - Chain [1] done processing\n",
      "20:58:42 - cmdstanpy - INFO - Chain [1] start processing\n",
      "20:58:43 - cmdstanpy - INFO - Chain [1] done processing\n",
      "20:58:43 - cmdstanpy - INFO - Chain [1] start processing\n",
      "20:58:43 - cmdstanpy - INFO - Chain [1] done processing\n",
      "20:58:43 - cmdstanpy - INFO - Chain [1] start processing\n",
      "20:58:43 - cmdstanpy - INFO - Chain [1] done processing\n",
      "20:58:43 - cmdstanpy - INFO - Chain [1] start processing\n",
      "20:58:44 - cmdstanpy - INFO - Chain [1] done processing\n",
      "20:58:44 - cmdstanpy - INFO - Chain [1] start processing\n",
      "20:58:45 - cmdstanpy - INFO - Chain [1] done processing\n",
      "20:58:45 - cmdstanpy - INFO - Chain [1] start processing\n",
      "20:58:46 - cmdstanpy - INFO - Chain [1] done processing\n",
      "20:58:46 - cmdstanpy - INFO - Chain [1] start processing\n",
      "20:58:47 - cmdstanpy - INFO - Chain [1] done processing\n",
      "20:58:47 - cmdstanpy - INFO - Chain [1] start processing\n",
      "20:58:48 - cmdstanpy - INFO - Chain [1] done processing\n",
      "20:58:48 - cmdstanpy - INFO - Chain [1] start processing\n"
     ]
    },
    {
     "name": "stdout",
     "output_type": "stream",
     "text": [
      "    Cross-validation accuracy for co: 63.48%\n",
      "    Training model for pollutant: o3\n"
     ]
    },
    {
     "name": "stderr",
     "output_type": "stream",
     "text": [
      "20:58:49 - cmdstanpy - INFO - Chain [1] done processing\n"
     ]
    },
    {
     "name": "stdout",
     "output_type": "stream",
     "text": [
      "    Model training successful for o3\n",
      "    Performing cross-validation for o3\n"
     ]
    },
    {
     "data": {
      "application/vnd.jupyter.widget-view+json": {
       "model_id": "b7967ab137fb4d239ecbe9faf8fc80e5",
       "version_major": 2,
       "version_minor": 0
      },
      "text/plain": [
       "  0%|          | 0/12 [00:00<?, ?it/s]"
      ]
     },
     "metadata": {},
     "output_type": "display_data"
    },
    {
     "name": "stderr",
     "output_type": "stream",
     "text": [
      "20:58:50 - cmdstanpy - INFO - Chain [1] start processing\n",
      "20:58:50 - cmdstanpy - INFO - Chain [1] done processing\n",
      "20:58:50 - cmdstanpy - INFO - Chain [1] start processing\n",
      "20:58:50 - cmdstanpy - INFO - Chain [1] done processing\n",
      "20:58:50 - cmdstanpy - INFO - Chain [1] start processing\n",
      "20:58:50 - cmdstanpy - INFO - Chain [1] done processing\n",
      "20:58:50 - cmdstanpy - INFO - Chain [1] start processing\n",
      "20:58:51 - cmdstanpy - INFO - Chain [1] done processing\n",
      "20:58:51 - cmdstanpy - INFO - Chain [1] start processing\n",
      "20:58:51 - cmdstanpy - INFO - Chain [1] done processing\n",
      "20:58:51 - cmdstanpy - INFO - Chain [1] start processing\n",
      "20:58:51 - cmdstanpy - INFO - Chain [1] done processing\n",
      "20:58:51 - cmdstanpy - INFO - Chain [1] start processing\n",
      "20:58:52 - cmdstanpy - INFO - Chain [1] done processing\n",
      "20:58:52 - cmdstanpy - INFO - Chain [1] start processing\n",
      "20:58:52 - cmdstanpy - INFO - Chain [1] done processing\n",
      "20:58:52 - cmdstanpy - INFO - Chain [1] start processing\n",
      "20:58:53 - cmdstanpy - INFO - Chain [1] done processing\n",
      "20:58:53 - cmdstanpy - INFO - Chain [1] start processing\n",
      "20:58:54 - cmdstanpy - INFO - Chain [1] done processing\n",
      "20:58:54 - cmdstanpy - INFO - Chain [1] start processing\n",
      "20:58:55 - cmdstanpy - INFO - Chain [1] done processing\n",
      "20:58:55 - cmdstanpy - INFO - Chain [1] start processing\n",
      "20:58:55 - cmdstanpy - INFO - Chain [1] done processing\n",
      "20:58:56 - cmdstanpy - INFO - Chain [1] start processing\n"
     ]
    },
    {
     "name": "stdout",
     "output_type": "stream",
     "text": [
      "    Cross-validation accuracy for o3: 82.75%\n",
      "    Saved trained models to ./Prophet_Models/Hyderabad/zoo-park, bahadurpura west, hyderabad-air-quality_prophet_model.pkl\n",
      "  Training model for region: icrisat-patancheru, hyderabad-air-quality.csv\n",
      "    Training model for pollutant: AQI\n"
     ]
    },
    {
     "name": "stderr",
     "output_type": "stream",
     "text": [
      "20:58:56 - cmdstanpy - INFO - Chain [1] done processing\n"
     ]
    },
    {
     "name": "stdout",
     "output_type": "stream",
     "text": [
      "    Model training successful for AQI\n",
      "    Performing cross-validation for AQI\n"
     ]
    },
    {
     "data": {
      "application/vnd.jupyter.widget-view+json": {
       "model_id": "819a6ed01f1846e8830307927ed7b080",
       "version_major": 2,
       "version_minor": 0
      },
      "text/plain": [
       "  0%|          | 0/8 [00:00<?, ?it/s]"
      ]
     },
     "metadata": {},
     "output_type": "display_data"
    },
    {
     "name": "stderr",
     "output_type": "stream",
     "text": [
      "20:58:56 - cmdstanpy - INFO - Chain [1] start processing\n",
      "20:58:56 - cmdstanpy - INFO - Chain [1] done processing\n",
      "20:58:56 - cmdstanpy - INFO - Chain [1] start processing\n",
      "20:58:56 - cmdstanpy - INFO - Chain [1] done processing\n",
      "20:58:57 - cmdstanpy - INFO - Chain [1] start processing\n",
      "20:58:57 - cmdstanpy - INFO - Chain [1] done processing\n",
      "20:58:57 - cmdstanpy - INFO - Chain [1] start processing\n",
      "20:58:57 - cmdstanpy - INFO - Chain [1] done processing\n",
      "20:58:57 - cmdstanpy - INFO - Chain [1] start processing\n",
      "20:58:58 - cmdstanpy - INFO - Chain [1] done processing\n",
      "20:58:58 - cmdstanpy - INFO - Chain [1] start processing\n",
      "20:58:58 - cmdstanpy - INFO - Chain [1] done processing\n",
      "20:58:58 - cmdstanpy - INFO - Chain [1] start processing\n",
      "20:58:58 - cmdstanpy - INFO - Chain [1] done processing\n",
      "20:58:58 - cmdstanpy - INFO - Chain [1] start processing\n",
      "20:58:59 - cmdstanpy - INFO - Chain [1] done processing\n",
      "20:58:59 - cmdstanpy - INFO - Chain [1] start processing\n"
     ]
    },
    {
     "name": "stdout",
     "output_type": "stream",
     "text": [
      "    Cross-validation accuracy for AQI: 97.19%\n",
      "    Training model for pollutant: pm25\n"
     ]
    },
    {
     "name": "stderr",
     "output_type": "stream",
     "text": [
      "20:58:59 - cmdstanpy - INFO - Chain [1] done processing\n"
     ]
    },
    {
     "name": "stdout",
     "output_type": "stream",
     "text": [
      "    Model training successful for pm25\n",
      "    Performing cross-validation for pm25\n"
     ]
    },
    {
     "data": {
      "application/vnd.jupyter.widget-view+json": {
       "model_id": "1093f9716d1249258c5c79d53fbae446",
       "version_major": 2,
       "version_minor": 0
      },
      "text/plain": [
       "  0%|          | 0/8 [00:00<?, ?it/s]"
      ]
     },
     "metadata": {},
     "output_type": "display_data"
    },
    {
     "name": "stderr",
     "output_type": "stream",
     "text": [
      "20:58:59 - cmdstanpy - INFO - Chain [1] start processing\n",
      "20:59:00 - cmdstanpy - INFO - Chain [1] done processing\n",
      "20:59:00 - cmdstanpy - INFO - Chain [1] start processing\n",
      "20:59:00 - cmdstanpy - INFO - Chain [1] done processing\n",
      "20:59:00 - cmdstanpy - INFO - Chain [1] start processing\n",
      "20:59:00 - cmdstanpy - INFO - Chain [1] done processing\n",
      "20:59:00 - cmdstanpy - INFO - Chain [1] start processing\n",
      "20:59:00 - cmdstanpy - INFO - Chain [1] done processing\n",
      "20:59:01 - cmdstanpy - INFO - Chain [1] start processing\n",
      "20:59:01 - cmdstanpy - INFO - Chain [1] done processing\n",
      "20:59:01 - cmdstanpy - INFO - Chain [1] start processing\n",
      "20:59:01 - cmdstanpy - INFO - Chain [1] done processing\n",
      "20:59:01 - cmdstanpy - INFO - Chain [1] start processing\n",
      "20:59:01 - cmdstanpy - INFO - Chain [1] done processing\n",
      "20:59:02 - cmdstanpy - INFO - Chain [1] start processing\n",
      "20:59:02 - cmdstanpy - INFO - Chain [1] done processing\n",
      "20:59:02 - cmdstanpy - INFO - Chain [1] start processing\n"
     ]
    },
    {
     "name": "stdout",
     "output_type": "stream",
     "text": [
      "    Cross-validation accuracy for pm25: 88.39%\n",
      "    Training model for pollutant: pm10\n"
     ]
    },
    {
     "name": "stderr",
     "output_type": "stream",
     "text": [
      "20:59:03 - cmdstanpy - INFO - Chain [1] done processing\n"
     ]
    },
    {
     "name": "stdout",
     "output_type": "stream",
     "text": [
      "    Model training successful for pm10\n",
      "    Performing cross-validation for pm10\n"
     ]
    },
    {
     "data": {
      "application/vnd.jupyter.widget-view+json": {
       "model_id": "0b6c810f753d4997a85701905aa8c057",
       "version_major": 2,
       "version_minor": 0
      },
      "text/plain": [
       "  0%|          | 0/8 [00:00<?, ?it/s]"
      ]
     },
     "metadata": {},
     "output_type": "display_data"
    },
    {
     "name": "stderr",
     "output_type": "stream",
     "text": [
      "20:59:03 - cmdstanpy - INFO - Chain [1] start processing\n",
      "20:59:03 - cmdstanpy - INFO - Chain [1] done processing\n",
      "20:59:03 - cmdstanpy - INFO - Chain [1] start processing\n",
      "20:59:03 - cmdstanpy - INFO - Chain [1] done processing\n",
      "20:59:03 - cmdstanpy - INFO - Chain [1] start processing\n",
      "20:59:03 - cmdstanpy - INFO - Chain [1] done processing\n",
      "20:59:03 - cmdstanpy - INFO - Chain [1] start processing\n",
      "20:59:03 - cmdstanpy - INFO - Chain [1] done processing\n",
      "20:59:04 - cmdstanpy - INFO - Chain [1] start processing\n",
      "20:59:04 - cmdstanpy - INFO - Chain [1] done processing\n",
      "20:59:04 - cmdstanpy - INFO - Chain [1] start processing\n",
      "20:59:04 - cmdstanpy - INFO - Chain [1] done processing\n",
      "20:59:04 - cmdstanpy - INFO - Chain [1] start processing\n",
      "20:59:05 - cmdstanpy - INFO - Chain [1] done processing\n",
      "20:59:05 - cmdstanpy - INFO - Chain [1] start processing\n",
      "20:59:05 - cmdstanpy - INFO - Chain [1] done processing\n",
      "20:59:05 - cmdstanpy - INFO - Chain [1] start processing\n",
      "20:59:05 - cmdstanpy - INFO - Chain [1] done processing\n"
     ]
    },
    {
     "name": "stdout",
     "output_type": "stream",
     "text": [
      "    Cross-validation accuracy for pm10: 87.93%\n",
      "    Training model for pollutant: no2\n",
      "    Model training successful for no2\n",
      "    Performing cross-validation for no2\n"
     ]
    },
    {
     "data": {
      "application/vnd.jupyter.widget-view+json": {
       "model_id": "0ec50820fd614547a75a9e82a4ee575e",
       "version_major": 2,
       "version_minor": 0
      },
      "text/plain": [
       "  0%|          | 0/8 [00:00<?, ?it/s]"
      ]
     },
     "metadata": {},
     "output_type": "display_data"
    },
    {
     "name": "stderr",
     "output_type": "stream",
     "text": [
      "20:59:05 - cmdstanpy - INFO - Chain [1] start processing\n",
      "20:59:05 - cmdstanpy - INFO - Chain [1] done processing\n",
      "20:59:06 - cmdstanpy - INFO - Chain [1] start processing\n",
      "20:59:06 - cmdstanpy - INFO - Chain [1] done processing\n",
      "20:59:06 - cmdstanpy - INFO - Chain [1] start processing\n",
      "20:59:06 - cmdstanpy - INFO - Chain [1] done processing\n",
      "20:59:06 - cmdstanpy - INFO - Chain [1] start processing\n",
      "20:59:06 - cmdstanpy - INFO - Chain [1] done processing\n",
      "20:59:06 - cmdstanpy - INFO - Chain [1] start processing\n",
      "20:59:07 - cmdstanpy - INFO - Chain [1] done processing\n",
      "20:59:07 - cmdstanpy - INFO - Chain [1] start processing\n",
      "20:59:07 - cmdstanpy - INFO - Chain [1] done processing\n",
      "20:59:07 - cmdstanpy - INFO - Chain [1] start processing\n",
      "20:59:07 - cmdstanpy - INFO - Chain [1] done processing\n",
      "20:59:07 - cmdstanpy - INFO - Chain [1] start processing\n",
      "20:59:07 - cmdstanpy - INFO - Chain [1] done processing\n",
      "20:59:08 - cmdstanpy - INFO - Chain [1] start processing\n",
      "20:59:08 - cmdstanpy - INFO - Chain [1] done processing\n"
     ]
    },
    {
     "name": "stdout",
     "output_type": "stream",
     "text": [
      "    Cross-validation accuracy for no2: 59.23%\n",
      "    Training model for pollutant: so2\n",
      "    Model training successful for so2\n",
      "    Performing cross-validation for so2\n"
     ]
    },
    {
     "data": {
      "application/vnd.jupyter.widget-view+json": {
       "model_id": "7be22bf145194e74bb1636c0fc542b83",
       "version_major": 2,
       "version_minor": 0
      },
      "text/plain": [
       "  0%|          | 0/8 [00:00<?, ?it/s]"
      ]
     },
     "metadata": {},
     "output_type": "display_data"
    },
    {
     "name": "stderr",
     "output_type": "stream",
     "text": [
      "20:59:08 - cmdstanpy - INFO - Chain [1] start processing\n",
      "20:59:08 - cmdstanpy - INFO - Chain [1] done processing\n",
      "20:59:08 - cmdstanpy - INFO - Chain [1] start processing\n",
      "20:59:08 - cmdstanpy - INFO - Chain [1] done processing\n",
      "20:59:08 - cmdstanpy - INFO - Chain [1] start processing\n",
      "20:59:08 - cmdstanpy - INFO - Chain [1] done processing\n",
      "20:59:08 - cmdstanpy - INFO - Chain [1] start processing\n",
      "20:59:09 - cmdstanpy - INFO - Chain [1] done processing\n",
      "20:59:09 - cmdstanpy - INFO - Chain [1] start processing\n",
      "20:59:09 - cmdstanpy - INFO - Chain [1] done processing\n",
      "20:59:09 - cmdstanpy - INFO - Chain [1] start processing\n",
      "20:59:09 - cmdstanpy - INFO - Chain [1] done processing\n",
      "20:59:09 - cmdstanpy - INFO - Chain [1] start processing\n",
      "20:59:10 - cmdstanpy - INFO - Chain [1] done processing\n",
      "20:59:10 - cmdstanpy - INFO - Chain [1] start processing\n",
      "20:59:10 - cmdstanpy - INFO - Chain [1] done processing\n",
      "20:59:10 - cmdstanpy - INFO - Chain [1] start processing\n"
     ]
    },
    {
     "name": "stdout",
     "output_type": "stream",
     "text": [
      "    Cross-validation accuracy for so2: 66.93%\n",
      "    Training model for pollutant: co\n"
     ]
    },
    {
     "name": "stderr",
     "output_type": "stream",
     "text": [
      "20:59:11 - cmdstanpy - INFO - Chain [1] done processing\n"
     ]
    },
    {
     "name": "stdout",
     "output_type": "stream",
     "text": [
      "    Model training successful for co\n",
      "    Performing cross-validation for co\n"
     ]
    },
    {
     "data": {
      "application/vnd.jupyter.widget-view+json": {
       "model_id": "64a584881085438c8809945911347102",
       "version_major": 2,
       "version_minor": 0
      },
      "text/plain": [
       "  0%|          | 0/8 [00:00<?, ?it/s]"
      ]
     },
     "metadata": {},
     "output_type": "display_data"
    },
    {
     "name": "stderr",
     "output_type": "stream",
     "text": [
      "20:59:11 - cmdstanpy - INFO - Chain [1] start processing\n",
      "20:59:11 - cmdstanpy - INFO - Chain [1] done processing\n",
      "20:59:11 - cmdstanpy - INFO - Chain [1] start processing\n",
      "20:59:11 - cmdstanpy - INFO - Chain [1] done processing\n",
      "20:59:11 - cmdstanpy - INFO - Chain [1] start processing\n",
      "20:59:11 - cmdstanpy - INFO - Chain [1] done processing\n",
      "20:59:11 - cmdstanpy - INFO - Chain [1] start processing\n",
      "20:59:11 - cmdstanpy - INFO - Chain [1] done processing\n",
      "20:59:12 - cmdstanpy - INFO - Chain [1] start processing\n",
      "20:59:12 - cmdstanpy - INFO - Chain [1] done processing\n",
      "20:59:12 - cmdstanpy - INFO - Chain [1] start processing\n",
      "20:59:12 - cmdstanpy - INFO - Chain [1] done processing\n",
      "20:59:12 - cmdstanpy - INFO - Chain [1] start processing\n",
      "20:59:13 - cmdstanpy - INFO - Chain [1] done processing\n",
      "20:59:13 - cmdstanpy - INFO - Chain [1] start processing\n",
      "20:59:13 - cmdstanpy - INFO - Chain [1] done processing\n",
      "20:59:13 - cmdstanpy - INFO - Chain [1] start processing\n"
     ]
    },
    {
     "name": "stdout",
     "output_type": "stream",
     "text": [
      "    Cross-validation accuracy for co: 62.07%\n",
      "    Training model for pollutant: o3\n"
     ]
    },
    {
     "name": "stderr",
     "output_type": "stream",
     "text": [
      "20:59:14 - cmdstanpy - INFO - Chain [1] done processing\n"
     ]
    },
    {
     "name": "stdout",
     "output_type": "stream",
     "text": [
      "    Model training successful for o3\n",
      "    Performing cross-validation for o3\n"
     ]
    },
    {
     "data": {
      "application/vnd.jupyter.widget-view+json": {
       "model_id": "61790cbad0e84390b0088a8cb4fb8598",
       "version_major": 2,
       "version_minor": 0
      },
      "text/plain": [
       "  0%|          | 0/8 [00:00<?, ?it/s]"
      ]
     },
     "metadata": {},
     "output_type": "display_data"
    },
    {
     "name": "stderr",
     "output_type": "stream",
     "text": [
      "20:59:14 - cmdstanpy - INFO - Chain [1] start processing\n",
      "20:59:14 - cmdstanpy - INFO - Chain [1] done processing\n",
      "20:59:14 - cmdstanpy - INFO - Chain [1] start processing\n",
      "20:59:14 - cmdstanpy - INFO - Chain [1] done processing\n",
      "20:59:15 - cmdstanpy - INFO - Chain [1] start processing\n",
      "20:59:15 - cmdstanpy - INFO - Chain [1] done processing\n",
      "20:59:15 - cmdstanpy - INFO - Chain [1] start processing\n",
      "20:59:15 - cmdstanpy - INFO - Chain [1] done processing\n",
      "20:59:15 - cmdstanpy - INFO - Chain [1] start processing\n",
      "20:59:16 - cmdstanpy - INFO - Chain [1] done processing\n",
      "20:59:16 - cmdstanpy - INFO - Chain [1] start processing\n",
      "20:59:17 - cmdstanpy - INFO - Chain [1] done processing\n",
      "20:59:17 - cmdstanpy - INFO - Chain [1] start processing\n",
      "20:59:18 - cmdstanpy - INFO - Chain [1] done processing\n",
      "20:59:18 - cmdstanpy - INFO - Chain [1] start processing\n",
      "20:59:18 - cmdstanpy - INFO - Chain [1] done processing\n",
      "20:59:19 - cmdstanpy - INFO - Chain [1] start processing\n"
     ]
    },
    {
     "name": "stdout",
     "output_type": "stream",
     "text": [
      "    Cross-validation accuracy for o3: 18.68%\n",
      "    Saved trained models to ./Prophet_Models/Hyderabad/icrisat-patancheru, hyderabad-air-quality_prophet_model.pkl\n",
      "  Training model for region: ida-pashamylaram, hyderabad-air-quality.csv\n",
      "    Training model for pollutant: AQI\n"
     ]
    },
    {
     "name": "stderr",
     "output_type": "stream",
     "text": [
      "20:59:19 - cmdstanpy - INFO - Chain [1] done processing\n"
     ]
    },
    {
     "name": "stdout",
     "output_type": "stream",
     "text": [
      "    Model training successful for AQI\n",
      "    Performing cross-validation for AQI\n"
     ]
    },
    {
     "data": {
      "application/vnd.jupyter.widget-view+json": {
       "model_id": "8c9d110dabac4713a392df198206539a",
       "version_major": 2,
       "version_minor": 0
      },
      "text/plain": [
       "  0%|          | 0/10 [00:00<?, ?it/s]"
      ]
     },
     "metadata": {},
     "output_type": "display_data"
    },
    {
     "name": "stderr",
     "output_type": "stream",
     "text": [
      "20:59:19 - cmdstanpy - INFO - Chain [1] start processing\n",
      "20:59:19 - cmdstanpy - INFO - Chain [1] done processing\n",
      "20:59:19 - cmdstanpy - INFO - Chain [1] start processing\n",
      "20:59:19 - cmdstanpy - INFO - Chain [1] done processing\n",
      "20:59:20 - cmdstanpy - INFO - Chain [1] start processing\n",
      "20:59:20 - cmdstanpy - INFO - Chain [1] done processing\n",
      "20:59:20 - cmdstanpy - INFO - Chain [1] start processing\n",
      "20:59:20 - cmdstanpy - INFO - Chain [1] done processing\n",
      "20:59:20 - cmdstanpy - INFO - Chain [1] start processing\n",
      "20:59:20 - cmdstanpy - INFO - Chain [1] done processing\n",
      "20:59:21 - cmdstanpy - INFO - Chain [1] start processing\n",
      "20:59:21 - cmdstanpy - INFO - Chain [1] done processing\n",
      "20:59:21 - cmdstanpy - INFO - Chain [1] start processing\n",
      "20:59:21 - cmdstanpy - INFO - Chain [1] done processing\n",
      "20:59:22 - cmdstanpy - INFO - Chain [1] start processing\n",
      "20:59:22 - cmdstanpy - INFO - Chain [1] done processing\n",
      "20:59:22 - cmdstanpy - INFO - Chain [1] start processing\n",
      "20:59:22 - cmdstanpy - INFO - Chain [1] done processing\n",
      "20:59:23 - cmdstanpy - INFO - Chain [1] start processing\n",
      "20:59:23 - cmdstanpy - INFO - Chain [1] done processing\n",
      "20:59:23 - cmdstanpy - INFO - Chain [1] start processing\n"
     ]
    },
    {
     "name": "stdout",
     "output_type": "stream",
     "text": [
      "    Cross-validation accuracy for AQI: 98.05%\n",
      "    Training model for pollutant: pm25\n"
     ]
    },
    {
     "name": "stderr",
     "output_type": "stream",
     "text": [
      "20:59:24 - cmdstanpy - INFO - Chain [1] done processing\n"
     ]
    },
    {
     "name": "stdout",
     "output_type": "stream",
     "text": [
      "    Model training successful for pm25\n",
      "    Performing cross-validation for pm25\n"
     ]
    },
    {
     "data": {
      "application/vnd.jupyter.widget-view+json": {
       "model_id": "9009c9f4f20d49f49991097dc491427d",
       "version_major": 2,
       "version_minor": 0
      },
      "text/plain": [
       "  0%|          | 0/10 [00:00<?, ?it/s]"
      ]
     },
     "metadata": {},
     "output_type": "display_data"
    },
    {
     "name": "stderr",
     "output_type": "stream",
     "text": [
      "20:59:24 - cmdstanpy - INFO - Chain [1] start processing\n",
      "20:59:24 - cmdstanpy - INFO - Chain [1] done processing\n",
      "20:59:24 - cmdstanpy - INFO - Chain [1] start processing\n",
      "20:59:24 - cmdstanpy - INFO - Chain [1] done processing\n",
      "20:59:24 - cmdstanpy - INFO - Chain [1] start processing\n",
      "20:59:24 - cmdstanpy - INFO - Chain [1] done processing\n",
      "20:59:25 - cmdstanpy - INFO - Chain [1] start processing\n",
      "20:59:25 - cmdstanpy - INFO - Chain [1] done processing\n",
      "20:59:25 - cmdstanpy - INFO - Chain [1] start processing\n",
      "20:59:25 - cmdstanpy - INFO - Chain [1] done processing\n",
      "20:59:25 - cmdstanpy - INFO - Chain [1] start processing\n",
      "20:59:26 - cmdstanpy - INFO - Chain [1] done processing\n",
      "20:59:26 - cmdstanpy - INFO - Chain [1] start processing\n",
      "20:59:26 - cmdstanpy - INFO - Chain [1] done processing\n",
      "20:59:26 - cmdstanpy - INFO - Chain [1] start processing\n",
      "20:59:26 - cmdstanpy - INFO - Chain [1] done processing\n",
      "20:59:26 - cmdstanpy - INFO - Chain [1] start processing\n",
      "20:59:27 - cmdstanpy - INFO - Chain [1] done processing\n",
      "20:59:27 - cmdstanpy - INFO - Chain [1] start processing\n",
      "20:59:27 - cmdstanpy - INFO - Chain [1] done processing\n",
      "20:59:27 - cmdstanpy - INFO - Chain [1] start processing\n"
     ]
    },
    {
     "name": "stdout",
     "output_type": "stream",
     "text": [
      "    Cross-validation accuracy for pm25: 93.49%\n",
      "    Training model for pollutant: pm10\n"
     ]
    },
    {
     "name": "stderr",
     "output_type": "stream",
     "text": [
      "20:59:28 - cmdstanpy - INFO - Chain [1] done processing\n"
     ]
    },
    {
     "name": "stdout",
     "output_type": "stream",
     "text": [
      "    Model training successful for pm10\n",
      "    Performing cross-validation for pm10\n"
     ]
    },
    {
     "data": {
      "application/vnd.jupyter.widget-view+json": {
       "model_id": "eeef09e7b63c40d684d0d96b4c6fbd20",
       "version_major": 2,
       "version_minor": 0
      },
      "text/plain": [
       "  0%|          | 0/10 [00:00<?, ?it/s]"
      ]
     },
     "metadata": {},
     "output_type": "display_data"
    },
    {
     "name": "stderr",
     "output_type": "stream",
     "text": [
      "20:59:28 - cmdstanpy - INFO - Chain [1] start processing\n",
      "20:59:28 - cmdstanpy - INFO - Chain [1] done processing\n",
      "20:59:28 - cmdstanpy - INFO - Chain [1] start processing\n",
      "20:59:28 - cmdstanpy - INFO - Chain [1] done processing\n",
      "20:59:28 - cmdstanpy - INFO - Chain [1] start processing\n",
      "20:59:29 - cmdstanpy - INFO - Chain [1] done processing\n",
      "20:59:29 - cmdstanpy - INFO - Chain [1] start processing\n",
      "20:59:29 - cmdstanpy - INFO - Chain [1] done processing\n",
      "20:59:29 - cmdstanpy - INFO - Chain [1] start processing\n",
      "20:59:29 - cmdstanpy - INFO - Chain [1] done processing\n",
      "20:59:29 - cmdstanpy - INFO - Chain [1] start processing\n",
      "20:59:29 - cmdstanpy - INFO - Chain [1] done processing\n",
      "20:59:30 - cmdstanpy - INFO - Chain [1] start processing\n",
      "20:59:30 - cmdstanpy - INFO - Chain [1] done processing\n",
      "20:59:30 - cmdstanpy - INFO - Chain [1] start processing\n",
      "20:59:30 - cmdstanpy - INFO - Chain [1] done processing\n",
      "20:59:30 - cmdstanpy - INFO - Chain [1] start processing\n",
      "20:59:31 - cmdstanpy - INFO - Chain [1] done processing\n",
      "20:59:31 - cmdstanpy - INFO - Chain [1] start processing\n",
      "20:59:31 - cmdstanpy - INFO - Chain [1] done processing\n",
      "20:59:32 - cmdstanpy - INFO - Chain [1] start processing\n"
     ]
    },
    {
     "name": "stdout",
     "output_type": "stream",
     "text": [
      "    Cross-validation accuracy for pm10: 91.23%\n",
      "    Training model for pollutant: no2\n"
     ]
    },
    {
     "name": "stderr",
     "output_type": "stream",
     "text": [
      "20:59:32 - cmdstanpy - INFO - Chain [1] done processing\n"
     ]
    },
    {
     "name": "stdout",
     "output_type": "stream",
     "text": [
      "    Model training successful for no2\n",
      "    Performing cross-validation for no2\n"
     ]
    },
    {
     "data": {
      "application/vnd.jupyter.widget-view+json": {
       "model_id": "7bdf23704a674f7d8e7deea62ee57d08",
       "version_major": 2,
       "version_minor": 0
      },
      "text/plain": [
       "  0%|          | 0/10 [00:00<?, ?it/s]"
      ]
     },
     "metadata": {},
     "output_type": "display_data"
    },
    {
     "name": "stderr",
     "output_type": "stream",
     "text": [
      "20:59:32 - cmdstanpy - INFO - Chain [1] start processing\n",
      "20:59:32 - cmdstanpy - INFO - Chain [1] done processing\n",
      "20:59:32 - cmdstanpy - INFO - Chain [1] start processing\n",
      "20:59:33 - cmdstanpy - INFO - Chain [1] done processing\n",
      "20:59:33 - cmdstanpy - INFO - Chain [1] start processing\n",
      "20:59:33 - cmdstanpy - INFO - Chain [1] done processing\n",
      "20:59:33 - cmdstanpy - INFO - Chain [1] start processing\n",
      "20:59:33 - cmdstanpy - INFO - Chain [1] done processing\n",
      "20:59:33 - cmdstanpy - INFO - Chain [1] start processing\n",
      "20:59:34 - cmdstanpy - INFO - Chain [1] done processing\n",
      "20:59:34 - cmdstanpy - INFO - Chain [1] start processing\n",
      "20:59:34 - cmdstanpy - INFO - Chain [1] done processing\n",
      "20:59:34 - cmdstanpy - INFO - Chain [1] start processing\n",
      "20:59:35 - cmdstanpy - INFO - Chain [1] done processing\n",
      "20:59:35 - cmdstanpy - INFO - Chain [1] start processing\n",
      "20:59:35 - cmdstanpy - INFO - Chain [1] done processing\n",
      "20:59:35 - cmdstanpy - INFO - Chain [1] start processing\n",
      "20:59:36 - cmdstanpy - INFO - Chain [1] done processing\n",
      "20:59:36 - cmdstanpy - INFO - Chain [1] start processing\n",
      "20:59:37 - cmdstanpy - INFO - Chain [1] done processing\n",
      "20:59:37 - cmdstanpy - INFO - Chain [1] start processing\n"
     ]
    },
    {
     "name": "stdout",
     "output_type": "stream",
     "text": [
      "    Cross-validation accuracy for no2: 30.21%\n",
      "    Training model for pollutant: so2\n"
     ]
    },
    {
     "name": "stderr",
     "output_type": "stream",
     "text": [
      "20:59:38 - cmdstanpy - INFO - Chain [1] done processing\n"
     ]
    },
    {
     "name": "stdout",
     "output_type": "stream",
     "text": [
      "    Model training successful for so2\n",
      "    Performing cross-validation for so2\n"
     ]
    },
    {
     "data": {
      "application/vnd.jupyter.widget-view+json": {
       "model_id": "7ce34f46d186435288ee828dae204826",
       "version_major": 2,
       "version_minor": 0
      },
      "text/plain": [
       "  0%|          | 0/10 [00:00<?, ?it/s]"
      ]
     },
     "metadata": {},
     "output_type": "display_data"
    },
    {
     "name": "stderr",
     "output_type": "stream",
     "text": [
      "20:59:38 - cmdstanpy - INFO - Chain [1] start processing\n",
      "20:59:38 - cmdstanpy - INFO - Chain [1] done processing\n",
      "20:59:38 - cmdstanpy - INFO - Chain [1] start processing\n",
      "20:59:38 - cmdstanpy - INFO - Chain [1] done processing\n",
      "20:59:38 - cmdstanpy - INFO - Chain [1] start processing\n",
      "20:59:39 - cmdstanpy - INFO - Chain [1] done processing\n",
      "20:59:39 - cmdstanpy - INFO - Chain [1] start processing\n",
      "20:59:39 - cmdstanpy - INFO - Chain [1] done processing\n",
      "20:59:39 - cmdstanpy - INFO - Chain [1] start processing\n",
      "20:59:39 - cmdstanpy - INFO - Chain [1] done processing\n",
      "20:59:39 - cmdstanpy - INFO - Chain [1] start processing\n",
      "20:59:40 - cmdstanpy - INFO - Chain [1] done processing\n",
      "20:59:40 - cmdstanpy - INFO - Chain [1] start processing\n",
      "20:59:40 - cmdstanpy - INFO - Chain [1] done processing\n",
      "20:59:40 - cmdstanpy - INFO - Chain [1] start processing\n",
      "20:59:40 - cmdstanpy - INFO - Chain [1] done processing\n",
      "20:59:40 - cmdstanpy - INFO - Chain [1] start processing\n",
      "20:59:41 - cmdstanpy - INFO - Chain [1] done processing\n",
      "20:59:41 - cmdstanpy - INFO - Chain [1] start processing\n",
      "20:59:41 - cmdstanpy - INFO - Chain [1] done processing\n",
      "20:59:42 - cmdstanpy - INFO - Chain [1] start processing\n"
     ]
    },
    {
     "name": "stdout",
     "output_type": "stream",
     "text": [
      "    Cross-validation accuracy for so2: 52.63%\n",
      "    Training model for pollutant: co\n"
     ]
    },
    {
     "name": "stderr",
     "output_type": "stream",
     "text": [
      "20:59:42 - cmdstanpy - INFO - Chain [1] done processing\n"
     ]
    },
    {
     "name": "stdout",
     "output_type": "stream",
     "text": [
      "    Model training successful for co\n",
      "    Performing cross-validation for co\n"
     ]
    },
    {
     "data": {
      "application/vnd.jupyter.widget-view+json": {
       "model_id": "fba3b42e9d8342a4959fa4b25e557123",
       "version_major": 2,
       "version_minor": 0
      },
      "text/plain": [
       "  0%|          | 0/10 [00:00<?, ?it/s]"
      ]
     },
     "metadata": {},
     "output_type": "display_data"
    },
    {
     "name": "stderr",
     "output_type": "stream",
     "text": [
      "20:59:42 - cmdstanpy - INFO - Chain [1] start processing\n",
      "20:59:42 - cmdstanpy - INFO - Chain [1] done processing\n",
      "20:59:42 - cmdstanpy - INFO - Chain [1] start processing\n",
      "20:59:42 - cmdstanpy - INFO - Chain [1] done processing\n",
      "20:59:43 - cmdstanpy - INFO - Chain [1] start processing\n",
      "20:59:43 - cmdstanpy - INFO - Chain [1] done processing\n",
      "20:59:43 - cmdstanpy - INFO - Chain [1] start processing\n",
      "20:59:43 - cmdstanpy - INFO - Chain [1] done processing\n",
      "20:59:43 - cmdstanpy - INFO - Chain [1] start processing\n",
      "20:59:44 - cmdstanpy - INFO - Chain [1] done processing\n",
      "20:59:44 - cmdstanpy - INFO - Chain [1] start processing\n",
      "20:59:44 - cmdstanpy - INFO - Chain [1] done processing\n",
      "20:59:44 - cmdstanpy - INFO - Chain [1] start processing\n",
      "20:59:44 - cmdstanpy - INFO - Chain [1] done processing\n",
      "20:59:44 - cmdstanpy - INFO - Chain [1] start processing\n",
      "20:59:45 - cmdstanpy - INFO - Chain [1] done processing\n",
      "20:59:45 - cmdstanpy - INFO - Chain [1] start processing\n",
      "20:59:45 - cmdstanpy - INFO - Chain [1] done processing\n",
      "20:59:45 - cmdstanpy - INFO - Chain [1] start processing\n",
      "20:59:46 - cmdstanpy - INFO - Chain [1] done processing\n",
      "20:59:46 - cmdstanpy - INFO - Chain [1] start processing\n"
     ]
    },
    {
     "name": "stdout",
     "output_type": "stream",
     "text": [
      "    Cross-validation accuracy for co: 78.80%\n",
      "    Training model for pollutant: o3\n"
     ]
    },
    {
     "name": "stderr",
     "output_type": "stream",
     "text": [
      "20:59:46 - cmdstanpy - INFO - Chain [1] done processing\n"
     ]
    },
    {
     "name": "stdout",
     "output_type": "stream",
     "text": [
      "    Model training successful for o3\n",
      "    Performing cross-validation for o3\n"
     ]
    },
    {
     "data": {
      "application/vnd.jupyter.widget-view+json": {
       "model_id": "01db1258b31147059827bd3fedcb3d2c",
       "version_major": 2,
       "version_minor": 0
      },
      "text/plain": [
       "  0%|          | 0/10 [00:00<?, ?it/s]"
      ]
     },
     "metadata": {},
     "output_type": "display_data"
    },
    {
     "name": "stderr",
     "output_type": "stream",
     "text": [
      "20:59:46 - cmdstanpy - INFO - Chain [1] start processing\n",
      "20:59:46 - cmdstanpy - INFO - Chain [1] done processing\n",
      "20:59:46 - cmdstanpy - INFO - Chain [1] start processing\n",
      "20:59:47 - cmdstanpy - INFO - Chain [1] done processing\n",
      "20:59:47 - cmdstanpy - INFO - Chain [1] start processing\n",
      "20:59:47 - cmdstanpy - INFO - Chain [1] done processing\n",
      "20:59:47 - cmdstanpy - INFO - Chain [1] start processing\n",
      "20:59:47 - cmdstanpy - INFO - Chain [1] done processing\n",
      "20:59:47 - cmdstanpy - INFO - Chain [1] start processing\n",
      "20:59:47 - cmdstanpy - INFO - Chain [1] done processing\n",
      "20:59:48 - cmdstanpy - INFO - Chain [1] start processing\n",
      "20:59:48 - cmdstanpy - INFO - Chain [1] done processing\n",
      "20:59:48 - cmdstanpy - INFO - Chain [1] start processing\n",
      "20:59:48 - cmdstanpy - INFO - Chain [1] done processing\n",
      "20:59:48 - cmdstanpy - INFO - Chain [1] start processing\n",
      "20:59:49 - cmdstanpy - INFO - Chain [1] done processing\n",
      "20:59:49 - cmdstanpy - INFO - Chain [1] start processing\n",
      "20:59:49 - cmdstanpy - INFO - Chain [1] done processing\n",
      "20:59:49 - cmdstanpy - INFO - Chain [1] start processing\n",
      "20:59:50 - cmdstanpy - INFO - Chain [1] done processing\n"
     ]
    },
    {
     "name": "stdout",
     "output_type": "stream",
     "text": [
      "    Cross-validation accuracy for o3: 57.66%\n",
      "    Saved trained models to ./Prophet_Models/Hyderabad/ida-pashamylaram, hyderabad-air-quality_prophet_model.pkl\n"
     ]
    }
   ],
   "source": [
    "import numpy as np\n",
    "import pandas as pd\n",
    "import os\n",
    "import pickle\n",
    "from prophet import Prophet\n",
    "from prophet.diagnostics import cross_validation, performance_metrics\n",
    "import warnings\n",
    "\n",
    "warnings.filterwarnings('ignore')\n",
    "\n",
    "# Base directory for the input CSVs\n",
    "base_dir = \"../Data Preprocessing /ProcessedData\"  # Change this to your root directory with processed datasets\n",
    "output_dir = \"./Prophet_Models\"  # Directory to save trained models\n",
    "os.makedirs(output_dir, exist_ok=True)  # Ensure output directory exists\n",
    "\n",
    "# List of pollutants to include in training\n",
    "pollutants = ['AQI', 'pm25', 'pm10', 'no2', 'so2', 'co', 'o3']  # Extend as needed\n",
    "\n",
    "# Helper function: Remove outliers using IQR\n",
    "def remove_outliers(df, column):\n",
    "    Q1 = df[column].quantile(0.25)\n",
    "    Q3 = df[column].quantile(0.75)\n",
    "    IQR = Q3 - Q1\n",
    "    mask = ~((df[column] < (Q1 - 1.5 * IQR)) | (df[column] > (Q3 + 1.5 * IQR)))\n",
    "    return df[mask]\n",
    "\n",
    "# Iterate through each city\n",
    "for city in os.listdir(base_dir):\n",
    "    city_path = os.path.join(base_dir, city)\n",
    "    \n",
    "    if os.path.isdir(city_path):\n",
    "        print(f\"\\nProcessing city: {city}\")\n",
    "        \n",
    "        # Create a folder for the city's models\n",
    "        city_model_dir = os.path.join(output_dir, city)\n",
    "        os.makedirs(city_model_dir, exist_ok=True)\n",
    "        \n",
    "        # Iterate through each CSV file in the city folder\n",
    "        for csv_file in os.listdir(city_path):\n",
    "            csv_path = os.path.join(city_path, csv_file)\n",
    "            \n",
    "            if csv_file.endswith('.csv'):\n",
    "                print(f\"  Training model for region: {csv_file}\")\n",
    "\n",
    "                # Read the CSV file\n",
    "                df_city = pd.read_csv(csv_path)\n",
    "\n",
    "                # Dictionary to store models and metrics\n",
    "                models = {}\n",
    "                metrics = {}\n",
    "\n",
    "                # Train a Prophet model for each pollutant\n",
    "                for pollutant in pollutants:\n",
    "                    if pollutant in df_city.columns:\n",
    "                        print(f\"    Training model for pollutant: {pollutant}\")\n",
    "                        \n",
    "                        # Prepare the data for Prophet\n",
    "                        df_pollutant = df_city[['date', pollutant]].dropna()\n",
    "                        df_pollutant.reset_index(drop=True, inplace=True)\n",
    "                        df_pollutant.rename(columns={'date': 'ds', pollutant: 'y'}, inplace=True)\n",
    "                        \n",
    "                        # Ensure 'ds' is in datetime format\n",
    "                        df_pollutant['ds'] = pd.to_datetime(df_pollutant['ds'])\n",
    "                        \n",
    "                        # Remove outliers\n",
    "                        df_pollutant = remove_outliers(df_pollutant, 'y')\n",
    "\n",
    "                        # Log transformation (optional for pollutants with high variability)\n",
    "                        df_pollutant['y'] = np.log1p(df_pollutant['y'])  # Use log1p to handle zeros\n",
    "                        \n",
    "                        # Define the Prophet model\n",
    "                        model = Prophet(\n",
    "                            seasonality_mode='multiplicative',  # Multiplicative seasonality for pollutants\n",
    "                            holidays_prior_scale=10,\n",
    "                            seasonality_prior_scale=15,\n",
    "                            changepoint_prior_scale=0.05,\n",
    "                            n_changepoints=75\n",
    "                        )\n",
    "                        \n",
    "                        # Train the model\n",
    "                        try:\n",
    "                            model.fit(df_pollutant)\n",
    "                            models[pollutant] = model\n",
    "                            print(f\"    Model training successful for {pollutant}\")\n",
    "                            \n",
    "                            # Cross-validation\n",
    "                            print(f\"    Performing cross-validation for {pollutant}\")\n",
    "                            df_cv = cross_validation(\n",
    "                                model, \n",
    "                                initial='900 days',  # Reduced to allow more training data\n",
    "                                period='180 days', \n",
    "                                horizon='365 days'\n",
    "                            )\n",
    "                            \n",
    "                            # Performance metrics\n",
    "                            df_p = performance_metrics(df_cv)\n",
    "                            mape = df_p['mape'].mean()\n",
    "                            accuracy = (1 - mape) * 100\n",
    "                            metrics[pollutant] = accuracy\n",
    "                            print(f\"    Cross-validation accuracy for {pollutant}: {accuracy:.2f}%\")\n",
    "                        \n",
    "                        except Exception as e:\n",
    "                            print(f\"    Training or cross-validation failed for {pollutant}: {e}\")\n",
    "                \n",
    "                # Save the trained models and metrics\n",
    "                region_model_path = os.path.join(city_model_dir, f\"{os.path.splitext(csv_file)[0]}_prophet_model.pkl\")\n",
    "                with open(region_model_path, 'wb') as file:\n",
    "                    pickle.dump(models, file)\n",
    "                print(f\"    Saved trained models to {region_model_path}\")"
   ]
  },
  {
   "cell_type": "markdown",
   "metadata": {},
   "source": []
  },
  {
   "cell_type": "code",
   "execution_count": 12,
   "metadata": {},
   "outputs": [],
   "source": []
  },
  {
   "cell_type": "code",
   "execution_count": null,
   "metadata": {},
   "outputs": [],
   "source": []
  }
 ],
 "metadata": {
  "kernelspec": {
   "display_name": "Python 3 (ipykernel)",
   "language": "python",
   "name": "python3"
  },
  "language_info": {
   "codemirror_mode": {
    "name": "ipython",
    "version": 3
   },
   "file_extension": ".py",
   "mimetype": "text/x-python",
   "name": "python",
   "nbconvert_exporter": "python",
   "pygments_lexer": "ipython3",
   "version": "3.12.2"
  },
  "papermill": {
   "duration": 10.179616,
   "end_time": "2020-11-29T10:55:04.716872",
   "environment_variables": {},
   "exception": null,
   "input_path": "__notebook__.ipynb",
   "output_path": "__notebook__.ipynb",
   "parameters": {},
   "start_time": "2020-11-29T10:54:54.537256",
   "version": "2.1.0"
  }
 },
 "nbformat": 4,
 "nbformat_minor": 4
}
