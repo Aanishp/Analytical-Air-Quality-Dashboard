{
 "cells": [
  {
   "cell_type": "code",
   "execution_count": 15,
   "id": "98d47b5f-1c54-407f-bbbd-65243481cf77",
   "metadata": {},
   "outputs": [],
   "source": [
    "from sevendaypred import city_predictions"
   ]
  },
  {
   "cell_type": "code",
   "execution_count": 16,
   "id": "a81c5a17-3a82-4261-b50e-eaa120d8df7f",
   "metadata": {},
   "outputs": [
    {
     "name": "stdout",
     "output_type": "stream",
     "text": [
      "{'Bangalore': {'hebbal,-bengaluru-air-quality': [{'day': 'Monday', 'date': '2025-01-12', 'aqi': 181, 'condition': 'Moderate', 'class': 'moderate', 'comment': 'The air quality is tolerable but may cause discomfort to sensitive groups such as children and the elderly.'}, {'day': 'Tuesday', 'date': '2025-01-13', 'aqi': 182, 'condition': 'Moderate', 'class': 'moderate', 'comment': 'The air quality is tolerable but may cause discomfort to sensitive groups such as children and the elderly.'}, {'day': 'Wednesday', 'date': '2025-01-14', 'aqi': 182, 'condition': 'Moderate', 'class': 'moderate', 'comment': 'The air quality is tolerable but may cause discomfort to sensitive groups such as children and the elderly.'}, {'day': 'Thursday', 'date': '2025-01-15', 'aqi': 183, 'condition': 'Moderate', 'class': 'moderate', 'comment': 'The air quality is tolerable but may cause discomfort to sensitive groups such as children and the elderly.'}, {'day': 'Friday', 'date': '2025-01-16', 'aqi': 183, 'condition': 'Moderate', 'class': 'moderate', 'comment': 'The air quality is tolerable but may cause discomfort to sensitive groups such as children and the elderly.'}, {'day': 'Saturday', 'date': '2025-01-17', 'aqi': 183, 'condition': 'Moderate', 'class': 'moderate', 'comment': 'The air quality is tolerable but may cause discomfort to sensitive groups such as children and the elderly.'}, {'day': 'Sunday', 'date': '2025-01-18', 'aqi': 181, 'condition': 'Moderate', 'class': 'moderate', 'comment': 'The air quality is tolerable but may cause discomfort to sensitive groups such as children and the elderly.'}], 'peenya,-bangalore-air-quality': [{'day': 'Monday', 'date': '2025-01-12', 'aqi': 178, 'condition': 'Moderate', 'class': 'moderate', 'comment': 'The air quality is tolerable but may cause discomfort to sensitive groups such as children and the elderly.'}, {'day': 'Tuesday', 'date': '2025-01-13', 'aqi': 181, 'condition': 'Moderate', 'class': 'moderate', 'comment': 'The air quality is tolerable but may cause discomfort to sensitive groups such as children and the elderly.'}, {'day': 'Wednesday', 'date': '2025-01-14', 'aqi': 179, 'condition': 'Moderate', 'class': 'moderate', 'comment': 'The air quality is tolerable but may cause discomfort to sensitive groups such as children and the elderly.'}, {'day': 'Thursday', 'date': '2025-01-15', 'aqi': 181, 'condition': 'Moderate', 'class': 'moderate', 'comment': 'The air quality is tolerable but may cause discomfort to sensitive groups such as children and the elderly.'}, {'day': 'Friday', 'date': '2025-01-16', 'aqi': 180, 'condition': 'Moderate', 'class': 'moderate', 'comment': 'The air quality is tolerable but may cause discomfort to sensitive groups such as children and the elderly.'}, {'day': 'Saturday', 'date': '2025-01-17', 'aqi': 181, 'condition': 'Moderate', 'class': 'moderate', 'comment': 'The air quality is tolerable but may cause discomfort to sensitive groups such as children and the elderly.'}, {'day': 'Sunday', 'date': '2025-01-18', 'aqi': 178, 'condition': 'Moderate', 'class': 'moderate', 'comment': 'The air quality is tolerable but may cause discomfort to sensitive groups such as children and the elderly.'}], 'btm,-bangalore-air-quality': [{'day': 'Monday', 'date': '2025-01-12', 'aqi': 156, 'condition': 'Moderate', 'class': 'moderate', 'comment': 'The air quality is tolerable but may cause discomfort to sensitive groups such as children and the elderly.'}, {'day': 'Tuesday', 'date': '2025-01-13', 'aqi': 156, 'condition': 'Moderate', 'class': 'moderate', 'comment': 'The air quality is tolerable but may cause discomfort to sensitive groups such as children and the elderly.'}, {'day': 'Wednesday', 'date': '2025-01-14', 'aqi': 155, 'condition': 'Moderate', 'class': 'moderate', 'comment': 'The air quality is tolerable but may cause discomfort to sensitive groups such as children and the elderly.'}, {'day': 'Thursday', 'date': '2025-01-15', 'aqi': 155, 'condition': 'Moderate', 'class': 'moderate', 'comment': 'The air quality is tolerable but may cause discomfort to sensitive groups such as children and the elderly.'}, {'day': 'Friday', 'date': '2025-01-16', 'aqi': 153, 'condition': 'Moderate', 'class': 'moderate', 'comment': 'The air quality is tolerable but may cause discomfort to sensitive groups such as children and the elderly.'}, {'day': 'Saturday', 'date': '2025-01-17', 'aqi': 154, 'condition': 'Moderate', 'class': 'moderate', 'comment': 'The air quality is tolerable but may cause discomfort to sensitive groups such as children and the elderly.'}, {'day': 'Sunday', 'date': '2025-01-18', 'aqi': 151, 'condition': 'Moderate', 'class': 'moderate', 'comment': 'The air quality is tolerable but may cause discomfort to sensitive groups such as children and the elderly.'}]}, 'Thiruvananthapuram': {'kariavattom,-thiruvananthapuram-air-quality': [{'day': 'Monday', 'date': '2025-01-12', 'aqi': 175, 'condition': 'Moderate', 'class': 'moderate', 'comment': 'The air quality is tolerable but may cause discomfort to sensitive groups such as children and the elderly.'}, {'day': 'Tuesday', 'date': '2025-01-13', 'aqi': 176, 'condition': 'Moderate', 'class': 'moderate', 'comment': 'The air quality is tolerable but may cause discomfort to sensitive groups such as children and the elderly.'}, {'day': 'Wednesday', 'date': '2025-01-14', 'aqi': 176, 'condition': 'Moderate', 'class': 'moderate', 'comment': 'The air quality is tolerable but may cause discomfort to sensitive groups such as children and the elderly.'}, {'day': 'Thursday', 'date': '2025-01-15', 'aqi': 177, 'condition': 'Moderate', 'class': 'moderate', 'comment': 'The air quality is tolerable but may cause discomfort to sensitive groups such as children and the elderly.'}, {'day': 'Friday', 'date': '2025-01-16', 'aqi': 176, 'condition': 'Moderate', 'class': 'moderate', 'comment': 'The air quality is tolerable but may cause discomfort to sensitive groups such as children and the elderly.'}, {'day': 'Saturday', 'date': '2025-01-17', 'aqi': 175, 'condition': 'Moderate', 'class': 'moderate', 'comment': 'The air quality is tolerable but may cause discomfort to sensitive groups such as children and the elderly.'}, {'day': 'Sunday', 'date': '2025-01-18', 'aqi': 174, 'condition': 'Moderate', 'class': 'moderate', 'comment': 'The air quality is tolerable but may cause discomfort to sensitive groups such as children and the elderly.'}], 'plammoodu,-thiruvananthapuram-air-quality': [{'day': 'Monday', 'date': '2025-01-12', 'aqi': 171, 'condition': 'Moderate', 'class': 'moderate', 'comment': 'The air quality is tolerable but may cause discomfort to sensitive groups such as children and the elderly.'}, {'day': 'Tuesday', 'date': '2025-01-13', 'aqi': 171, 'condition': 'Moderate', 'class': 'moderate', 'comment': 'The air quality is tolerable but may cause discomfort to sensitive groups such as children and the elderly.'}, {'day': 'Wednesday', 'date': '2025-01-14', 'aqi': 172, 'condition': 'Moderate', 'class': 'moderate', 'comment': 'The air quality is tolerable but may cause discomfort to sensitive groups such as children and the elderly.'}, {'day': 'Thursday', 'date': '2025-01-15', 'aqi': 171, 'condition': 'Moderate', 'class': 'moderate', 'comment': 'The air quality is tolerable but may cause discomfort to sensitive groups such as children and the elderly.'}, {'day': 'Friday', 'date': '2025-01-16', 'aqi': 171, 'condition': 'Moderate', 'class': 'moderate', 'comment': 'The air quality is tolerable but may cause discomfort to sensitive groups such as children and the elderly.'}, {'day': 'Saturday', 'date': '2025-01-17', 'aqi': 171, 'condition': 'Moderate', 'class': 'moderate', 'comment': 'The air quality is tolerable but may cause discomfort to sensitive groups such as children and the elderly.'}, {'day': 'Sunday', 'date': '2025-01-18', 'aqi': 170, 'condition': 'Moderate', 'class': 'moderate', 'comment': 'The air quality is tolerable but may cause discomfort to sensitive groups such as children and the elderly.'}]}, 'Delhi': {'r.k.-puram, delhi-air-quality': [{'day': 'Monday', 'date': '2025-01-12', 'aqi': 316, 'condition': 'Very Poor', 'class': 'very-poor', 'comment': 'The air quality is very unhealthy; respiratory issues are likely for prolonged exposure.'}, {'day': 'Tuesday', 'date': '2025-01-13', 'aqi': 314, 'condition': 'Very Poor', 'class': 'very-poor', 'comment': 'The air quality is very unhealthy; respiratory issues are likely for prolonged exposure.'}, {'day': 'Wednesday', 'date': '2025-01-14', 'aqi': 312, 'condition': 'Very Poor', 'class': 'very-poor', 'comment': 'The air quality is very unhealthy; respiratory issues are likely for prolonged exposure.'}, {'day': 'Thursday', 'date': '2025-01-15', 'aqi': 311, 'condition': 'Very Poor', 'class': 'very-poor', 'comment': 'The air quality is very unhealthy; respiratory issues are likely for prolonged exposure.'}, {'day': 'Friday', 'date': '2025-01-16', 'aqi': 309, 'condition': 'Very Poor', 'class': 'very-poor', 'comment': 'The air quality is very unhealthy; respiratory issues are likely for prolonged exposure.'}, {'day': 'Saturday', 'date': '2025-01-17', 'aqi': 303, 'condition': 'Very Poor', 'class': 'very-poor', 'comment': 'The air quality is very unhealthy; respiratory issues are likely for prolonged exposure.'}, {'day': 'Sunday', 'date': '2025-01-18', 'aqi': 300, 'condition': 'Poor', 'class': 'poor', 'comment': 'The air quality is unhealthy; prolonged exposure may cause discomfort or health issues.'}], 'alipur,-delhi-air-quality': [{'day': 'Monday', 'date': '2025-01-12', 'aqi': 268, 'condition': 'Poor', 'class': 'poor', 'comment': 'The air quality is unhealthy; prolonged exposure may cause discomfort or health issues.'}, {'day': 'Tuesday', 'date': '2025-01-13', 'aqi': 267, 'condition': 'Poor', 'class': 'poor', 'comment': 'The air quality is unhealthy; prolonged exposure may cause discomfort or health issues.'}, {'day': 'Wednesday', 'date': '2025-01-14', 'aqi': 269, 'condition': 'Poor', 'class': 'poor', 'comment': 'The air quality is unhealthy; prolonged exposure may cause discomfort or health issues.'}, {'day': 'Thursday', 'date': '2025-01-15', 'aqi': 269, 'condition': 'Poor', 'class': 'poor', 'comment': 'The air quality is unhealthy; prolonged exposure may cause discomfort or health issues.'}, {'day': 'Friday', 'date': '2025-01-16', 'aqi': 266, 'condition': 'Poor', 'class': 'poor', 'comment': 'The air quality is unhealthy; prolonged exposure may cause discomfort or health issues.'}, {'day': 'Saturday', 'date': '2025-01-17', 'aqi': 264, 'condition': 'Poor', 'class': 'poor', 'comment': 'The air quality is unhealthy; prolonged exposure may cause discomfort or health issues.'}, {'day': 'Sunday', 'date': '2025-01-18', 'aqi': 262, 'condition': 'Poor', 'class': 'poor', 'comment': 'The air quality is unhealthy; prolonged exposure may cause discomfort or health issues.'}], 'pusa,-delhi-air-quality': [{'day': 'Monday', 'date': '2025-01-12', 'aqi': 287, 'condition': 'Poor', 'class': 'poor', 'comment': 'The air quality is unhealthy; prolonged exposure may cause discomfort or health issues.'}, {'day': 'Tuesday', 'date': '2025-01-13', 'aqi': 287, 'condition': 'Poor', 'class': 'poor', 'comment': 'The air quality is unhealthy; prolonged exposure may cause discomfort or health issues.'}, {'day': 'Wednesday', 'date': '2025-01-14', 'aqi': 283, 'condition': 'Poor', 'class': 'poor', 'comment': 'The air quality is unhealthy; prolonged exposure may cause discomfort or health issues.'}, {'day': 'Thursday', 'date': '2025-01-15', 'aqi': 283, 'condition': 'Poor', 'class': 'poor', 'comment': 'The air quality is unhealthy; prolonged exposure may cause discomfort or health issues.'}, {'day': 'Friday', 'date': '2025-01-16', 'aqi': 281, 'condition': 'Poor', 'class': 'poor', 'comment': 'The air quality is unhealthy; prolonged exposure may cause discomfort or health issues.'}, {'day': 'Saturday', 'date': '2025-01-17', 'aqi': 278, 'condition': 'Poor', 'class': 'poor', 'comment': 'The air quality is unhealthy; prolonged exposure may cause discomfort or health issues.'}, {'day': 'Sunday', 'date': '2025-01-18', 'aqi': 275, 'condition': 'Poor', 'class': 'poor', 'comment': 'The air quality is unhealthy; prolonged exposure may cause discomfort or health issues.'}]}, 'Hyderabad': {'zoo-park, bahadurpura west, hyderabad-air-quality': [{'day': 'Monday', 'date': '2025-01-12', 'aqi': 175, 'condition': 'Moderate', 'class': 'moderate', 'comment': 'The air quality is tolerable but may cause discomfort to sensitive groups such as children and the elderly.'}, {'day': 'Tuesday', 'date': '2025-01-13', 'aqi': 175, 'condition': 'Moderate', 'class': 'moderate', 'comment': 'The air quality is tolerable but may cause discomfort to sensitive groups such as children and the elderly.'}, {'day': 'Wednesday', 'date': '2025-01-14', 'aqi': 175, 'condition': 'Moderate', 'class': 'moderate', 'comment': 'The air quality is tolerable but may cause discomfort to sensitive groups such as children and the elderly.'}, {'day': 'Thursday', 'date': '2025-01-15', 'aqi': 174, 'condition': 'Moderate', 'class': 'moderate', 'comment': 'The air quality is tolerable but may cause discomfort to sensitive groups such as children and the elderly.'}, {'day': 'Friday', 'date': '2025-01-16', 'aqi': 174, 'condition': 'Moderate', 'class': 'moderate', 'comment': 'The air quality is tolerable but may cause discomfort to sensitive groups such as children and the elderly.'}, {'day': 'Saturday', 'date': '2025-01-17', 'aqi': 173, 'condition': 'Moderate', 'class': 'moderate', 'comment': 'The air quality is tolerable but may cause discomfort to sensitive groups such as children and the elderly.'}, {'day': 'Sunday', 'date': '2025-01-18', 'aqi': 172, 'condition': 'Moderate', 'class': 'moderate', 'comment': 'The air quality is tolerable but may cause discomfort to sensitive groups such as children and the elderly.'}], 'icrisat-patancheru, hyderabad-air-quality': [{'day': 'Monday', 'date': '2025-01-12', 'aqi': 188, 'condition': 'Moderate', 'class': 'moderate', 'comment': 'The air quality is tolerable but may cause discomfort to sensitive groups such as children and the elderly.'}, {'day': 'Tuesday', 'date': '2025-01-13', 'aqi': 187, 'condition': 'Moderate', 'class': 'moderate', 'comment': 'The air quality is tolerable but may cause discomfort to sensitive groups such as children and the elderly.'}, {'day': 'Wednesday', 'date': '2025-01-14', 'aqi': 187, 'condition': 'Moderate', 'class': 'moderate', 'comment': 'The air quality is tolerable but may cause discomfort to sensitive groups such as children and the elderly.'}, {'day': 'Thursday', 'date': '2025-01-15', 'aqi': 186, 'condition': 'Moderate', 'class': 'moderate', 'comment': 'The air quality is tolerable but may cause discomfort to sensitive groups such as children and the elderly.'}, {'day': 'Friday', 'date': '2025-01-16', 'aqi': 187, 'condition': 'Moderate', 'class': 'moderate', 'comment': 'The air quality is tolerable but may cause discomfort to sensitive groups such as children and the elderly.'}, {'day': 'Saturday', 'date': '2025-01-17', 'aqi': 186, 'condition': 'Moderate', 'class': 'moderate', 'comment': 'The air quality is tolerable but may cause discomfort to sensitive groups such as children and the elderly.'}, {'day': 'Sunday', 'date': '2025-01-18', 'aqi': 184, 'condition': 'Moderate', 'class': 'moderate', 'comment': 'The air quality is tolerable but may cause discomfort to sensitive groups such as children and the elderly.'}], 'ida-pashamylaram, hyderabad-air-quality': [{'day': 'Monday', 'date': '2025-01-12', 'aqi': 202, 'condition': 'Poor', 'class': 'poor', 'comment': 'The air quality is unhealthy; prolonged exposure may cause discomfort or health issues.'}, {'day': 'Tuesday', 'date': '2025-01-13', 'aqi': 205, 'condition': 'Poor', 'class': 'poor', 'comment': 'The air quality is unhealthy; prolonged exposure may cause discomfort or health issues.'}, {'day': 'Wednesday', 'date': '2025-01-14', 'aqi': 204, 'condition': 'Poor', 'class': 'poor', 'comment': 'The air quality is unhealthy; prolonged exposure may cause discomfort or health issues.'}, {'day': 'Thursday', 'date': '2025-01-15', 'aqi': 204, 'condition': 'Poor', 'class': 'poor', 'comment': 'The air quality is unhealthy; prolonged exposure may cause discomfort or health issues.'}, {'day': 'Friday', 'date': '2025-01-16', 'aqi': 205, 'condition': 'Poor', 'class': 'poor', 'comment': 'The air quality is unhealthy; prolonged exposure may cause discomfort or health issues.'}, {'day': 'Saturday', 'date': '2025-01-17', 'aqi': 203, 'condition': 'Poor', 'class': 'poor', 'comment': 'The air quality is unhealthy; prolonged exposure may cause discomfort or health issues.'}, {'day': 'Sunday', 'date': '2025-01-18', 'aqi': 201, 'condition': 'Poor', 'class': 'poor', 'comment': 'The air quality is unhealthy; prolonged exposure may cause discomfort or health issues.'}]}}\n"
     ]
    }
   ],
   "source": [
    "print(city_predictions)"
   ]
  },
  {
   "cell_type": "code",
   "execution_count": 17,
   "id": "d50f256e-62ee-42e2-bf22-438cfdf33c6e",
   "metadata": {},
   "outputs": [
    {
     "data": {
      "text/plain": [
       "[{'day': 'Monday',\n",
       "  'date': '2025-01-12',\n",
       "  'aqi': 181,\n",
       "  'condition': 'Moderate',\n",
       "  'class': 'moderate',\n",
       "  'comment': 'The air quality is tolerable but may cause discomfort to sensitive groups such as children and the elderly.'},\n",
       " {'day': 'Tuesday',\n",
       "  'date': '2025-01-13',\n",
       "  'aqi': 182,\n",
       "  'condition': 'Moderate',\n",
       "  'class': 'moderate',\n",
       "  'comment': 'The air quality is tolerable but may cause discomfort to sensitive groups such as children and the elderly.'},\n",
       " {'day': 'Wednesday',\n",
       "  'date': '2025-01-14',\n",
       "  'aqi': 182,\n",
       "  'condition': 'Moderate',\n",
       "  'class': 'moderate',\n",
       "  'comment': 'The air quality is tolerable but may cause discomfort to sensitive groups such as children and the elderly.'},\n",
       " {'day': 'Thursday',\n",
       "  'date': '2025-01-15',\n",
       "  'aqi': 183,\n",
       "  'condition': 'Moderate',\n",
       "  'class': 'moderate',\n",
       "  'comment': 'The air quality is tolerable but may cause discomfort to sensitive groups such as children and the elderly.'},\n",
       " {'day': 'Friday',\n",
       "  'date': '2025-01-16',\n",
       "  'aqi': 183,\n",
       "  'condition': 'Moderate',\n",
       "  'class': 'moderate',\n",
       "  'comment': 'The air quality is tolerable but may cause discomfort to sensitive groups such as children and the elderly.'},\n",
       " {'day': 'Saturday',\n",
       "  'date': '2025-01-17',\n",
       "  'aqi': 183,\n",
       "  'condition': 'Moderate',\n",
       "  'class': 'moderate',\n",
       "  'comment': 'The air quality is tolerable but may cause discomfort to sensitive groups such as children and the elderly.'},\n",
       " {'day': 'Sunday',\n",
       "  'date': '2025-01-18',\n",
       "  'aqi': 181,\n",
       "  'condition': 'Moderate',\n",
       "  'class': 'moderate',\n",
       "  'comment': 'The air quality is tolerable but may cause discomfort to sensitive groups such as children and the elderly.'}]"
      ]
     },
     "execution_count": 17,
     "metadata": {},
     "output_type": "execute_result"
    }
   ],
   "source": [
    "city_predictions['Bangalore']['hebbal,-bengaluru-air-quality']"
   ]
  },
  {
   "cell_type": "code",
   "execution_count": null,
   "id": "943350e9-8563-47ec-a132-9674d27abdd3",
   "metadata": {},
   "outputs": [],
   "source": []
  }
 ],
 "metadata": {
  "kernelspec": {
   "display_name": "Python 3 (ipykernel)",
   "language": "python",
   "name": "python3"
  },
  "language_info": {
   "codemirror_mode": {
    "name": "ipython",
    "version": 3
   },
   "file_extension": ".py",
   "mimetype": "text/x-python",
   "name": "python",
   "nbconvert_exporter": "python",
   "pygments_lexer": "ipython3",
   "version": "3.12.4"
  }
 },
 "nbformat": 4,
 "nbformat_minor": 5
}
