{
 "cells": [
  {
   "cell_type": "code",
   "execution_count": 15,
   "id": "ed5ccc8f-8cf2-4939-b52f-72a51a8ee8c8",
   "metadata": {},
   "outputs": [
    {
     "name": "stdout",
     "output_type": "stream",
     "text": [
      "Real-time AQI Data from another file:\n",
      "{'delhi': {'alipur': {'aqi': 216, 'pm10': 139, 'pm25': 216, 'timestamp': '2025-01-13 00:00:00', 'status': 'Very Unhealthy', 'gradient': ['#99004c', '#66001b'], 'condition': 'Poor', 'class': 'poor', 'comment': 'The air quality is unhealthy; prolonged exposure may cause discomfort or health issues.'}, 'pusa': {'aqi': 266, 'pm10': 216, 'pm25': 266, 'timestamp': '2025-01-13 00:00:00', 'status': 'Very Unhealthy', 'gradient': ['#99004c', '#66001b'], 'condition': 'Poor', 'class': 'poor', 'comment': 'The air quality is unhealthy; prolonged exposure may cause discomfort or health issues.'}, 'r.k.-puram': {'aqi': 264, 'pm10': 168, 'pm25': 264, 'timestamp': '2025-01-13 00:00:00', 'status': 'Very Unhealthy', 'gradient': ['#99004c', '#66001b'], 'condition': 'Poor', 'class': 'poor', 'comment': 'The air quality is unhealthy; prolonged exposure may cause discomfort or health issues.'}}, 'bangalore': {'hebbal': {'aqi': 109, 'pm10': 57, 'pm25': 109, 'timestamp': '2025-01-13 00:00:00', 'status': 'Unhealthy for Sensitive Groups', 'gradient': ['#ff8800', '#ff4400'], 'condition': 'Moderate', 'class': 'moderate', 'comment': 'The air quality is tolerable but may cause discomfort to sensitive groups such as children and the elderly.'}, 'btm-layout': {'aqi': 96, 'pm10': 96, 'pm25': 78, 'timestamp': '2025-01-13 00:00:00', 'status': 'Moderate', 'gradient': ['#ffcc00', '#ff8800'], 'condition': 'Satisfactory', 'class': 'satisfactory', 'comment': 'The air quality is acceptable; sensitive individuals may experience minor discomfort.'}, 'peenya': {'aqi': 100, 'pm10': 58, 'pm25': 100, 'timestamp': '2025-01-13 00:00:00', 'status': 'Moderate', 'gradient': ['#ffcc00', '#ff8800'], 'condition': 'Satisfactory', 'class': 'satisfactory', 'comment': 'The air quality is acceptable; sensitive individuals may experience minor discomfort.'}}, 'hyderabad': {'icrisat-patancheru': {'aqi': 160, 'pm10': 98, 'pm25': 160, 'timestamp': '2025-01-13 00:00:00', 'status': 'Unhealthy', 'gradient': ['#ff4400', '#cc0000'], 'condition': 'Moderate', 'class': 'moderate', 'comment': 'The air quality is tolerable but may cause discomfort to sensitive groups such as children and the elderly.'}, 'ida-pashamylaram': {'aqi': 158, 'pm10': 1, 'pm25': 158, 'timestamp': '2025-01-13 00:00:00', 'status': 'Unhealthy', 'gradient': ['#ff4400', '#cc0000'], 'condition': 'Moderate', 'class': 'moderate', 'comment': 'The air quality is tolerable but may cause discomfort to sensitive groups such as children and the elderly.'}, 'zoo-park': {'aqi': 161, 'pm10': 113, 'pm25': 161, 'timestamp': '2025-01-13 00:00:00', 'status': 'Unhealthy', 'gradient': ['#ff4400', '#cc0000'], 'condition': 'Moderate', 'class': 'moderate', 'comment': 'The air quality is tolerable but may cause discomfort to sensitive groups such as children and the elderly.'}}, 'thiruvananthapuram': {'kariavattom': {'aqi': 79, 'pm10': 55, 'pm25': 79, 'timestamp': '2025-01-13 00:00:00', 'status': 'Moderate', 'gradient': ['#ffcc00', '#ff8800'], 'condition': 'Satisfactory', 'class': 'satisfactory', 'comment': 'The air quality is acceptable; sensitive individuals may experience minor discomfort.'}, 'plammoodu': {'aqi': 112, 'pm10': 68, 'pm25': 112, 'timestamp': '2025-01-13 00:00:00', 'status': 'Unhealthy for Sensitive Groups', 'gradient': ['#ff8800', '#ff4400'], 'condition': 'Moderate', 'class': 'moderate', 'comment': 'The air quality is tolerable but may cause discomfort to sensitive groups such as children and the elderly.'}}}\n"
     ]
    }
   ],
   "source": [
    "from real_time_fetcher import real_time_data\n",
    "\n",
    "# Use real_time_data\n",
    "print(\"Real-time AQI Data from another file:\")\n",
    "print(real_time_data)\n"
   ]
  },
  {
   "cell_type": "code",
   "execution_count": 17,
   "id": "10f23db4-b760-4dec-b1bc-c0b43862c7d0",
   "metadata": {},
   "outputs": [
    {
     "data": {
      "text/plain": [
       "{'aqi': 109,\n",
       " 'pm10': 57,\n",
       " 'pm25': 109,\n",
       " 'timestamp': '2025-01-13 00:00:00',\n",
       " 'status': 'Unhealthy for Sensitive Groups',\n",
       " 'gradient': ['#ff8800', '#ff4400'],\n",
       " 'condition': 'Moderate',\n",
       " 'class': 'moderate',\n",
       " 'comment': 'The air quality is tolerable but may cause discomfort to sensitive groups such as children and the elderly.'}"
      ]
     },
     "execution_count": 17,
     "metadata": {},
     "output_type": "execute_result"
    }
   ],
   "source": [
    "real_time_data[\"bangalore\"]['hebbal']"
   ]
  },
  {
   "cell_type": "code",
   "execution_count": null,
   "id": "782db4c4-3d1a-4b8f-9e9f-0e07b9c168e3",
   "metadata": {},
   "outputs": [],
   "source": []
  }
 ],
 "metadata": {
  "kernelspec": {
   "display_name": "Python 3 (ipykernel)",
   "language": "python",
   "name": "python3"
  },
  "language_info": {
   "codemirror_mode": {
    "name": "ipython",
    "version": 3
   },
   "file_extension": ".py",
   "mimetype": "text/x-python",
   "name": "python",
   "nbconvert_exporter": "python",
   "pygments_lexer": "ipython3",
   "version": "3.12.2"
  }
 },
 "nbformat": 4,
 "nbformat_minor": 5
}
